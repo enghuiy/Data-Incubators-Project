{
 "cells": [
  {
   "cell_type": "code",
   "execution_count": 2,
   "metadata": {
    "collapsed": false
   },
   "outputs": [
    {
     "name": "stderr",
     "output_type": "stream",
     "text": [
      "//anaconda/lib/python2.7/site-packages/pandas/computation/__init__.py:19: UserWarning: The installed version of numexpr 2.4.4 is not supported in pandas and will be not be used\n",
      "\n",
      "  UserWarning)\n"
     ]
    }
   ],
   "source": [
    "import requests\n",
    "from bs4 import BeautifulSoup\n",
    "import re\n",
    "import pandas as pd\n",
    "\n",
    "import geopandas as gpd\n",
    "import shapely\n",
    "from shapely.geometry import Point\n",
    "\n",
    "import re\n",
    "import difflib\n",
    "from collections import Counter\n",
    "from collections import defaultdict\n",
    "\n",
    "import dill\n",
    "import folium\n"
   ]
  },
  {
   "cell_type": "markdown",
   "metadata": {},
   "source": [
    "# refshape"
   ]
  },
  {
   "cell_type": "code",
   "execution_count": 3,
   "metadata": {
    "collapsed": false
   },
   "outputs": [],
   "source": [
    "df_refshape = dill.load(open('../OUTDATA/refshape_sch2015.dill','rb'))\n",
    "refSHP=df_refshape['geometry'].tolist()\n"
   ]
  },
  {
   "cell_type": "code",
   "execution_count": 23,
   "metadata": {
    "collapsed": false
   },
   "outputs": [
    {
     "data": {
      "text/html": [
       "<div>\n",
       "<table border=\"1\" class=\"dataframe\">\n",
       "  <thead>\n",
       "    <tr style=\"text-align: right;\">\n",
       "      <th></th>\n",
       "      <th>name</th>\n",
       "      <th>geoid</th>\n",
       "      <th>county</th>\n",
       "      <th>centroid</th>\n",
       "      <th>geometry</th>\n",
       "      <th>json</th>\n",
       "    </tr>\n",
       "  </thead>\n",
       "  <tbody>\n",
       "    <tr>\n",
       "      <th>0</th>\n",
       "      <td>North Shore Central School District</td>\n",
       "      <td>3626370</td>\n",
       "      <td>Nassau</td>\n",
       "      <td>(-73.6239251152, 40.8362893218)</td>\n",
       "      <td>POLYGON ((-73.67107299999999 40.859299, -73.65...</td>\n",
       "      <td>{\"type\": \"FeatureCollection\", \"features\": [{\"g...</td>\n",
       "    </tr>\n",
       "    <tr>\n",
       "      <th>1</th>\n",
       "      <td>Seaford Union Free School District</td>\n",
       "      <td>3626400</td>\n",
       "      <td>Nassau</td>\n",
       "      <td>(-73.4887751411, 40.5975612621)</td>\n",
       "      <td>POLYGON ((-73.50683099999999 40.666806, -73.50...</td>\n",
       "      <td>{\"type\": \"FeatureCollection\", \"features\": [{\"g...</td>\n",
       "    </tr>\n",
       "    <tr>\n",
       "      <th>2</th>\n",
       "      <td>Uniondale Union Free School District</td>\n",
       "      <td>3629280</td>\n",
       "      <td>Nassau</td>\n",
       "      <td>(-73.5972693079, 40.7139621285)</td>\n",
       "      <td>POLYGON ((-73.619737 40.68251799999999, -73.61...</td>\n",
       "      <td>{\"type\": \"FeatureCollection\", \"features\": [{\"g...</td>\n",
       "    </tr>\n",
       "  </tbody>\n",
       "</table>\n",
       "</div>"
      ],
      "text/plain": [
       "                                   name    geoid  county  \\\n",
       "0   North Shore Central School District  3626370  Nassau   \n",
       "1    Seaford Union Free School District  3626400  Nassau   \n",
       "2  Uniondale Union Free School District  3629280  Nassau   \n",
       "\n",
       "                          centroid  \\\n",
       "0  (-73.6239251152, 40.8362893218)   \n",
       "1  (-73.4887751411, 40.5975612621)   \n",
       "2  (-73.5972693079, 40.7139621285)   \n",
       "\n",
       "                                            geometry  \\\n",
       "0  POLYGON ((-73.67107299999999 40.859299, -73.65...   \n",
       "1  POLYGON ((-73.50683099999999 40.666806, -73.50...   \n",
       "2  POLYGON ((-73.619737 40.68251799999999, -73.61...   \n",
       "\n",
       "                                                json  \n",
       "0  {\"type\": \"FeatureCollection\", \"features\": [{\"g...  \n",
       "1  {\"type\": \"FeatureCollection\", \"features\": [{\"g...  \n",
       "2  {\"type\": \"FeatureCollection\", \"features\": [{\"g...  "
      ]
     },
     "execution_count": 23,
     "metadata": {},
     "output_type": "execute_result"
    }
   ],
   "source": [
    "df_refshape[]"
   ]
  },
  {
   "cell_type": "code",
   "execution_count": null,
   "metadata": {
    "collapsed": true
   },
   "outputs": [],
   "source": []
  },
  {
   "cell_type": "markdown",
   "metadata": {},
   "source": [
    "# Pricing data from zillow"
   ]
  },
  {
   "cell_type": "markdown",
   "metadata": {},
   "source": [
    "## (a) assign zillow regions to refshape"
   ]
  },
  {
   "cell_type": "code",
   "execution_count": 4,
   "metadata": {
    "collapsed": true
   },
   "outputs": [],
   "source": [
    "zillow_read=pd.read_csv('./Zillow/City_Zhvi_SingleFamilyResidence.csv')\n",
    "zillow_city_ny=zillow_read[zillow_read['State'].str.contains('NY')]\n"
   ]
  },
  {
   "cell_type": "code",
   "execution_count": 15,
   "metadata": {
    "collapsed": false
   },
   "outputs": [
    {
     "name": "stdout",
     "output_type": "stream",
     "text": [
      "956\n"
     ]
    },
    {
     "data": {
      "text/html": [
       "<div>\n",
       "<table border=\"1\" class=\"dataframe\">\n",
       "  <thead>\n",
       "    <tr style=\"text-align: right;\">\n",
       "      <th></th>\n",
       "      <th>RegionID</th>\n",
       "      <th>RegionName</th>\n",
       "      <th>State</th>\n",
       "      <th>Metro</th>\n",
       "      <th>CountyName</th>\n",
       "      <th>SizeRank</th>\n",
       "      <th>1996-04</th>\n",
       "      <th>1996-05</th>\n",
       "      <th>1996-06</th>\n",
       "      <th>1996-07</th>\n",
       "      <th>...</th>\n",
       "      <th>2015-04</th>\n",
       "      <th>2015-05</th>\n",
       "      <th>2015-06</th>\n",
       "      <th>2015-07</th>\n",
       "      <th>2015-08</th>\n",
       "      <th>2015-09</th>\n",
       "      <th>2015-10</th>\n",
       "      <th>2015-11</th>\n",
       "      <th>2015-12</th>\n",
       "      <th>2016-01</th>\n",
       "    </tr>\n",
       "  </thead>\n",
       "  <tbody>\n",
       "    <tr>\n",
       "      <th>0</th>\n",
       "      <td>6181</td>\n",
       "      <td>New York</td>\n",
       "      <td>NY</td>\n",
       "      <td>New York</td>\n",
       "      <td>Queens</td>\n",
       "      <td>1</td>\n",
       "      <td>NaN</td>\n",
       "      <td>NaN</td>\n",
       "      <td>NaN</td>\n",
       "      <td>NaN</td>\n",
       "      <td>...</td>\n",
       "      <td>487300</td>\n",
       "      <td>490200</td>\n",
       "      <td>492200.0</td>\n",
       "      <td>493800</td>\n",
       "      <td>495800</td>\n",
       "      <td>497900</td>\n",
       "      <td>501400</td>\n",
       "      <td>505900</td>\n",
       "      <td>510500</td>\n",
       "      <td>514000</td>\n",
       "    </tr>\n",
       "    <tr>\n",
       "      <th>101</th>\n",
       "      <td>13550</td>\n",
       "      <td>Rochester</td>\n",
       "      <td>NY</td>\n",
       "      <td>Rochester</td>\n",
       "      <td>Monroe</td>\n",
       "      <td>102</td>\n",
       "      <td>53100.0</td>\n",
       "      <td>54700.0</td>\n",
       "      <td>54900.0</td>\n",
       "      <td>54500.0</td>\n",
       "      <td>...</td>\n",
       "      <td>63600</td>\n",
       "      <td>63800</td>\n",
       "      <td>64000.0</td>\n",
       "      <td>64000</td>\n",
       "      <td>64000</td>\n",
       "      <td>63900</td>\n",
       "      <td>63900</td>\n",
       "      <td>63600</td>\n",
       "      <td>63600</td>\n",
       "      <td>63700</td>\n",
       "    </tr>\n",
       "    <tr>\n",
       "      <th>138</th>\n",
       "      <td>34937</td>\n",
       "      <td>Yonkers</td>\n",
       "      <td>NY</td>\n",
       "      <td>New York</td>\n",
       "      <td>Westchester</td>\n",
       "      <td>139</td>\n",
       "      <td>190700.0</td>\n",
       "      <td>192100.0</td>\n",
       "      <td>191100.0</td>\n",
       "      <td>189400.0</td>\n",
       "      <td>...</td>\n",
       "      <td>381700</td>\n",
       "      <td>382900</td>\n",
       "      <td>383100.0</td>\n",
       "      <td>384200</td>\n",
       "      <td>386700</td>\n",
       "      <td>388100</td>\n",
       "      <td>388500</td>\n",
       "      <td>390300</td>\n",
       "      <td>393400</td>\n",
       "      <td>395900</td>\n",
       "    </tr>\n",
       "  </tbody>\n",
       "</table>\n",
       "<p>3 rows × 244 columns</p>\n",
       "</div>"
      ],
      "text/plain": [
       "     RegionID RegionName State      Metro   CountyName  SizeRank   1996-04  \\\n",
       "0        6181   New York    NY   New York       Queens         1       NaN   \n",
       "101     13550  Rochester    NY  Rochester       Monroe       102   53100.0   \n",
       "138     34937    Yonkers    NY   New York  Westchester       139  190700.0   \n",
       "\n",
       "      1996-05   1996-06   1996-07   ...     2015-04  2015-05   2015-06  \\\n",
       "0         NaN       NaN       NaN   ...      487300   490200  492200.0   \n",
       "101   54700.0   54900.0   54500.0   ...       63600    63800   64000.0   \n",
       "138  192100.0  191100.0  189400.0   ...      381700   382900  383100.0   \n",
       "\n",
       "     2015-07  2015-08  2015-09  2015-10  2015-11  2015-12  2016-01  \n",
       "0     493800   495800   497900   501400   505900   510500   514000  \n",
       "101    64000    64000    63900    63900    63600    63600    63700  \n",
       "138   384200   386700   388100   388500   390300   393400   395900  \n",
       "\n",
       "[3 rows x 244 columns]"
      ]
     },
     "execution_count": 15,
     "metadata": {},
     "output_type": "execute_result"
    }
   ],
   "source": [
    "print len(zillow_city_ny)\n",
    "zillow_city_ny[:3]"
   ]
  },
  {
   "cell_type": "markdown",
   "metadata": {},
   "source": [
    "### (i) use zillow API to get longitude,latitude by regionid"
   ]
  },
  {
   "cell_type": "code",
   "execution_count": null,
   "metadata": {
    "collapsed": true
   },
   "outputs": [],
   "source": [
    "regionids_nyC=zillow_city_ny['RegionID'].tolist()\n"
   ]
  },
  {
   "cell_type": "code",
   "execution_count": 8,
   "metadata": {
    "collapsed": true
   },
   "outputs": [],
   "source": [
    "def z_getRegionChildren (session,regionID,df,myzillowid):\n",
    "\n",
    "    payload = {'zws-id':myzillowid,'regionId':regionID}\n",
    "    r = session.get(zillow_api_url,params=payload)\n",
    "    soup=BeautifulSoup(r.text)\n",
    "    main_latitude = float(soup.latitude.string)\n",
    "    main_longitude = float(soup.longitude.string)\n",
    "    nSubregions = int (soup.list.count.text)\n",
    "    data=[]\n",
    "    if nSubregions > 0:\n",
    "        sub_regiontype=soup.subregiontype.string\n",
    "        for sub_region in soup.list.find_all('region'):\n",
    "            sub_region_id = int(sub_region.id.string)\n",
    "            sub_name = sub_region.find('name').string\n",
    "            sub_latitude = float(sub_region.latitude.string)\n",
    "            sub_longitude = float(sub_region.longitude.string)\n",
    "            if not sub_region.zindex:\n",
    "                sub_price = main_price\n",
    "            else: \n",
    "                sub_price = int(sub_region.zindex.string)\n",
    "            data.append( (regionID,sub_regiontype,sub_region_id,sub_name,sub_latitude,sub_longitude,sub_price))\n",
    "    else:\n",
    "        data.append( (regionID,'main',regionID,main_name,main_latitude,main_longitude,main_price))\n",
    "    return data"
   ]
  },
  {
   "cell_type": "code",
   "execution_count": null,
   "metadata": {
    "collapsed": true
   },
   "outputs": [],
   "source": [
    "zillow_api_url='http://www.zillow.com/webservice/GetRegionChildren.htm'\n",
    "s = requests.Session()\n",
    "n=0\n",
    "zillow_ny_regionData = [];\n",
    "for regionID in regionids_nyC: \n",
    "    main_name = zillow_nycity[zillow_nycity['RegionID']==regionID].iat[0,1]\n",
    "    main_price = zillow_nycity[zillow_nycity['RegionID']==regionID].iat[0,-1]\n",
    "    datatuple =  z_getRegionChildren (s,regionID,zillow_nycity,myzillowid)\n",
    "    zillow_ny_regionData.extend(datatuple)\n",
    "    if (n%20==0):\n",
    "        print n\n",
    "    n+=1\n",
    "    \n",
    "# save data as file\n",
    "with open ('../OUTDATA/zillow_ny_regionData.csv','w') as file:\n",
    "    file.write(\"ZIDM,ZTYPE,ZIDS,ZNAMES,ZLAT,ZLONG,ZPRICE\\n\")\n",
    "    for line in zillow_ny_regionData:\n",
    "        file.write( \"%d,%s,%d,%s,%f,%f,%9.1f\\n\" %line)\n"
   ]
  },
  {
   "cell_type": "markdown",
   "metadata": {},
   "source": [
    "### ii) assign zillow region/subregion to corresponding refshapes"
   ]
  },
  {
   "cell_type": "code",
   "execution_count": 147,
   "metadata": {
    "collapsed": true
   },
   "outputs": [],
   "source": [
    "# read the data\n",
    "df_zillow_ny_regionData=pd.read_csv('../OUTDATA/zillow_ny_regionData.csv')\n",
    "#df_zillow_ny_regionData[df_zillow_ny_regionData['ZIDM']==6181] == new york city"
   ]
  },
  {
   "cell_type": "code",
   "execution_count": 60,
   "metadata": {
    "collapsed": true
   },
   "outputs": [],
   "source": [
    "# given a point and a list of shapes, \n",
    "#find which shape(1) the point is in\n",
    "# assign to -1 if no match found\n",
    "\n",
    "def findEncompassingShape(point,shapelist):\n",
    "    for i,shape in enumerate(shapelist):\n",
    "        if shape.contains(point):\n",
    "            return i\n",
    "    return -1\n",
    "\n",
    "def assignPoint2Shape(sourceindex,sourcePointList,targetindex,targetShapelist):\n",
    "    indexlist=[]\n",
    "    for i,z in enumerate(sourcePointList): \n",
    "        p = Point(z)\n",
    "        assigned_j = findEncompassingShape(p,targetShapelist)\n",
    "        assigned_target_index = targetindex[assigned_j] if assigned_j > -1 else -1\n",
    "        indexlist.append((sourceindex[i], assigned_target_index))\n",
    "    return indexlist"
   ]
  },
  {
   "cell_type": "markdown",
   "metadata": {},
   "source": [
    "# Pricing Data"
   ]
  },
  {
   "cell_type": "code",
   "execution_count": 11,
   "metadata": {
    "collapsed": true
   },
   "outputs": [],
   "source": [
    "# (1:1) assignment of each zillow region to school districts\n",
    "\n",
    "# input data (points)\n",
    "zippedCoord=zip(* (df_zillow_ny_regionData['ZLONG'].tolist(),df_zillow_ny_regionData['ZLAT'].tolist()))\n",
    "\n",
    "        "
   ]
  },
  {
   "cell_type": "markdown",
   "metadata": {},
   "source": [
    "# ROI Data\n",
    "\n",
    "1. join 10yr pricing date to zillow-long-lat data (956), compute ROI\n",
    "2. assign index wrt refshape\n",
    "3. merge to refshape"
   ]
  },
  {
   "cell_type": "code",
   "execution_count": 14,
   "metadata": {
    "collapsed": false
   },
   "outputs": [
    {
     "name": "stdout",
     "output_type": "stream",
     "text": [
      "1799\n",
      "1799\n"
     ]
    }
   ],
   "source": [
    "print len(df_zillow_ny_regionData)\n",
    "print len(assign_zRegion2RefSHP)"
   ]
  },
  {
   "cell_type": "code",
   "execution_count": 150,
   "metadata": {
    "collapsed": false
   },
   "outputs": [
    {
     "name": "stdout",
     "output_type": "stream",
     "text": [
      "956\n"
     ]
    },
    {
     "data": {
      "text/html": [
       "<div>\n",
       "<table border=\"1\" class=\"dataframe\">\n",
       "  <thead>\n",
       "    <tr style=\"text-align: right;\">\n",
       "      <th></th>\n",
       "      <th>ZLAT</th>\n",
       "      <th>ZLONG</th>\n",
       "    </tr>\n",
       "    <tr>\n",
       "      <th>ZIDM</th>\n",
       "      <th></th>\n",
       "      <th></th>\n",
       "    </tr>\n",
       "  </thead>\n",
       "  <tbody>\n",
       "    <tr>\n",
       "      <th>3521</th>\n",
       "      <td>43.009612</td>\n",
       "      <td>-73.853321</td>\n",
       "    </tr>\n",
       "    <tr>\n",
       "      <th>3736</th>\n",
       "      <td>40.770760</td>\n",
       "      <td>-73.126863</td>\n",
       "    </tr>\n",
       "    <tr>\n",
       "      <th>3789</th>\n",
       "      <td>42.588744</td>\n",
       "      <td>-79.018007</td>\n",
       "    </tr>\n",
       "  </tbody>\n",
       "</table>\n",
       "</div>"
      ],
      "text/plain": [
       "           ZLAT      ZLONG\n",
       "ZIDM                      \n",
       "3521  43.009612 -73.853321\n",
       "3736  40.770760 -73.126863\n",
       "3789  42.588744 -79.018007"
      ]
     },
     "execution_count": 150,
     "metadata": {},
     "output_type": "execute_result"
    }
   ],
   "source": [
    "df_zillow_ny_regionData_bycity = df_zillow_ny_regionData[['ZLAT','ZLONG','ZIDM']].groupby('ZIDM').mean()\n",
    "print len(df_zillow_ny_regionData_bycity)\n",
    "df_zillow_ny_regionData_bycity[:3]"
   ]
  },
  {
   "cell_type": "code",
   "execution_count": 156,
   "metadata": {
    "collapsed": false
   },
   "outputs": [
    {
     "name": "stdout",
     "output_type": "stream",
     "text": [
      "956\n"
     ]
    },
    {
     "data": {
      "text/html": [
       "<div>\n",
       "<table border=\"1\" class=\"dataframe\">\n",
       "  <thead>\n",
       "    <tr style=\"text-align: right;\">\n",
       "      <th></th>\n",
       "      <th>RegionID</th>\n",
       "      <th>RegionName</th>\n",
       "      <th>State</th>\n",
       "      <th>Metro</th>\n",
       "      <th>CountyName</th>\n",
       "      <th>SizeRank</th>\n",
       "      <th>1996-04</th>\n",
       "      <th>1996-05</th>\n",
       "      <th>1996-06</th>\n",
       "      <th>1996-07</th>\n",
       "      <th>...</th>\n",
       "      <th>2015-06</th>\n",
       "      <th>2015-07</th>\n",
       "      <th>2015-08</th>\n",
       "      <th>2015-09</th>\n",
       "      <th>2015-10</th>\n",
       "      <th>2015-11</th>\n",
       "      <th>2015-12</th>\n",
       "      <th>2016-01</th>\n",
       "      <th>ZLAT</th>\n",
       "      <th>ZLONG</th>\n",
       "    </tr>\n",
       "  </thead>\n",
       "  <tbody>\n",
       "    <tr>\n",
       "      <th>0</th>\n",
       "      <td>6181</td>\n",
       "      <td>New York</td>\n",
       "      <td>NY</td>\n",
       "      <td>New York</td>\n",
       "      <td>Queens</td>\n",
       "      <td>1</td>\n",
       "      <td>NaN</td>\n",
       "      <td>NaN</td>\n",
       "      <td>NaN</td>\n",
       "      <td>NaN</td>\n",
       "      <td>...</td>\n",
       "      <td>492200.0</td>\n",
       "      <td>493800</td>\n",
       "      <td>495800</td>\n",
       "      <td>497900</td>\n",
       "      <td>501400</td>\n",
       "      <td>505900</td>\n",
       "      <td>510500</td>\n",
       "      <td>514000</td>\n",
       "      <td>40.727718</td>\n",
       "      <td>-73.940724</td>\n",
       "    </tr>\n",
       "    <tr>\n",
       "      <th>101</th>\n",
       "      <td>13550</td>\n",
       "      <td>Rochester</td>\n",
       "      <td>NY</td>\n",
       "      <td>Rochester</td>\n",
       "      <td>Monroe</td>\n",
       "      <td>102</td>\n",
       "      <td>53100.0</td>\n",
       "      <td>54700.0</td>\n",
       "      <td>54900.0</td>\n",
       "      <td>54500.0</td>\n",
       "      <td>...</td>\n",
       "      <td>64000.0</td>\n",
       "      <td>64000</td>\n",
       "      <td>64000</td>\n",
       "      <td>63900</td>\n",
       "      <td>63900</td>\n",
       "      <td>63600</td>\n",
       "      <td>63600</td>\n",
       "      <td>63700</td>\n",
       "      <td>43.162336</td>\n",
       "      <td>-77.609158</td>\n",
       "    </tr>\n",
       "    <tr>\n",
       "      <th>138</th>\n",
       "      <td>34937</td>\n",
       "      <td>Yonkers</td>\n",
       "      <td>NY</td>\n",
       "      <td>New York</td>\n",
       "      <td>Westchester</td>\n",
       "      <td>139</td>\n",
       "      <td>190700.0</td>\n",
       "      <td>192100.0</td>\n",
       "      <td>191100.0</td>\n",
       "      <td>189400.0</td>\n",
       "      <td>...</td>\n",
       "      <td>383100.0</td>\n",
       "      <td>384200</td>\n",
       "      <td>386700</td>\n",
       "      <td>388100</td>\n",
       "      <td>388500</td>\n",
       "      <td>390300</td>\n",
       "      <td>393400</td>\n",
       "      <td>395900</td>\n",
       "      <td>40.941763</td>\n",
       "      <td>-73.877682</td>\n",
       "    </tr>\n",
       "  </tbody>\n",
       "</table>\n",
       "<p>3 rows × 246 columns</p>\n",
       "</div>"
      ],
      "text/plain": [
       "     RegionID RegionName State      Metro   CountyName  SizeRank   1996-04  \\\n",
       "0        6181   New York    NY   New York       Queens         1       NaN   \n",
       "101     13550  Rochester    NY  Rochester       Monroe       102   53100.0   \n",
       "138     34937    Yonkers    NY   New York  Westchester       139  190700.0   \n",
       "\n",
       "      1996-05   1996-06   1996-07    ...       2015-06  2015-07  2015-08  \\\n",
       "0         NaN       NaN       NaN    ...      492200.0   493800   495800   \n",
       "101   54700.0   54900.0   54500.0    ...       64000.0    64000    64000   \n",
       "138  192100.0  191100.0  189400.0    ...      383100.0   384200   386700   \n",
       "\n",
       "     2015-09  2015-10  2015-11  2015-12  2016-01       ZLAT      ZLONG  \n",
       "0     497900   501400   505900   510500   514000  40.727718 -73.940724  \n",
       "101    63900    63900    63600    63600    63700  43.162336 -77.609158  \n",
       "138   388100   388500   390300   393400   395900  40.941763 -73.877682  \n",
       "\n",
       "[3 rows x 246 columns]"
      ]
     },
     "execution_count": 156,
     "metadata": {},
     "output_type": "execute_result"
    }
   ],
   "source": [
    "# join lat-long data to pricing data\n",
    "zillow_city_ny=pd.merge(zillow_city_ny,df_zillow_ny_regionData_bycity,left_on='RegionID',right_index=True,how='inner')\n",
    "print len(zillow_city_ny)\n",
    "zillow_city_ny[:3]\n"
   ]
  },
  {
   "cell_type": "code",
   "execution_count": 157,
   "metadata": {
    "collapsed": false
   },
   "outputs": [
    {
     "data": {
      "text/plain": [
       "array([  0, 101, 138])"
      ]
     },
     "execution_count": 157,
     "metadata": {},
     "output_type": "execute_result"
    }
   ],
   "source": [
    "zillow_city_ny.index.values[:3]"
   ]
  },
  {
   "cell_type": "code",
   "execution_count": 158,
   "metadata": {
    "collapsed": false
   },
   "outputs": [],
   "source": [
    "# (1:1) assignment of each zillow city region to refshape\n",
    "\n",
    "# input data (points)\n",
    "source_index = zillow_city_ny.index.values\n",
    "source_points =zip(* (zillow_city_ny['ZLONG'].tolist(),zillow_city_ny['ZLAT'].tolist()))\n",
    "\n",
    "target_index = df_refshape.index.values\n",
    "target_shapes = df_refshape['geometry'].tolist()\n",
    "\n",
    "\n",
    "assignment_zCity2RefSHP = assignPoint2Shape(source_index,source_points,target_index,target_shapes)\n"
   ]
  },
  {
   "cell_type": "code",
   "execution_count": 159,
   "metadata": {
    "collapsed": false
   },
   "outputs": [
    {
     "data": {
      "text/plain": [
       "956"
      ]
     },
     "execution_count": 159,
     "metadata": {},
     "output_type": "execute_result"
    }
   ],
   "source": [
    "len(assignment_zCity2RefSHP)"
   ]
  },
  {
   "cell_type": "code",
   "execution_count": 198,
   "metadata": {
    "collapsed": false,
    "scrolled": true
   },
   "outputs": [
    {
     "name": "stdout",
     "output_type": "stream",
     "text": [
      "956\n",
      "956\n",
      "956\n"
     ]
    },
    {
     "data": {
      "text/html": [
       "<div>\n",
       "<table border=\"1\" class=\"dataframe\">\n",
       "  <thead>\n",
       "    <tr style=\"text-align: right;\">\n",
       "      <th></th>\n",
       "      <th>RegionID</th>\n",
       "      <th>RegionName</th>\n",
       "      <th>Metro</th>\n",
       "      <th>CountyName</th>\n",
       "      <th>2006-01</th>\n",
       "      <th>2016-01</th>\n",
       "      <th>refshpindex</th>\n",
       "    </tr>\n",
       "  </thead>\n",
       "  <tbody>\n",
       "    <tr>\n",
       "      <th>0</th>\n",
       "      <td>6181</td>\n",
       "      <td>New York</td>\n",
       "      <td>New York</td>\n",
       "      <td>Queens</td>\n",
       "      <td>480300.0</td>\n",
       "      <td>514000</td>\n",
       "      <td>299</td>\n",
       "    </tr>\n",
       "    <tr>\n",
       "      <th>1</th>\n",
       "      <td>13550</td>\n",
       "      <td>Rochester</td>\n",
       "      <td>Rochester</td>\n",
       "      <td>Monroe</td>\n",
       "      <td>58000.0</td>\n",
       "      <td>63700</td>\n",
       "      <td>189</td>\n",
       "    </tr>\n",
       "    <tr>\n",
       "      <th>2</th>\n",
       "      <td>34937</td>\n",
       "      <td>Yonkers</td>\n",
       "      <td>New York</td>\n",
       "      <td>Westchester</td>\n",
       "      <td>484200.0</td>\n",
       "      <td>395900</td>\n",
       "      <td>199</td>\n",
       "    </tr>\n",
       "  </tbody>\n",
       "</table>\n",
       "</div>"
      ],
      "text/plain": [
       "   RegionID RegionName      Metro   CountyName   2006-01  2016-01  refshpindex\n",
       "0      6181   New York   New York       Queens  480300.0   514000          299\n",
       "1     13550  Rochester  Rochester       Monroe   58000.0    63700          189\n",
       "2     34937    Yonkers   New York  Westchester  484200.0   395900          199"
      ]
     },
     "execution_count": 198,
     "metadata": {},
     "output_type": "execute_result"
    }
   ],
   "source": [
    "# merge ROI data to refshape\n",
    "\n",
    "source=zillow_city_ny\n",
    "target=df_refshape\n",
    "\n",
    "df_assign = pd.DataFrame(assignment_zCity2RefSHP,columns=['sourceind','targetind'])\n",
    "t1=pd.merge(source,df_assign,left_index=True,right_on='sourceind')\n",
    "t2=pd.merge(t1,target[['name']],left_on='targetind',right_index = True,how='inner')\n",
    "print len(df_assign)\n",
    "print len(t1)\n",
    "print len(t2)\n",
    "# select columns\n",
    "df_price_shape = t2[['RegionID','RegionName','Metro','CountyName','2006-01','2016-01','targetind']]#df_crimerate_shape[:3]\n",
    "df_price_shape.rename(columns={'targetind':'refshpindex'},inplace=True)\n",
    "df_price_shape[:3]\n"
   ]
  },
  {
   "cell_type": "code",
   "execution_count": 163,
   "metadata": {
    "collapsed": false
   },
   "outputs": [
    {
     "data": {
      "text/plain": [
       "29"
      ]
     },
     "execution_count": 163,
     "metadata": {},
     "output_type": "execute_result"
    }
   ],
   "source": [
    "# number of null entries at the 10 year mark\n",
    "len(t2[pd.isnull(t2['2006-01'])])"
   ]
  },
  {
   "cell_type": "code",
   "execution_count": 199,
   "metadata": {
    "collapsed": false
   },
   "outputs": [
    {
     "name": "stderr",
     "output_type": "stream",
     "text": [
      "/anaconda/lib/python2.7/site-packages/ipykernel/__main__.py:3: SettingWithCopyWarning: \n",
      "A value is trying to be set on a copy of a slice from a DataFrame.\n",
      "Try using .loc[row_indexer,col_indexer] = value instead\n",
      "\n",
      "See the caveats in the documentation: http://pandas.pydata.org/pandas-docs/stable/indexing.html#indexing-view-versus-copy\n",
      "  app.launch_new_instance()\n"
     ]
    }
   ],
   "source": [
    "# compute the N-yr ROI\n",
    "duration=10 # years\n",
    "df_price_shape['roi'] = (df_price_shape['2016-01']-df_price_shape['2006-01'])/df_price_shape['2006-01']/duration*100"
   ]
  },
  {
   "cell_type": "code",
   "execution_count": 200,
   "metadata": {
    "collapsed": false,
    "scrolled": true
   },
   "outputs": [
    {
     "name": "stdout",
     "output_type": "stream",
     "text": [
      "509\n"
     ]
    },
    {
     "data": {
      "text/html": [
       "<div>\n",
       "<table border=\"1\" class=\"dataframe\">\n",
       "  <thead>\n",
       "    <tr style=\"text-align: right;\">\n",
       "      <th></th>\n",
       "      <th>roi</th>\n",
       "    </tr>\n",
       "    <tr>\n",
       "      <th>refshpindex</th>\n",
       "      <th></th>\n",
       "    </tr>\n",
       "  </thead>\n",
       "  <tbody>\n",
       "    <tr>\n",
       "      <th>0</th>\n",
       "      <td>-0.134523</td>\n",
       "    </tr>\n",
       "    <tr>\n",
       "      <th>1</th>\n",
       "      <td>-1.439441</td>\n",
       "    </tr>\n",
       "  </tbody>\n",
       "</table>\n",
       "</div>"
      ],
      "text/plain": [
       "                  roi\n",
       "refshpindex          \n",
       "0           -0.134523\n",
       "1           -1.439441"
      ]
     },
     "execution_count": 200,
     "metadata": {},
     "output_type": "execute_result"
    }
   ],
   "source": [
    "# multiple zillow-regions point to the same refshape: => avg their ROI\n",
    "df1 = df_price_shape[['refshpindex','roi']].groupby('refshpindex').mean()\n",
    "print len(df1)\n",
    "df1[:2]\n"
   ]
  },
  {
   "cell_type": "code",
   "execution_count": 201,
   "metadata": {
    "collapsed": false
   },
   "outputs": [
    {
     "data": {
      "text/html": [
       "<div>\n",
       "<table border=\"1\" class=\"dataframe\">\n",
       "  <thead>\n",
       "    <tr style=\"text-align: right;\">\n",
       "      <th></th>\n",
       "      <th>RegionID</th>\n",
       "      <th>RegionName</th>\n",
       "      <th>Metro</th>\n",
       "      <th>CountyName</th>\n",
       "      <th>2006-01</th>\n",
       "      <th>2016-01</th>\n",
       "    </tr>\n",
       "    <tr>\n",
       "      <th>refshpindex</th>\n",
       "      <th></th>\n",
       "      <th></th>\n",
       "      <th></th>\n",
       "      <th></th>\n",
       "      <th></th>\n",
       "      <th></th>\n",
       "    </tr>\n",
       "  </thead>\n",
       "  <tbody>\n",
       "    <tr>\n",
       "      <th>0</th>\n",
       "      <td>13747</td>\n",
       "      <td>Sea Cliff</td>\n",
       "      <td>New York</td>\n",
       "      <td>Nassau</td>\n",
       "      <td>683900.0</td>\n",
       "      <td>674700</td>\n",
       "    </tr>\n",
       "    <tr>\n",
       "      <th>1</th>\n",
       "      <td>33904</td>\n",
       "      <td>Seaford</td>\n",
       "      <td>New York</td>\n",
       "      <td>Nassau</td>\n",
       "      <td>486300.0</td>\n",
       "      <td>416300</td>\n",
       "    </tr>\n",
       "    <tr>\n",
       "      <th>2</th>\n",
       "      <td>41341</td>\n",
       "      <td>Uniondale</td>\n",
       "      <td>New York</td>\n",
       "      <td>Nassau</td>\n",
       "      <td>381900.0</td>\n",
       "      <td>310500</td>\n",
       "    </tr>\n",
       "  </tbody>\n",
       "</table>\n",
       "</div>"
      ],
      "text/plain": [
       "             RegionID RegionName     Metro CountyName   2006-01  2016-01\n",
       "refshpindex                                                             \n",
       "0               13747  Sea Cliff  New York     Nassau  683900.0   674700\n",
       "1               33904    Seaford  New York     Nassau  486300.0   416300\n",
       "2               41341  Uniondale  New York     Nassau  381900.0   310500"
      ]
     },
     "execution_count": 201,
     "metadata": {},
     "output_type": "execute_result"
    }
   ],
   "source": [
    "df2 = df_price_shape.groupby('refshpindex').first()\n",
    "del df2['roi']\n",
    "df2[:3]"
   ]
  },
  {
   "cell_type": "code",
   "execution_count": 202,
   "metadata": {
    "collapsed": false
   },
   "outputs": [
    {
     "name": "stdout",
     "output_type": "stream",
     "text": [
      "509\n"
     ]
    },
    {
     "data": {
      "text/html": [
       "<div>\n",
       "<table border=\"1\" class=\"dataframe\">\n",
       "  <thead>\n",
       "    <tr style=\"text-align: right;\">\n",
       "      <th></th>\n",
       "      <th>RegionID</th>\n",
       "      <th>RegionName</th>\n",
       "      <th>Metro</th>\n",
       "      <th>CountyName</th>\n",
       "      <th>2006-01</th>\n",
       "      <th>2016-01</th>\n",
       "      <th>roi</th>\n",
       "    </tr>\n",
       "    <tr>\n",
       "      <th>refshape</th>\n",
       "      <th></th>\n",
       "      <th></th>\n",
       "      <th></th>\n",
       "      <th></th>\n",
       "      <th></th>\n",
       "      <th></th>\n",
       "      <th></th>\n",
       "    </tr>\n",
       "  </thead>\n",
       "  <tbody>\n",
       "    <tr>\n",
       "      <th>0</th>\n",
       "      <td>13747</td>\n",
       "      <td>Sea Cliff</td>\n",
       "      <td>New York</td>\n",
       "      <td>Nassau</td>\n",
       "      <td>683900.0</td>\n",
       "      <td>674700</td>\n",
       "      <td>-0.134523</td>\n",
       "    </tr>\n",
       "    <tr>\n",
       "      <th>1</th>\n",
       "      <td>33904</td>\n",
       "      <td>Seaford</td>\n",
       "      <td>New York</td>\n",
       "      <td>Nassau</td>\n",
       "      <td>486300.0</td>\n",
       "      <td>416300</td>\n",
       "      <td>-1.439441</td>\n",
       "    </tr>\n",
       "    <tr>\n",
       "      <th>2</th>\n",
       "      <td>41341</td>\n",
       "      <td>Uniondale</td>\n",
       "      <td>New York</td>\n",
       "      <td>Nassau</td>\n",
       "      <td>381900.0</td>\n",
       "      <td>310500</td>\n",
       "      <td>-1.869599</td>\n",
       "    </tr>\n",
       "  </tbody>\n",
       "</table>\n",
       "</div>"
      ],
      "text/plain": [
       "          RegionID RegionName     Metro CountyName   2006-01  2016-01  \\\n",
       "refshape                                                                \n",
       "0            13747  Sea Cliff  New York     Nassau  683900.0   674700   \n",
       "1            33904    Seaford  New York     Nassau  486300.0   416300   \n",
       "2            41341  Uniondale  New York     Nassau  381900.0   310500   \n",
       "\n",
       "               roi  \n",
       "refshape            \n",
       "0        -0.134523  \n",
       "1        -1.439441  \n",
       "2        -1.869599  "
      ]
     },
     "execution_count": 202,
     "metadata": {},
     "output_type": "execute_result"
    }
   ],
   "source": [
    "df_roi = df2\n",
    "df_roi['roi'] = df1['roi']\n",
    "\n",
    "df_roi.index.names = ['refshape']\n",
    "print len(df_roi)\n",
    "df_roi[:3]\n"
   ]
  },
  {
   "cell_type": "code",
   "execution_count": 208,
   "metadata": {
    "collapsed": false
   },
   "outputs": [
    {
     "name": "stdout",
     "output_type": "stream",
     "text": [
      "672\n"
     ]
    },
    {
     "data": {
      "text/html": [
       "<div>\n",
       "<table border=\"1\" class=\"dataframe\">\n",
       "  <thead>\n",
       "    <tr style=\"text-align: right;\">\n",
       "      <th></th>\n",
       "      <th>name</th>\n",
       "      <th>county</th>\n",
       "      <th>RegionID</th>\n",
       "      <th>Metro</th>\n",
       "      <th>roi</th>\n",
       "      <th>geometry</th>\n",
       "    </tr>\n",
       "    <tr>\n",
       "      <th>refshpindex</th>\n",
       "      <th></th>\n",
       "      <th></th>\n",
       "      <th></th>\n",
       "      <th></th>\n",
       "      <th></th>\n",
       "      <th></th>\n",
       "    </tr>\n",
       "  </thead>\n",
       "  <tbody>\n",
       "    <tr>\n",
       "      <th>0</th>\n",
       "      <td>North Shore Central School District</td>\n",
       "      <td>Nassau</td>\n",
       "      <td>13747.0</td>\n",
       "      <td>New York</td>\n",
       "      <td>-0.134523</td>\n",
       "      <td>POLYGON ((-73.67107299999999 40.859299, -73.65...</td>\n",
       "    </tr>\n",
       "    <tr>\n",
       "      <th>1</th>\n",
       "      <td>Seaford Union Free School District</td>\n",
       "      <td>Nassau</td>\n",
       "      <td>33904.0</td>\n",
       "      <td>New York</td>\n",
       "      <td>-1.439441</td>\n",
       "      <td>POLYGON ((-73.50683099999999 40.666806, -73.50...</td>\n",
       "    </tr>\n",
       "    <tr>\n",
       "      <th>2</th>\n",
       "      <td>Uniondale Union Free School District</td>\n",
       "      <td>Nassau</td>\n",
       "      <td>41341.0</td>\n",
       "      <td>New York</td>\n",
       "      <td>-1.869599</td>\n",
       "      <td>POLYGON ((-73.619737 40.68251799999999, -73.61...</td>\n",
       "    </tr>\n",
       "  </tbody>\n",
       "</table>\n",
       "</div>"
      ],
      "text/plain": [
       "                                             name  county  RegionID     Metro  \\\n",
       "refshpindex                                                                     \n",
       "0             North Shore Central School District  Nassau   13747.0  New York   \n",
       "1              Seaford Union Free School District  Nassau   33904.0  New York   \n",
       "2            Uniondale Union Free School District  Nassau   41341.0  New York   \n",
       "\n",
       "                  roi                                           geometry  \n",
       "refshpindex                                                               \n",
       "0           -0.134523  POLYGON ((-73.67107299999999 40.859299, -73.65...  \n",
       "1           -1.439441  POLYGON ((-73.50683099999999 40.666806, -73.50...  \n",
       "2           -1.869599  POLYGON ((-73.619737 40.68251799999999, -73.61...  "
      ]
     },
     "execution_count": 208,
     "metadata": {},
     "output_type": "execute_result"
    }
   ],
   "source": [
    "# to another merge with refshape to get all refshapes, including those w/o ROI data\n",
    "\n",
    "right=df_roi\n",
    "left=df_refshape\n",
    "\n",
    "t1=pd.merge(left,right,left_index=True,right_index=True,how='left')\n",
    "print len(t1)\n",
    "# select columns\n",
    "df_roi_shape = t1[['name','county','RegionID','Metro','roi','geometry']]\n",
    "                     #df_crimerate_shape[:3]\n",
    "df_roi_shape.index.names=['refshpindex']\n",
    "df_roi_shape[:3]\n"
   ]
  },
  {
   "cell_type": "code",
   "execution_count": 222,
   "metadata": {
    "collapsed": false
   },
   "outputs": [
    {
     "data": {
      "text/html": [
       "<div>\n",
       "<table border=\"1\" class=\"dataframe\">\n",
       "  <thead>\n",
       "    <tr style=\"text-align: right;\">\n",
       "      <th></th>\n",
       "      <th>name</th>\n",
       "      <th>county</th>\n",
       "      <th>RegionID</th>\n",
       "      <th>Metro</th>\n",
       "      <th>roi</th>\n",
       "      <th>geometry</th>\n",
       "    </tr>\n",
       "    <tr>\n",
       "      <th>refshpindex</th>\n",
       "      <th></th>\n",
       "      <th></th>\n",
       "      <th></th>\n",
       "      <th></th>\n",
       "      <th></th>\n",
       "      <th></th>\n",
       "    </tr>\n",
       "  </thead>\n",
       "  <tbody>\n",
       "    <tr>\n",
       "      <th>210</th>\n",
       "      <td>Albany City School District</td>\n",
       "      <td>Albany</td>\n",
       "      <td>37074.0</td>\n",
       "      <td>Albany</td>\n",
       "      <td>-0.418182</td>\n",
       "      <td>POLYGON ((-73.89421 42.709772, -73.895748 42.7...</td>\n",
       "    </tr>\n",
       "  </tbody>\n",
       "</table>\n",
       "</div>"
      ],
      "text/plain": [
       "                                    name  county  RegionID   Metro       roi  \\\n",
       "refshpindex                                                                    \n",
       "210          Albany City School District  Albany   37074.0  Albany -0.418182   \n",
       "\n",
       "                                                      geometry  \n",
       "refshpindex                                                     \n",
       "210          POLYGON ((-73.89421 42.709772, -73.895748 42.7...  "
      ]
     },
     "execution_count": 222,
     "metadata": {},
     "output_type": "execute_result"
    }
   ],
   "source": [
    "df_roi_shape[df_roi_shape['name'].str.contains('Albany')]"
   ]
  },
  {
   "cell_type": "code",
   "execution_count": 211,
   "metadata": {
    "collapsed": true
   },
   "outputs": [],
   "source": [
    "dill.dump(df_roi_shape,open('../OUTDATA/refshape_roi_2006-2016.dill','wb'))"
   ]
  },
  {
   "cell_type": "code",
   "execution_count": 212,
   "metadata": {
    "collapsed": false
   },
   "outputs": [],
   "source": [
    "crs = crs = {'init': 'epsg:4326', 'no_defs': True}\n",
    "geo_df = gpd.GeoDataFrame(df_roi_shape, crs=crs)\n",
    "geo_str = geo_df.to_json()"
   ]
  },
  {
   "cell_type": "code",
   "execution_count": 213,
   "metadata": {
    "collapsed": false
   },
   "outputs": [
    {
     "name": "stdout",
     "output_type": "stream",
     "text": [
      "count    498.000000\n",
      "mean       0.164713\n",
      "std        1.959464\n",
      "min       -4.122191\n",
      "25%       -1.472757\n",
      "50%        0.240421\n",
      "75%        1.481885\n",
      "max        5.689888\n",
      "Name: roi, dtype: float64\n"
     ]
    }
   ],
   "source": [
    "print geo_df['roi'].describe()"
   ]
  },
  {
   "cell_type": "code",
   "execution_count": 215,
   "metadata": {
    "collapsed": true
   },
   "outputs": [],
   "source": [
    "# function to provide color (from colorbrewer)\n",
    "def getColor(d):\n",
    "    if d > 5: \n",
    "        return '#4d9221' # green\n",
    "    elif d > 4:\n",
    "        return '#7fbc41'\n",
    "    elif d > 3:\n",
    "        return '#b8e186'\n",
    "    elif d > 2:\n",
    "        return '#e6f5d0'\n",
    "    elif d > 1:\n",
    "        return '#fde0ef'\n",
    "    elif d > 0:\n",
    "        return '#f7f7f7'\n",
    "    elif d > -1:\n",
    "        return '#f1b6da'\n",
    "    elif d > -2:\n",
    "        return '#de77ae'\n",
    "    elif d > -3:    \n",
    "        return '#c51b7d'\n",
    "    elif d > -4: \n",
    "        return '#8e0152' # pink\n",
    "    return '#d9d9d9'\n",
    "\n"
   ]
  },
  {
   "cell_type": "code",
   "execution_count": 223,
   "metadata": {
    "collapsed": true
   },
   "outputs": [],
   "source": [
    "#\n",
    "m = folium.Map([40.6,-73.938], zoom_start=8,tiles='cartodbpositron')\n",
    "\n",
    "folium.GeoJson(geo_df,    style_function=lambda feature: {\n",
    "        'fillColor': getColor(feature['properties']['roi']),\n",
    "        'color' : 'black',\n",
    "        'weight' : 1,\n",
    "        'fillOpacity':1, 'opacity':0.2\n",
    "        }\n",
    "              ).add_to(m)\n",
    "path='roi_map.html'\n",
    "m.save(path)\n"
   ]
  },
  {
   "cell_type": "code",
   "execution_count": null,
   "metadata": {
    "collapsed": true
   },
   "outputs": [],
   "source": []
  }
 ],
 "metadata": {
  "kernelspec": {
   "display_name": "Python 2",
   "language": "python",
   "name": "python2"
  },
  "language_info": {
   "codemirror_mode": {
    "name": "ipython",
    "version": 2
   },
   "file_extension": ".py",
   "mimetype": "text/x-python",
   "name": "python",
   "nbconvert_exporter": "python",
   "pygments_lexer": "ipython2",
   "version": "2.7.11"
  }
 },
 "nbformat": 4,
 "nbformat_minor": 0
}
