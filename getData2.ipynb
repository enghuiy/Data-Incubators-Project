{
 "cells": [
  {
   "cell_type": "code",
   "execution_count": 580,
   "metadata": {
    "collapsed": false
   },
   "outputs": [],
   "source": [
    "import requests\n",
    "from bs4 import BeautifulSoup\n",
    "import re\n",
    "import pandas as pd\n",
    "\n",
    "import geopandas as gpd\n",
    "import shapely\n",
    "from shapely.geometry import Point\n",
    "\n",
    "import matplotlib\n",
    "from matplotlib import pyplot as plt\n",
    "% matplotlib inline\n",
    "import seaborn as sns\n",
    "matplotlib.rcParams['savefig.dpi'] = 2 * matplotlib.rcParams['savefig.dpi']\n",
    "\n",
    "from descartes import PolygonPatch\n",
    "import dill"
   ]
  },
  {
   "cell_type": "code",
   "execution_count": 285,
   "metadata": {
    "collapsed": false
   },
   "outputs": [],
   "source": [
    "# connecting to local database using psycopg2\n",
    "try:\n",
    "    conn_plocal = psycopg2.connect(\"dbname='nysRealEstate' user='enghuiy' host='localhost' password=''\")\n",
    "except:\n",
    "    print \"I am unable to connect to the database\"\n",
    "\n",
    "connl.set_session(autocommit=True);   \n",
    "cur = connl.cursor()\n"
   ]
  },
  {
   "cell_type": "markdown",
   "metadata": {},
   "source": [
    "# reference shapefile : elementary, secondary and unified school districts from census"
   ]
  },
  {
   "cell_type": "code",
   "execution_count": 527,
   "metadata": {
    "collapsed": false
   },
   "outputs": [],
   "source": [
    "#shapefile : census school district (note: NYC is considered one big bloc)\n",
    "\n",
    "unsd_read = gpd.read_file('./Shapefiles/Census_schoolDistricts/tl_2015_36_unsd.shp').to_crs(epsg='4326')\n",
    "#elsd_read = gpd.read_file('./Shapefiles/tl_2015_36_elsd.shp')\n",
    "scsd_read = gpd.read_file('./Shapefiles/Census_schoolDistricts/tl_2015_36_scsd.shp').to_crs(epsg='4326')\n"
   ]
  },
  {
   "cell_type": "code",
   "execution_count": 454,
   "metadata": {
    "collapsed": false
   },
   "outputs": [
    {
     "data": {
      "text/html": [
       "<div>\n",
       "<table border=\"1\" class=\"dataframe\">\n",
       "  <thead>\n",
       "    <tr style=\"text-align: right;\">\n",
       "      <th></th>\n",
       "      <th>ALAND</th>\n",
       "      <th>AWATER</th>\n",
       "      <th>FUNCSTAT</th>\n",
       "      <th>GEOID</th>\n",
       "      <th>HIGRADE</th>\n",
       "      <th>INTPTLAT</th>\n",
       "      <th>INTPTLON</th>\n",
       "      <th>LOGRADE</th>\n",
       "      <th>LSAD</th>\n",
       "      <th>MTFCC</th>\n",
       "      <th>NAME</th>\n",
       "      <th>SDTYP</th>\n",
       "      <th>STATEFP</th>\n",
       "      <th>UNSDLEA</th>\n",
       "      <th>geometry</th>\n",
       "    </tr>\n",
       "  </thead>\n",
       "  <tbody>\n",
       "    <tr>\n",
       "      <th>0</th>\n",
       "      <td>20841637.0</td>\n",
       "      <td>2810849.0</td>\n",
       "      <td>E</td>\n",
       "      <td>3626370</td>\n",
       "      <td>12</td>\n",
       "      <td>+40.8363406</td>\n",
       "      <td>-073.6240579</td>\n",
       "      <td>KG</td>\n",
       "      <td>00</td>\n",
       "      <td>G5420</td>\n",
       "      <td>North Shore Central School District</td>\n",
       "      <td>None</td>\n",
       "      <td>36</td>\n",
       "      <td>26370</td>\n",
       "      <td>POLYGON ((-73.67107299999999 40.859299, -73.65...</td>\n",
       "    </tr>\n",
       "    <tr>\n",
       "      <th>1</th>\n",
       "      <td>12238393.0</td>\n",
       "      <td>23284927.0</td>\n",
       "      <td>E</td>\n",
       "      <td>3626400</td>\n",
       "      <td>12</td>\n",
       "      <td>+40.5971567</td>\n",
       "      <td>-073.4894940</td>\n",
       "      <td>KG</td>\n",
       "      <td>00</td>\n",
       "      <td>G5420</td>\n",
       "      <td>Seaford Union Free School District</td>\n",
       "      <td>None</td>\n",
       "      <td>36</td>\n",
       "      <td>26400</td>\n",
       "      <td>POLYGON ((-73.50683099999999 40.666806, -73.50...</td>\n",
       "    </tr>\n",
       "    <tr>\n",
       "      <th>2</th>\n",
       "      <td>17190813.0</td>\n",
       "      <td>35783.0</td>\n",
       "      <td>E</td>\n",
       "      <td>3629280</td>\n",
       "      <td>12</td>\n",
       "      <td>+40.7148763</td>\n",
       "      <td>-073.5958961</td>\n",
       "      <td>KG</td>\n",
       "      <td>00</td>\n",
       "      <td>G5420</td>\n",
       "      <td>Uniondale Union Free School District</td>\n",
       "      <td>None</td>\n",
       "      <td>36</td>\n",
       "      <td>29280</td>\n",
       "      <td>POLYGON ((-73.619737 40.68251799999999, -73.61...</td>\n",
       "    </tr>\n",
       "  </tbody>\n",
       "</table>\n",
       "</div>"
      ],
      "text/plain": [
       "        ALAND      AWATER FUNCSTAT    GEOID HIGRADE     INTPTLAT  \\\n",
       "0  20841637.0   2810849.0        E  3626370      12  +40.8363406   \n",
       "1  12238393.0  23284927.0        E  3626400      12  +40.5971567   \n",
       "2  17190813.0     35783.0        E  3629280      12  +40.7148763   \n",
       "\n",
       "       INTPTLON LOGRADE LSAD  MTFCC                                  NAME  \\\n",
       "0  -073.6240579      KG   00  G5420   North Shore Central School District   \n",
       "1  -073.4894940      KG   00  G5420    Seaford Union Free School District   \n",
       "2  -073.5958961      KG   00  G5420  Uniondale Union Free School District   \n",
       "\n",
       "  SDTYP STATEFP UNSDLEA                                           geometry  \n",
       "0  None      36   26370  POLYGON ((-73.67107299999999 40.859299, -73.65...  \n",
       "1  None      36   26400  POLYGON ((-73.50683099999999 40.666806, -73.50...  \n",
       "2  None      36   29280  POLYGON ((-73.619737 40.68251799999999, -73.61...  "
      ]
     },
     "execution_count": 454,
     "metadata": {},
     "output_type": "execute_result"
    }
   ],
   "source": [
    "scsd_read[0:3]\n",
    "unsd_read[0:3]"
   ]
  },
  {
   "cell_type": "code",
   "execution_count": 528,
   "metadata": {
    "collapsed": false
   },
   "outputs": [],
   "source": [
    "# \n",
    "sc_toAdd = scsd_read[scsd_read['NAME'].str.contains('Bellmore-Merrick|Sewanhaka|Valley Stream')][['NAME','GEOID','geometry']]\n",
    "df_refSHP = unsd_read[['NAME','GEOID','geometry']].append(sc_toAdd)\n",
    "#df_refSHP = unsd_read[['NAME','GEOID','geometry']]\n",
    "\n",
    "# delete some data\n",
    "#nysch=nysch[~nysch[\"NAME\"].str.contains('School District Not Defined')]\n",
    "#nysch=nysch[~nysch[\"NAME\"].str.contains('Binghamton Common School District')]\n",
    "\n",
    "df_refSHP['refshpindex'] = range(len(df_refSHP))\n",
    "df_refSHP.set_index(['refshpindex'],inplace=True)\n",
    "df_refSHP.rename(columns={'NAME':'name','GEOID':'geoid'},inplace=True)"
   ]
  },
  {
   "cell_type": "code",
   "execution_count": 529,
   "metadata": {
    "collapsed": false
   },
   "outputs": [],
   "source": [
    "refshape_json = []\n",
    "for i in range(len(unsd_read)):\n",
    "    refshape_json.append(unsd_read[i:i+1].to_json())\n",
    "for i in range(len(scsd_read)):\n",
    "    refshape_json.append(scsd_read[i:i+1].to_json())\n",
    "df_refSHP['json']=refshape_json"
   ]
  },
  {
   "cell_type": "code",
   "execution_count": 530,
   "metadata": {
    "collapsed": false
   },
   "outputs": [],
   "source": [
    "# compute centroid\n",
    "def getCentroid(shape):\n",
    "    c=shape.centroid\n",
    "    return (c.x,c.y)\n",
    "df_refSHP['centroid'] = df_refSHP['geometry'].apply(lambda s: getCentroid(s))\n"
   ]
  },
  {
   "cell_type": "code",
   "execution_count": 531,
   "metadata": {
    "collapsed": false
   },
   "outputs": [
    {
     "data": {
      "text/html": [
       "<div>\n",
       "<table border=\"1\" class=\"dataframe\">\n",
       "  <thead>\n",
       "    <tr style=\"text-align: right;\">\n",
       "      <th></th>\n",
       "      <th>name</th>\n",
       "      <th>geoid</th>\n",
       "      <th>geometry</th>\n",
       "      <th>json</th>\n",
       "      <th>centroid</th>\n",
       "    </tr>\n",
       "    <tr>\n",
       "      <th>refshpindex</th>\n",
       "      <th></th>\n",
       "      <th></th>\n",
       "      <th></th>\n",
       "      <th></th>\n",
       "      <th></th>\n",
       "    </tr>\n",
       "  </thead>\n",
       "  <tbody>\n",
       "    <tr>\n",
       "      <th>0</th>\n",
       "      <td>North Shore Central School District</td>\n",
       "      <td>3626370</td>\n",
       "      <td>POLYGON ((-73.67107299999999 40.859299, -73.65...</td>\n",
       "      <td>{\"type\": \"FeatureCollection\", \"features\": [{\"g...</td>\n",
       "      <td>(-73.6239251152, 40.8362893218)</td>\n",
       "    </tr>\n",
       "    <tr>\n",
       "      <th>1</th>\n",
       "      <td>Seaford Union Free School District</td>\n",
       "      <td>3626400</td>\n",
       "      <td>POLYGON ((-73.50683099999999 40.666806, -73.50...</td>\n",
       "      <td>{\"type\": \"FeatureCollection\", \"features\": [{\"g...</td>\n",
       "      <td>(-73.4887751411, 40.5975612621)</td>\n",
       "    </tr>\n",
       "    <tr>\n",
       "      <th>2</th>\n",
       "      <td>Uniondale Union Free School District</td>\n",
       "      <td>3629280</td>\n",
       "      <td>POLYGON ((-73.619737 40.68251799999999, -73.61...</td>\n",
       "      <td>{\"type\": \"FeatureCollection\", \"features\": [{\"g...</td>\n",
       "      <td>(-73.5972693079, 40.7139621285)</td>\n",
       "    </tr>\n",
       "    <tr>\n",
       "      <th>3</th>\n",
       "      <td>Wantagh Union Free School District</td>\n",
       "      <td>3629850</td>\n",
       "      <td>POLYGON ((-73.52614799999999 40.691816, -73.52...</td>\n",
       "      <td>{\"type\": \"FeatureCollection\", \"features\": [{\"g...</td>\n",
       "      <td>(-73.5076679901, 40.6195001311)</td>\n",
       "    </tr>\n",
       "  </tbody>\n",
       "</table>\n",
       "</div>"
      ],
      "text/plain": [
       "                                             name    geoid  \\\n",
       "refshpindex                                                  \n",
       "0             North Shore Central School District  3626370   \n",
       "1              Seaford Union Free School District  3626400   \n",
       "2            Uniondale Union Free School District  3629280   \n",
       "3              Wantagh Union Free School District  3629850   \n",
       "\n",
       "                                                      geometry  \\\n",
       "refshpindex                                                      \n",
       "0            POLYGON ((-73.67107299999999 40.859299, -73.65...   \n",
       "1            POLYGON ((-73.50683099999999 40.666806, -73.50...   \n",
       "2            POLYGON ((-73.619737 40.68251799999999, -73.61...   \n",
       "3            POLYGON ((-73.52614799999999 40.691816, -73.52...   \n",
       "\n",
       "                                                          json  \\\n",
       "refshpindex                                                      \n",
       "0            {\"type\": \"FeatureCollection\", \"features\": [{\"g...   \n",
       "1            {\"type\": \"FeatureCollection\", \"features\": [{\"g...   \n",
       "2            {\"type\": \"FeatureCollection\", \"features\": [{\"g...   \n",
       "3            {\"type\": \"FeatureCollection\", \"features\": [{\"g...   \n",
       "\n",
       "                                    centroid  \n",
       "refshpindex                                   \n",
       "0            (-73.6239251152, 40.8362893218)  \n",
       "1            (-73.4887751411, 40.5975612621)  \n",
       "2            (-73.5972693079, 40.7139621285)  \n",
       "3            (-73.5076679901, 40.6195001311)  "
      ]
     },
     "execution_count": 531,
     "metadata": {},
     "output_type": "execute_result"
    }
   ],
   "source": [
    "df_refSHP[:4]"
   ]
  },
  {
   "cell_type": "code",
   "execution_count": 532,
   "metadata": {
    "collapsed": true
   },
   "outputs": [],
   "source": [
    "# add county info\n",
    "countyshape_read= gpd.read_file('./Shapefiles/NYS_GIS_civil/Counties.shp').to_crs(epsg='4326')\n",
    "df_countyshape = countyshape_read[['NAME','geometry']]"
   ]
  },
  {
   "cell_type": "code",
   "execution_count": 525,
   "metadata": {
    "collapsed": false
   },
   "outputs": [
    {
     "data": {
      "text/html": [
       "<div>\n",
       "<table border=\"1\" class=\"dataframe\">\n",
       "  <thead>\n",
       "    <tr style=\"text-align: right;\">\n",
       "      <th></th>\n",
       "      <th>ABBREV</th>\n",
       "      <th>CALC_SqMi</th>\n",
       "      <th>COUNTYFIPS</th>\n",
       "      <th>DATEMOD</th>\n",
       "      <th>DOSLL_DATE</th>\n",
       "      <th>DOS_LL</th>\n",
       "      <th>GNIS_ID</th>\n",
       "      <th>NAME</th>\n",
       "      <th>NYC</th>\n",
       "      <th>POP1990</th>\n",
       "      <th>POP2000</th>\n",
       "      <th>POP2010</th>\n",
       "      <th>SP_ZONE</th>\n",
       "      <th>SWIS</th>\n",
       "      <th>geometry</th>\n",
       "    </tr>\n",
       "  </thead>\n",
       "  <tbody>\n",
       "    <tr>\n",
       "      <th>0</th>\n",
       "      <td>ALBA</td>\n",
       "      <td>532.886898</td>\n",
       "      <td>001</td>\n",
       "      <td>None</td>\n",
       "      <td>None</td>\n",
       "      <td>None</td>\n",
       "      <td>974099</td>\n",
       "      <td>Albany</td>\n",
       "      <td>N</td>\n",
       "      <td>292594</td>\n",
       "      <td>294565</td>\n",
       "      <td>304204</td>\n",
       "      <td>East</td>\n",
       "      <td>010000</td>\n",
       "      <td>POLYGON ((-73.70877452249233 42.78724306639314...</td>\n",
       "    </tr>\n",
       "    <tr>\n",
       "      <th>1</th>\n",
       "      <td>ALLE</td>\n",
       "      <td>1035.237103</td>\n",
       "      <td>003</td>\n",
       "      <td>None</td>\n",
       "      <td>None</td>\n",
       "      <td>None</td>\n",
       "      <td>974100</td>\n",
       "      <td>Allegany</td>\n",
       "      <td>N</td>\n",
       "      <td>50470</td>\n",
       "      <td>49927</td>\n",
       "      <td>48946</td>\n",
       "      <td>West</td>\n",
       "      <td>020000</td>\n",
       "      <td>POLYGON ((-78.29217504218194 42.52139602085586...</td>\n",
       "    </tr>\n",
       "    <tr>\n",
       "      <th>2</th>\n",
       "      <td>BRON</td>\n",
       "      <td>57.470925</td>\n",
       "      <td>005</td>\n",
       "      <td>None</td>\n",
       "      <td>None</td>\n",
       "      <td>None</td>\n",
       "      <td>974101</td>\n",
       "      <td>Bronx</td>\n",
       "      <td>Y</td>\n",
       "      <td>1203789</td>\n",
       "      <td>1332650</td>\n",
       "      <td>1385108</td>\n",
       "      <td>Long Island</td>\n",
       "      <td>600000</td>\n",
       "      <td>POLYGON ((-73.86566997561293 40.90219265848751...</td>\n",
       "    </tr>\n",
       "  </tbody>\n",
       "</table>\n",
       "</div>"
      ],
      "text/plain": [
       "  ABBREV    CALC_SqMi COUNTYFIPS DATEMOD DOSLL_DATE DOS_LL GNIS_ID      NAME  \\\n",
       "0   ALBA   532.886898        001    None       None   None  974099    Albany   \n",
       "1   ALLE  1035.237103        003    None       None   None  974100  Allegany   \n",
       "2   BRON    57.470925        005    None       None   None  974101     Bronx   \n",
       "\n",
       "  NYC  POP1990  POP2000  POP2010      SP_ZONE    SWIS  \\\n",
       "0   N   292594   294565   304204         East  010000   \n",
       "1   N    50470    49927    48946         West  020000   \n",
       "2   Y  1203789  1332650  1385108  Long Island  600000   \n",
       "\n",
       "                                            geometry  \n",
       "0  POLYGON ((-73.70877452249233 42.78724306639314...  \n",
       "1  POLYGON ((-78.29217504218194 42.52139602085586...  \n",
       "2  POLYGON ((-73.86566997561293 40.90219265848751...  "
      ]
     },
     "execution_count": 525,
     "metadata": {},
     "output_type": "execute_result"
    }
   ],
   "source": [
    "countyshape_read[:3]"
   ]
  },
  {
   "cell_type": "code",
   "execution_count": 460,
   "metadata": {
    "collapsed": false
   },
   "outputs": [],
   "source": [
    "# assign each school district to a county region\n",
    "\n",
    "def findEncompassingShape(point,shapelist):\n",
    "    for refshape_ind,refshape in shapelist:\n",
    "        if refshape.contains(point):\n",
    "            return refshape_ind\n",
    "    return -1\n",
    "\n",
    "ref_i_centroids = zip(df_refSHP.index,df_refSHP['centroid'])\n",
    "county_shapes = zip(df_countyshape.index,df_countyshape['geometry'])\n",
    "index_map = []\n",
    "\n",
    "for refindex,centroid in ref_i_centroids:\n",
    "    p = Point(centroid[0],centroid[1])\n",
    "    county_index = findEncompassingShape(p,county_shapes)\n",
    "    index_map.append((refindex,county_index))\n",
    "\n",
    "#index_map"
   ]
  },
  {
   "cell_type": "code",
   "execution_count": 533,
   "metadata": {
    "collapsed": false
   },
   "outputs": [
    {
     "name": "stdout",
     "output_type": "stream",
     "text": [
      "672\n"
     ]
    },
    {
     "data": {
      "text/html": [
       "<div>\n",
       "<table border=\"1\" class=\"dataframe\">\n",
       "  <thead>\n",
       "    <tr style=\"text-align: right;\">\n",
       "      <th></th>\n",
       "      <th>name</th>\n",
       "      <th>geoid</th>\n",
       "      <th>county</th>\n",
       "      <th>centroid</th>\n",
       "      <th>geometry</th>\n",
       "      <th>json</th>\n",
       "    </tr>\n",
       "  </thead>\n",
       "  <tbody>\n",
       "    <tr>\n",
       "      <th>0</th>\n",
       "      <td>North Shore Central School District</td>\n",
       "      <td>3626370</td>\n",
       "      <td>Nassau</td>\n",
       "      <td>(-73.6239251152, 40.8362893218)</td>\n",
       "      <td>POLYGON ((-73.67107299999999 40.859299, -73.65...</td>\n",
       "      <td>{\"type\": \"FeatureCollection\", \"features\": [{\"g...</td>\n",
       "    </tr>\n",
       "    <tr>\n",
       "      <th>1</th>\n",
       "      <td>Seaford Union Free School District</td>\n",
       "      <td>3626400</td>\n",
       "      <td>Nassau</td>\n",
       "      <td>(-73.4887751411, 40.5975612621)</td>\n",
       "      <td>POLYGON ((-73.50683099999999 40.666806, -73.50...</td>\n",
       "      <td>{\"type\": \"FeatureCollection\", \"features\": [{\"g...</td>\n",
       "    </tr>\n",
       "    <tr>\n",
       "      <th>2</th>\n",
       "      <td>Uniondale Union Free School District</td>\n",
       "      <td>3629280</td>\n",
       "      <td>Nassau</td>\n",
       "      <td>(-73.5972693079, 40.7139621285)</td>\n",
       "      <td>POLYGON ((-73.619737 40.68251799999999, -73.61...</td>\n",
       "      <td>{\"type\": \"FeatureCollection\", \"features\": [{\"g...</td>\n",
       "    </tr>\n",
       "  </tbody>\n",
       "</table>\n",
       "</div>"
      ],
      "text/plain": [
       "                                   name    geoid  county  \\\n",
       "0   North Shore Central School District  3626370  Nassau   \n",
       "1    Seaford Union Free School District  3626400  Nassau   \n",
       "2  Uniondale Union Free School District  3629280  Nassau   \n",
       "\n",
       "                          centroid  \\\n",
       "0  (-73.6239251152, 40.8362893218)   \n",
       "1  (-73.4887751411, 40.5975612621)   \n",
       "2  (-73.5972693079, 40.7139621285)   \n",
       "\n",
       "                                            geometry  \\\n",
       "0  POLYGON ((-73.67107299999999 40.859299, -73.65...   \n",
       "1  POLYGON ((-73.50683099999999 40.666806, -73.50...   \n",
       "2  POLYGON ((-73.619737 40.68251799999999, -73.61...   \n",
       "\n",
       "                                                json  \n",
       "0  {\"type\": \"FeatureCollection\", \"features\": [{\"g...  \n",
       "1  {\"type\": \"FeatureCollection\", \"features\": [{\"g...  \n",
       "2  {\"type\": \"FeatureCollection\", \"features\": [{\"g...  "
      ]
     },
     "execution_count": 533,
     "metadata": {},
     "output_type": "execute_result"
    }
   ],
   "source": [
    "# join county to school data\n",
    "df_assign=pd.DataFrame(index_map,columns=['oldind','targetind'])\n",
    "t1=pd.merge(df_refSHP,df_assign,left_index=True,right_on='oldind',how='left')\n",
    "t2=pd.merge(t1,df_countyshape,left_on='targetind',right_index = True,how='left')\n",
    "\n",
    "#df_crimerate_refshape = t2[['name','County','PD','crimerate_total','crimerate_violent','crimerate_nonviolent']]\n",
    "print len(t1)\n",
    "t2.rename(columns={'geometry_x':'geometry','NAME':'county'},inplace=True)\n",
    "df_refSHP = t2[['name','geoid','county','centroid','geometry','json']]\n",
    "df_refSHP[:3]\n"
   ]
  },
  {
   "cell_type": "code",
   "execution_count": 534,
   "metadata": {
    "collapsed": false
   },
   "outputs": [],
   "source": [
    "# send to local database\n",
    "df_refSHP[['name','centroid','json']].to_sql('refshape', local_engine_alchemy, if_exists='replace',index_label='refshpindex')"
   ]
  },
  {
   "cell_type": "code",
   "execution_count": 535,
   "metadata": {
    "collapsed": false
   },
   "outputs": [],
   "source": [
    "dill.dump(df_refSHP, open('../OUTDATA/refshape_sch2015.dill','wb'))"
   ]
  },
  {
   "cell_type": "code",
   "execution_count": 397,
   "metadata": {
    "collapsed": false
   },
   "outputs": [
    {
     "data": {
      "text/plain": [
       "refshpindex\n",
       "106      Scarsdale Union Free School District\n",
       "172           Tuckahoe Common School District\n",
       "199              Yonkers City School District\n",
       "219     Bronxville Union Free School District\n",
       "231       Edgemont Union Free School District\n",
       "368         White Plains City School District\n",
       "369        Greenburgh Central School District\n",
       "449    Eastchester Union Free School District\n",
       "453         New Rochelle City School District\n",
       "656       Tuckahoe Union Free School District\n",
       "Name: name, dtype: object"
      ]
     },
     "execution_count": 397,
     "metadata": {},
     "output_type": "execute_result"
    }
   ],
   "source": [
    "df_refSHP['name'][df_refSHP['name'].str.contains('Scarsdale|Eastchester|Tuckahoe|White Plains|Yonkers|Bronxville|New Rochelle|Greenburg|Edgemont')]\n"
   ]
  },
  {
   "cell_type": "code",
   "execution_count": 483,
   "metadata": {
    "collapsed": false
   },
   "outputs": [
    {
     "data": {
      "text/html": [
       "<div>\n",
       "<table border=\"1\" class=\"dataframe\">\n",
       "  <thead>\n",
       "    <tr style=\"text-align: right;\">\n",
       "      <th></th>\n",
       "      <th>name</th>\n",
       "      <th>geoid</th>\n",
       "      <th>county</th>\n",
       "      <th>county</th>\n",
       "      <th>centroid</th>\n",
       "      <th>geometry</th>\n",
       "      <th>json</th>\n",
       "    </tr>\n",
       "  </thead>\n",
       "  <tbody>\n",
       "    <tr>\n",
       "      <th>190</th>\n",
       "      <td>Niagara Falls City School District</td>\n",
       "      <td>3620820</td>\n",
       "      <td>Niagara</td>\n",
       "      <td>Niagara</td>\n",
       "      <td>(-79.0147317325, 43.0920923585)</td>\n",
       "      <td>POLYGON ((-79.075367 43.08135499999999, -79.07...</td>\n",
       "      <td>{\"type\": \"FeatureCollection\", \"features\": [{\"g...</td>\n",
       "    </tr>\n",
       "    <tr>\n",
       "      <th>640</th>\n",
       "      <td>Niagara-Wheatfield Central School District</td>\n",
       "      <td>3620850</td>\n",
       "      <td>Niagara</td>\n",
       "      <td>Niagara</td>\n",
       "      <td>(-78.9279307551, 43.1252584015)</td>\n",
       "      <td>POLYGON ((-79.04030800000001 43.132386, -79.03...</td>\n",
       "      <td>{\"type\": \"FeatureCollection\", \"features\": [{\"g...</td>\n",
       "    </tr>\n",
       "  </tbody>\n",
       "</table>\n",
       "</div>"
      ],
      "text/plain": [
       "                                           name    geoid   county   county  \\\n",
       "190          Niagara Falls City School District  3620820  Niagara  Niagara   \n",
       "640  Niagara-Wheatfield Central School District  3620850  Niagara  Niagara   \n",
       "\n",
       "                            centroid  \\\n",
       "190  (-79.0147317325, 43.0920923585)   \n",
       "640  (-78.9279307551, 43.1252584015)   \n",
       "\n",
       "                                              geometry  \\\n",
       "190  POLYGON ((-79.075367 43.08135499999999, -79.07...   \n",
       "640  POLYGON ((-79.04030800000001 43.132386, -79.03...   \n",
       "\n",
       "                                                  json  \n",
       "190  {\"type\": \"FeatureCollection\", \"features\": [{\"g...  \n",
       "640  {\"type\": \"FeatureCollection\", \"features\": [{\"g...  "
      ]
     },
     "execution_count": 483,
     "metadata": {},
     "output_type": "execute_result"
    }
   ],
   "source": [
    "df_refSHP[df_refSHP['name'].str.contains('Niagara')]\n"
   ]
  },
  {
   "cell_type": "code",
   "execution_count": 375,
   "metadata": {
    "collapsed": true
   },
   "outputs": [],
   "source": [
    "cur.execute(\"\"\"SELECT json FROM refshape JOIN demoindices ON refshape.refshpindex=demoindices.refshpindex;\"\"\")\n",
    "r = cur.fetchall()\n"
   ]
  },
  {
   "cell_type": "code",
   "execution_count": 382,
   "metadata": {
    "collapsed": false
   },
   "outputs": [],
   "source": [
    "score=0.4\n",
    "t= zip(*r)[0]\n",
    "#t.replace('\"STATEFP\": \"36\"','\"score\":%f' % score)\n"
   ]
  },
  {
   "cell_type": "code",
   "execution_count": 311,
   "metadata": {
    "collapsed": false
   },
   "outputs": [],
   "source": [
    "# other testing\n",
    "\n",
    "refshape_json_test = []\n",
    "for i in range(len(scsd_read)):\n",
    "    refshape_json_test.append(scsd_read[i:i+1].to_json())\n",
    "#scsd_read['JSON']=refshape_json\n",
    "#refshape_json[0]\n",
    "\n",
    "#cur.execute(\"\"\"INSERT INTO test3(id,json) VALUES (5,'hi4');\"\"\")\n",
    "#cur.execute(\"\"\"INSERT INTO test3(id,json) VALUES (%d,'%s');\"\"\" %(0,refshape_json[0]) )\n",
    "cur.execute(\"\"\"select * from test3 where \"REFSHPINDEX\"=2;\"\"\")\n",
    "r = cur.fetchall()\n",
    "\n",
    "#print r[0][1]\n",
    "\n",
    "# testing why to_json doesn;t work after we combine the two shapefile sets\n",
    "t1=unsd_read[['NAME','GEOID','geometry']][:3]\n",
    "t2=scsd_read[['NAME','GEOID','geometry']][:3]\n",
    "t3=t1.append(t2)\n",
    "t3['id'] = range(len(t3))\n",
    "#t3.set_index(['id'],inplace=True)\n",
    "#print t3['geometry']\n",
    "#js=t3.to_json()"
   ]
  },
  {
   "cell_type": "markdown",
   "metadata": {},
   "source": [
    "# Set the reference geometry that everything will be overlayed on.\n",
    "#### currently using school geometry  (can be other shapes)"
   ]
  },
  {
   "cell_type": "code",
   "execution_count": 76,
   "metadata": {
    "collapsed": false
   },
   "outputs": [],
   "source": [
    "# use school geometry as the reference (can be other shapes)\n",
    "refSHP=df_refSHP['geometry'].tolist()"
   ]
  },
  {
   "cell_type": "markdown",
   "metadata": {},
   "source": [
    "### school performance data (with shapefile index assigned by addSchDistrict.pl)"
   ]
  },
  {
   "cell_type": "code",
   "execution_count": 25,
   "metadata": {
    "collapsed": false
   },
   "outputs": [],
   "source": [
    "# for initial matching to NYS school performance data\n",
    "df_refSHP['name'].to_csv('./NYSED_3-8gradeAssess_2014-2015/sdNames.census_shx.csv')"
   ]
  },
  {
   "cell_type": "code",
   "execution_count": 332,
   "metadata": {
    "collapsed": false
   },
   "outputs": [],
   "source": [
    "performance=pd.read_table('./NYSED_3-8gradeAssess_2014-2015/3-8_ELA_AND_MATH_RESEARCHER_FILE_2015.DISTRICTSwSHPassignment.tab')\n",
    "performance['SID']=performance['SID'].astype(int)\n",
    "performance['MEAN_SCALE_SCORE']=pd.to_numeric(performance['MEAN_SCALE_SCORE'],errors=coerce)\n",
    "performance['L4_PCT']=pd.to_numeric(performance['L4_PCT'],errors=coerce)\n"
   ]
  },
  {
   "cell_type": "code",
   "execution_count": 106,
   "metadata": {
    "collapsed": false
   },
   "outputs": [
    {
     "data": {
      "text/plain": [
       "Index([u'SID', u'SCHOOL_YEAR', u'NRC_CODE', u'NRC_DESC', u'COUNTY_CODE',\n",
       "       u'COUNTY_DESC', u'BEDSCODE', u'SD_NAME', u'ITEM_SUBJECT_AREA',\n",
       "       u'ITEM_DESC', u'SUBGROUP_CODE', u'SUBGROUP_NAME', u'TOTAL_TESTED',\n",
       "       u'L1_COUNT', u'L1_PCT', u'L2_COUNT', u'L2_PCT', u'L3_COUNT', u'L3_PCT',\n",
       "       u'L4_COUNT', u'L4_PCT', u'L2-L4_PCT', u'L3-L4_PCT', u'MEAN_SCALE_SCORE',\n",
       "       u'Sum_Of_SCALE_SCORE'],\n",
       "      dtype='object')"
      ]
     },
     "execution_count": 106,
     "metadata": {},
     "output_type": "execute_result"
    }
   ],
   "source": [
    "performance.columns"
   ]
  },
  {
   "cell_type": "code",
   "execution_count": 333,
   "metadata": {
    "collapsed": false
   },
   "outputs": [
    {
     "data": {
      "text/html": [
       "<div>\n",
       "<table border=\"1\" class=\"dataframe\">\n",
       "  <thead>\n",
       "    <tr style=\"text-align: right;\">\n",
       "      <th></th>\n",
       "      <th>sch_perform</th>\n",
       "    </tr>\n",
       "    <tr>\n",
       "      <th>refshpindex</th>\n",
       "      <th></th>\n",
       "    </tr>\n",
       "  </thead>\n",
       "  <tbody>\n",
       "    <tr>\n",
       "      <th>0</th>\n",
       "      <td>0.0</td>\n",
       "    </tr>\n",
       "    <tr>\n",
       "      <th>1</th>\n",
       "      <td>10.0</td>\n",
       "    </tr>\n",
       "    <tr>\n",
       "      <th>2</th>\n",
       "      <td>0.0</td>\n",
       "    </tr>\n",
       "  </tbody>\n",
       "</table>\n",
       "</div>"
      ],
      "text/plain": [
       "             sch_perform\n",
       "refshpindex             \n",
       "0                    0.0\n",
       "1                   10.0\n",
       "2                    0.0"
      ]
     },
     "execution_count": 333,
     "metadata": {},
     "output_type": "execute_result"
    }
   ],
   "source": [
    "# choose here the school metric and aggregator\n",
    "t=performance[['SID','SD_NAME','L4_PCT']][performance['ITEM_DESC'].str.contains('Grade 8 Math')]\n",
    "t.rename(columns={'SID':'refshpindex','L4_PCT':'sch_perform'}, inplace=True)\n",
    "df_schoolPerform=t.groupby('refshpindex').mean()\n",
    "df_schoolPerform[:3]"
   ]
  },
  {
   "cell_type": "code",
   "execution_count": 609,
   "metadata": {
    "collapsed": false
   },
   "outputs": [
    {
     "data": {
      "text/html": [
       "<div>\n",
       "<table border=\"1\" class=\"dataframe\">\n",
       "  <thead>\n",
       "    <tr style=\"text-align: right;\">\n",
       "      <th></th>\n",
       "      <th>sch_perform</th>\n",
       "      <th>name</th>\n",
       "      <th>geoid</th>\n",
       "      <th>county</th>\n",
       "      <th>centroid</th>\n",
       "      <th>geometry</th>\n",
       "      <th>json</th>\n",
       "    </tr>\n",
       "  </thead>\n",
       "  <tbody>\n",
       "    <tr>\n",
       "      <th>0</th>\n",
       "      <td>0.0</td>\n",
       "      <td>North Shore Central School District</td>\n",
       "      <td>3626370</td>\n",
       "      <td>Nassau</td>\n",
       "      <td>(-73.6239251152, 40.8362893218)</td>\n",
       "      <td>POLYGON ((-73.67107299999999 40.859299, -73.65...</td>\n",
       "      <td>{\"type\": \"FeatureCollection\", \"features\": [{\"g...</td>\n",
       "    </tr>\n",
       "    <tr>\n",
       "      <th>1</th>\n",
       "      <td>10.0</td>\n",
       "      <td>Seaford Union Free School District</td>\n",
       "      <td>3626400</td>\n",
       "      <td>Nassau</td>\n",
       "      <td>(-73.4887751411, 40.5975612621)</td>\n",
       "      <td>POLYGON ((-73.50683099999999 40.666806, -73.50...</td>\n",
       "      <td>{\"type\": \"FeatureCollection\", \"features\": [{\"g...</td>\n",
       "    </tr>\n",
       "    <tr>\n",
       "      <th>2</th>\n",
       "      <td>0.0</td>\n",
       "      <td>Uniondale Union Free School District</td>\n",
       "      <td>3629280</td>\n",
       "      <td>Nassau</td>\n",
       "      <td>(-73.5972693079, 40.7139621285)</td>\n",
       "      <td>POLYGON ((-73.619737 40.68251799999999, -73.61...</td>\n",
       "      <td>{\"type\": \"FeatureCollection\", \"features\": [{\"g...</td>\n",
       "    </tr>\n",
       "  </tbody>\n",
       "</table>\n",
       "</div>"
      ],
      "text/plain": [
       "   sch_perform                                  name    geoid  county  \\\n",
       "0          0.0   North Shore Central School District  3626370  Nassau   \n",
       "1         10.0    Seaford Union Free School District  3626400  Nassau   \n",
       "2          0.0  Uniondale Union Free School District  3629280  Nassau   \n",
       "\n",
       "                          centroid  \\\n",
       "0  (-73.6239251152, 40.8362893218)   \n",
       "1  (-73.4887751411, 40.5975612621)   \n",
       "2  (-73.5972693079, 40.7139621285)   \n",
       "\n",
       "                                            geometry  \\\n",
       "0  POLYGON ((-73.67107299999999 40.859299, -73.65...   \n",
       "1  POLYGON ((-73.50683099999999 40.666806, -73.50...   \n",
       "2  POLYGON ((-73.619737 40.68251799999999, -73.61...   \n",
       "\n",
       "                                                json  \n",
       "0  {\"type\": \"FeatureCollection\", \"features\": [{\"g...  \n",
       "1  {\"type\": \"FeatureCollection\", \"features\": [{\"g...  \n",
       "2  {\"type\": \"FeatureCollection\", \"features\": [{\"g...  "
      ]
     },
     "execution_count": 609,
     "metadata": {},
     "output_type": "execute_result"
    }
   ],
   "source": [
    "df_schoolPerform_shape = pd.merge(df_schoolPerform,df_refSHP,left_index=True,right_index=True)\n",
    "df_schoolPerform_shape[:3]"
   ]
  },
  {
   "cell_type": "code",
   "execution_count": 692,
   "metadata": {
    "collapsed": false
   },
   "outputs": [
    {
     "ename": "TypeError",
     "evalue": "must be string or buffer, not instancemethod",
     "output_type": "error",
     "traceback": [
      "\u001b[0;31m---------------------------------------------------------------------------\u001b[0m",
      "\u001b[0;31mTypeError\u001b[0m                                 Traceback (most recent call last)",
      "\u001b[0;32m<ipython-input-692-d272cc95de86>\u001b[0m in \u001b[0;36m<module>\u001b[0;34m()\u001b[0m\n\u001b[1;32m      1\u001b[0m \u001b[0;32mwith\u001b[0m \u001b[0mopen\u001b[0m\u001b[0;34m(\u001b[0m\u001b[0;34m'test.json'\u001b[0m\u001b[0;34m,\u001b[0m\u001b[0;34m'wb'\u001b[0m\u001b[0;34m)\u001b[0m \u001b[0;32mas\u001b[0m \u001b[0mf\u001b[0m\u001b[0;34m:\u001b[0m\u001b[0;34m\u001b[0m\u001b[0m\n\u001b[0;32m----> 2\u001b[0;31m     \u001b[0mf\u001b[0m\u001b[0;34m.\u001b[0m\u001b[0mwrite\u001b[0m\u001b[0;34m(\u001b[0m\u001b[0mdf_schoolPerform_shape\u001b[0m\u001b[0;34m[\u001b[0m\u001b[0;34m'json'\u001b[0m\u001b[0;34m]\u001b[0m\u001b[0;34m[\u001b[0m\u001b[0;36m0\u001b[0m\u001b[0;34m:\u001b[0m\u001b[0;36m1\u001b[0m\u001b[0;34m]\u001b[0m\u001b[0;34m.\u001b[0m\u001b[0mto_string\u001b[0m\u001b[0;34m)\u001b[0m\u001b[0;34m\u001b[0m\u001b[0m\n\u001b[0m",
      "\u001b[0;31mTypeError\u001b[0m: must be string or buffer, not instancemethod"
     ]
    }
   ],
   "source": [
    "with open('test.json','wb') as f: \n",
    "    f.write(df_schoolPerform_shape['json'][0:1].to_string)"
   ]
  },
  {
   "cell_type": "markdown",
   "metadata": {},
   "source": [
    "# plot school performance on map"
   ]
  },
  {
   "cell_type": "code",
   "execution_count": 614,
   "metadata": {
    "collapsed": false
   },
   "outputs": [],
   "source": [
    "crs = crs = {'init': 'epsg:4326', 'no_defs': True}\n",
    "geo_df = gpd.GeoDataFrame(df_schoolPerform_shape, crs=crs)\n",
    "geo_str = geo_df.to_json()"
   ]
  },
  {
   "cell_type": "code",
   "execution_count": 618,
   "metadata": {
    "collapsed": false
   },
   "outputs": [
    {
     "name": "stdout",
     "output_type": "stream",
     "text": [
      "count    625.000000\n",
      "mean       3.628800\n",
      "std        6.876181\n",
      "min        0.000000\n",
      "25%        0.000000\n",
      "50%        0.000000\n",
      "75%        4.000000\n",
      "max       51.000000\n",
      "Name: sch_perform, dtype: float64\n"
     ]
    }
   ],
   "source": [
    "print geo_df['sch_perform'].describe()"
   ]
  },
  {
   "cell_type": "code",
   "execution_count": 632,
   "metadata": {
    "collapsed": true
   },
   "outputs": [],
   "source": [
    "# function to provide color (from colorbrewer)\n",
    "def getColor(d):\n",
    "    if d > 4: \n",
    "        return '#4d9221' # green\n",
    "    elif d > 3:\n",
    "        return '#7fbc41'\n",
    "    elif d > 2.5:\n",
    "        return '#b8e186'\n",
    "    elif d > 2:\n",
    "        return '#e6f5d0'\n",
    "    elif d > 1.5:\n",
    "        return '#fde0ef'\n",
    "    elif d > 1:\n",
    "        return '#f7f7f7'\n",
    "    elif d > .75:\n",
    "        return '#f1b6da'\n",
    "    elif d > .5:\n",
    "        return '#de77ae'\n",
    "    elif d > .25:    \n",
    "        return '#c51b7d'\n",
    "    elif d >= 0 : \n",
    "        return '#8e0152' # pink\n",
    "    return '#d9d9d9'"
   ]
  },
  {
   "cell_type": "code",
   "execution_count": 693,
   "metadata": {
    "collapsed": false
   },
   "outputs": [],
   "source": [
    "#\n",
    "m = folium.Map([40.6,-73.938], zoom_start=8,tiles='cartodbpositron')\n",
    "\n",
    "folium.GeoJson(geo_df,    style_function=lambda feature: {\n",
    "        'fillColor': getColor(feature['properties']['sch_perform']),\n",
    "        'color' : 'black',\n",
    "        'weight' : 1,\n",
    "        'fillOpacity':1, 'opacity':0.2\n",
    "        }\n",
    "              ).add_to(m)\n",
    "path='schoolPerform.html'\n",
    "m.save(path)\n"
   ]
  },
  {
   "cell_type": "code",
   "execution_count": null,
   "metadata": {
    "collapsed": true
   },
   "outputs": [],
   "source": []
  },
  {
   "cell_type": "code",
   "execution_count": 503,
   "metadata": {
    "collapsed": false
   },
   "outputs": [],
   "source": [
    "# matplotlib only works up to 999 points -> skip points if >999\n",
    "def plotGeometry(shape):\n",
    "    fig=plt.figure()\n",
    "    ax = fig.add_subplot(111)\n",
    "    x,y = shape.exterior.xy \n",
    "    coords = shape.exterior.coords\n",
    "    N=len(x)\n",
    "    factor = N//1000 +1\n",
    "    shapepatch = PolygonPatch(shape)\n",
    "    ax.plot(x[::factor],y[::factor]) \n",
    "    ax.add_patch(shapepatch)\n",
    "#plotGeometry(schoolScore.at[8259,'geometry'])"
   ]
  },
  {
   "cell_type": "code",
   "execution_count": 1138,
   "metadata": {
    "collapsed": false
   },
   "outputs": [],
   "source": [
    "# matplotlib\n",
    "# matplotlib only works up to 999 points -> skip points if >999\n",
    "def plotGeometries(shapelist):\n",
    "    fig=plt.figure()\n",
    "    ax = fig.add_subplot(111)\n",
    "    for shape in shapelist:\n",
    "        x,y = shape.exterior.xy \n",
    "        N=len(x)\n",
    "        factor = N//1000 +1\n",
    "        #shapepatch = PolygonPatch(shape)\n",
    "        ax.plot(x[::factor],y[::factor], color='black') \n",
    "        #ax.add_patch(shapepatch)"
   ]
  },
  {
   "cell_type": "code",
   "execution_count": 1159,
   "metadata": {
    "collapsed": false
   },
   "outputs": [],
   "source": [
    "# bokeh\n",
    "from bokeh.plotting import show,figure,output_file\n",
    "from bokeh.io import output_notebook\n",
    "#output_notebook()\n"
   ]
  },
  {
   "cell_type": "code",
   "execution_count": 1154,
   "metadata": {
    "collapsed": true
   },
   "outputs": [
    {
     "name": "stdout",
     "output_type": "stream",
     "text": [
      "<class 'shapely.geometry.multipolygon.MultiPolygon'>\n",
      "<class 'shapely.geometry.multipolygon.MultiPolygon'>\n",
      "<class 'shapely.geometry.multipolygon.MultiPolygon'>\n",
      "<class 'shapely.geometry.multipolygon.MultiPolygon'>\n",
      "<class 'shapely.geometry.multipolygon.MultiPolygon'>\n",
      "<class 'shapely.geometry.multipolygon.MultiPolygon'>\n",
      "<class 'shapely.geometry.multipolygon.MultiPolygon'>\n",
      "<class 'shapely.geometry.multipolygon.MultiPolygon'>\n",
      "<class 'shapely.geometry.multipolygon.MultiPolygon'>\n",
      "<class 'shapely.geometry.multipolygon.MultiPolygon'>\n",
      "<class 'shapely.geometry.multipolygon.MultiPolygon'>\n",
      "<class 'shapely.geometry.multipolygon.MultiPolygon'>\n",
      "<class 'shapely.geometry.multipolygon.MultiPolygon'>\n",
      "<class 'shapely.geometry.multipolygon.MultiPolygon'>\n",
      "<class 'shapely.geometry.multipolygon.MultiPolygon'>\n",
      "<class 'shapely.geometry.multipolygon.MultiPolygon'>\n",
      "<class 'shapely.geometry.multipolygon.MultiPolygon'>\n",
      "<class 'shapely.geometry.multipolygon.MultiPolygon'>\n",
      "<class 'shapely.geometry.multipolygon.MultiPolygon'>\n",
      "<class 'shapely.geometry.multipolygon.MultiPolygon'>\n",
      "<class 'shapely.geometry.multipolygon.MultiPolygon'>\n",
      "<class 'shapely.geometry.multipolygon.MultiPolygon'>\n",
      "<class 'shapely.geometry.multipolygon.MultiPolygon'>\n",
      "<class 'shapely.geometry.multipolygon.MultiPolygon'>\n",
      "<class 'shapely.geometry.multipolygon.MultiPolygon'>\n",
      "<class 'shapely.geometry.multipolygon.MultiPolygon'>\n",
      "<class 'shapely.geometry.multipolygon.MultiPolygon'>\n",
      "<class 'shapely.geometry.multipolygon.MultiPolygon'>\n",
      "<class 'shapely.geometry.multipolygon.MultiPolygon'>\n",
      "<class 'shapely.geometry.multipolygon.MultiPolygon'>\n",
      "<class 'shapely.geometry.multipolygon.MultiPolygon'>\n",
      "<class 'shapely.geometry.multipolygon.MultiPolygon'>\n",
      "<class 'shapely.geometry.multipolygon.MultiPolygon'>\n",
      "<class 'shapely.geometry.multipolygon.MultiPolygon'>\n",
      "<class 'shapely.geometry.multipolygon.MultiPolygon'>\n",
      "<class 'shapely.geometry.multipolygon.MultiPolygon'>\n",
      "<class 'shapely.geometry.multipolygon.MultiPolygon'>\n",
      "<class 'shapely.geometry.multipolygon.MultiPolygon'>\n",
      "<class 'shapely.geometry.multipolygon.MultiPolygon'>\n",
      "<class 'shapely.geometry.multipolygon.MultiPolygon'>\n",
      "<class 'shapely.geometry.multipolygon.MultiPolygon'>\n",
      "<class 'shapely.geometry.multipolygon.MultiPolygon'>\n",
      "<class 'shapely.geometry.multipolygon.MultiPolygon'>\n",
      "<class 'shapely.geometry.multipolygon.MultiPolygon'>\n",
      "<class 'shapely.geometry.multipolygon.MultiPolygon'>\n",
      "<class 'shapely.geometry.multipolygon.MultiPolygon'>\n",
      "<class 'shapely.geometry.multipolygon.MultiPolygon'>\n",
      "<class 'shapely.geometry.multipolygon.MultiPolygon'>\n",
      "<class 'shapely.geometry.multipolygon.MultiPolygon'>\n",
      "<class 'shapely.geometry.multipolygon.MultiPolygon'>\n",
      "<class 'shapely.geometry.multipolygon.MultiPolygon'>\n",
      "<class 'shapely.geometry.multipolygon.MultiPolygon'>\n",
      "<class 'shapely.geometry.multipolygon.MultiPolygon'>\n",
      "<class 'shapely.geometry.multipolygon.MultiPolygon'>\n",
      "<class 'shapely.geometry.multipolygon.MultiPolygon'>\n",
      "<class 'shapely.geometry.multipolygon.MultiPolygon'>\n",
      "<class 'shapely.geometry.multipolygon.MultiPolygon'>\n",
      "<class 'shapely.geometry.multipolygon.MultiPolygon'>\n",
      "<class 'shapely.geometry.multipolygon.MultiPolygon'>\n",
      "<class 'shapely.geometry.multipolygon.MultiPolygon'>\n",
      "<class 'shapely.geometry.multipolygon.MultiPolygon'>\n",
      "<class 'shapely.geometry.multipolygon.MultiPolygon'>\n",
      "<class 'shapely.geometry.multipolygon.MultiPolygon'>\n",
      "<class 'shapely.geometry.multipolygon.MultiPolygon'>\n",
      "<class 'shapely.geometry.multipolygon.MultiPolygon'>\n",
      "<class 'shapely.geometry.multipolygon.MultiPolygon'>\n",
      "<class 'shapely.geometry.multipolygon.MultiPolygon'>\n",
      "<class 'shapely.geometry.multipolygon.MultiPolygon'>\n",
      "<class 'shapely.geometry.multipolygon.MultiPolygon'>\n",
      "<class 'shapely.geometry.multipolygon.MultiPolygon'>\n",
      "<class 'shapely.geometry.multipolygon.MultiPolygon'>\n",
      "<class 'shapely.geometry.multipolygon.MultiPolygon'>\n",
      "<class 'shapely.geometry.multipolygon.MultiPolygon'>\n",
      "<class 'shapely.geometry.multipolygon.MultiPolygon'>\n",
      "<class 'shapely.geometry.multipolygon.MultiPolygon'>\n",
      "<class 'shapely.geometry.multipolygon.MultiPolygon'>\n",
      "<class 'shapely.geometry.multipolygon.MultiPolygon'>\n",
      "<class 'shapely.geometry.multipolygon.MultiPolygon'>\n",
      "<class 'shapely.geometry.multipolygon.MultiPolygon'>\n",
      "<class 'shapely.geometry.multipolygon.MultiPolygon'>\n",
      "<class 'shapely.geometry.multipolygon.MultiPolygon'>\n",
      "<class 'shapely.geometry.multipolygon.MultiPolygon'>\n",
      "<class 'shapely.geometry.multipolygon.MultiPolygon'>\n",
      "<class 'shapely.geometry.multipolygon.MultiPolygon'>\n",
      "<class 'shapely.geometry.multipolygon.MultiPolygon'>\n",
      "<class 'shapely.geometry.multipolygon.MultiPolygon'>\n",
      "<class 'shapely.geometry.multipolygon.MultiPolygon'>\n",
      "<class 'shapely.geometry.multipolygon.MultiPolygon'>\n",
      "<class 'shapely.geometry.multipolygon.MultiPolygon'>\n",
      "<class 'shapely.geometry.multipolygon.MultiPolygon'>\n",
      "<class 'shapely.geometry.multipolygon.MultiPolygon'>\n",
      "<class 'shapely.geometry.multipolygon.MultiPolygon'>\n",
      "<class 'shapely.geometry.multipolygon.MultiPolygon'>\n"
     ]
    }
   ],
   "source": [
    "for shape in refSHP:\n",
    "    if not isinstance(shape,shapely.geometry.polygon.Polygon):\n",
    "        print type(shape)\n",
    "        "
   ]
  },
  {
   "cell_type": "code",
   "execution_count": 1163,
   "metadata": {
    "collapsed": false
   },
   "outputs": [],
   "source": [
    "def plotGeometries_bk(shapelist):\n",
    "    output_file(\"lines.html\", title=\"shapefile plot example\")\n",
    "    p = figure(title=\"New York State Locales (by school districts)\", x_axis_label='longitude', y_axis_label='latitude')    \n",
    "    for shape in shapelist:\n",
    "        \n",
    "        if isinstance(shape,shapely.geometry.polygon.Polygon):\n",
    "            x,y = shape.exterior.xy \n",
    "            N=len(x)\n",
    "            factor = N//2000 +1\n",
    "            p.line(x[::factor],y[::factor],color='black')\n",
    "    show(p)\n",
    "plotGeometries_bk(refSHP)"
   ]
  },
  {
   "cell_type": "markdown",
   "metadata": {},
   "source": [
    "### shapefile : zipcodes from census"
   ]
  },
  {
   "cell_type": "code",
   "execution_count": 157,
   "metadata": {
    "collapsed": false,
    "scrolled": true
   },
   "outputs": [],
   "source": [
    "zc_read=gpd.read_file('./Shapefiles/tl_2015_us_zcta510.shp')\n"
   ]
  },
  {
   "cell_type": "code",
   "execution_count": 168,
   "metadata": {
    "collapsed": false
   },
   "outputs": [],
   "source": [
    "zc_read['ZCTA5CE10']=zc_read['ZCTA5CE10'].astype(int)\n"
   ]
  },
  {
   "cell_type": "code",
   "execution_count": 181,
   "metadata": {
    "collapsed": false
   },
   "outputs": [],
   "source": [
    "# new york zipcode ranges from https://data.ny.gov\n",
    "nyzc=county[ ((county['ZCTA5CE10'] <=14925) & (county['ZCTA5CE10'] >= 10000)) | (county['ZCTA5CE10'] == 501) | (county['ZCTA5CE10'] == 544)| (county['ZCTA5CE10'] == 6390)][['GEOID10','ZCTA5CE10','geometry']]"
   ]
  },
  {
   "cell_type": "code",
   "execution_count": 31,
   "metadata": {
    "collapsed": false
   },
   "outputs": [
    {
     "data": {
      "text/html": [
       "<div>\n",
       "<table border=\"1\" class=\"dataframe\">\n",
       "  <thead>\n",
       "    <tr style=\"text-align: right;\">\n",
       "      <th></th>\n",
       "      <th>NAME</th>\n",
       "      <th>GEOID</th>\n",
       "      <th>geometry</th>\n",
       "    </tr>\n",
       "    <tr>\n",
       "      <th>newIndex</th>\n",
       "      <th></th>\n",
       "      <th></th>\n",
       "      <th></th>\n",
       "    </tr>\n",
       "  </thead>\n",
       "  <tbody>\n",
       "    <tr>\n",
       "      <th>0</th>\n",
       "      <td>North Shore Central School District</td>\n",
       "      <td>3626370</td>\n",
       "      <td>POLYGON ((-73.67107299999999 40.859299, -73.65...</td>\n",
       "    </tr>\n",
       "    <tr>\n",
       "      <th>1</th>\n",
       "      <td>Seaford Union Free School District</td>\n",
       "      <td>3626400</td>\n",
       "      <td>POLYGON ((-73.50683099999999 40.666806, -73.50...</td>\n",
       "    </tr>\n",
       "    <tr>\n",
       "      <th>2</th>\n",
       "      <td>Uniondale Union Free School District</td>\n",
       "      <td>3629280</td>\n",
       "      <td>POLYGON ((-73.619737 40.68251799999999, -73.61...</td>\n",
       "    </tr>\n",
       "  </tbody>\n",
       "</table>\n",
       "</div>"
      ],
      "text/plain": [
       "                                          NAME    GEOID  \\\n",
       "newIndex                                                  \n",
       "0          North Shore Central School District  3626370   \n",
       "1           Seaford Union Free School District  3626400   \n",
       "2         Uniondale Union Free School District  3629280   \n",
       "\n",
       "                                                   geometry  \n",
       "newIndex                                                     \n",
       "0         POLYGON ((-73.67107299999999 40.859299, -73.65...  \n",
       "1         POLYGON ((-73.50683099999999 40.666806, -73.50...  \n",
       "2         POLYGON ((-73.619737 40.68251799999999, -73.61...  "
      ]
     },
     "execution_count": 31,
     "metadata": {},
     "output_type": "execute_result"
    }
   ],
   "source": [
    "sz=nyzc[nyzc['ZCTA5CE10']==10583]"
   ]
  },
  {
   "cell_type": "code",
   "execution_count": 570,
   "metadata": {
    "collapsed": false
   },
   "outputs": [
    {
     "data": {
      "text/plain": [
       "<matplotlib.axes._subplots.AxesSubplot at 0x16bfb0cd0>"
      ]
     },
     "execution_count": 570,
     "metadata": {},
     "output_type": "execute_result"
    },
    {
     "data": {
      "image/png": "[encoded data removed]",
      "text/plain": [
       "<matplotlib.figure.Figure at 0x16bd18110>"
      ]
     },
     "metadata": {},
     "output_type": "display_data"
    }
   ],
   "source": [
    "ss.plot()\n"
   ]
  },
  {
   "cell_type": "code",
   "execution_count": 33,
   "metadata": {
    "collapsed": false
   },
   "outputs": [
    {
     "name": "stdout",
     "output_type": "stream",
     "text": [
      "106    POLYGON ((-73.81042500000001 40.98839299999999...\n",
      "Name: geometry, dtype: object\n"
     ]
    }
   ],
   "source": [
    "ss_SHP=df_refSHP[df_refSHP['NAME'].str.contains('Scarsdale')]\n",
    "#.iat[0,0]\n",
    "#ss['geometry'].plot()\n",
    "print ss_SHP['geometry']"
   ]
  },
  {
   "cell_type": "code",
   "execution_count": 427,
   "metadata": {
    "collapsed": false
   },
   "outputs": [
    {
     "data": {
      "text/plain": [
       "<matplotlib.axes._subplots.AxesSubplot at 0x169b74850>"
      ]
     },
     "execution_count": 427,
     "metadata": {},
     "output_type": "execute_result"
    },
    {
     "data": {
      "image/png": "[encoded data removed]",
      "text/plain": [
       "<matplotlib.figure.Figure at 0x169b7eed0>"
      ]
     },
     "metadata": {},
     "output_type": "display_data"
    }
   ],
   "source": [
    "sz.plot()\n"
   ]
  },
  {
   "cell_type": "code",
   "execution_count": 230,
   "metadata": {
    "collapsed": true
   },
   "outputs": [
    {
     "ename": "ImportError",
     "evalue": "No module named tools",
     "output_type": "error",
     "traceback": [
      "\u001b[0;31m---------------------------------------------------------------------------\u001b[0m",
      "\u001b[0;31mImportError\u001b[0m                               Traceback (most recent call last)",
      "\u001b[0;32m<ipython-input-230-a6d7f18a28c7>\u001b[0m in \u001b[0;36m<module>\u001b[0;34m()\u001b[0m\n\u001b[0;32m----> 1\u001b[0;31m \u001b[0;32mfrom\u001b[0m \u001b[0mgeopandas\u001b[0m\u001b[0;34m.\u001b[0m\u001b[0mtools\u001b[0m \u001b[0;32mimport\u001b[0m \u001b[0moverlay\u001b[0m\u001b[0;34m\u001b[0m\u001b[0m\n\u001b[0m",
      "\u001b[0;31mImportError\u001b[0m: No module named tools"
     ]
    }
   ],
   "source": [
    "from geopandas.tools import overlay"
   ]
  },
  {
   "cell_type": "markdown",
   "metadata": {},
   "source": [
    "# Pricing data; assigned to corresponding refshape"
   ]
  },
  {
   "cell_type": "code",
   "execution_count": 546,
   "metadata": {
    "collapsed": false,
    "scrolled": true
   },
   "outputs": [
    {
     "data": {
      "text/html": [
       "<div>\n",
       "<table border=\"1\" class=\"dataframe\">\n",
       "  <thead>\n",
       "    <tr style=\"text-align: right;\">\n",
       "      <th></th>\n",
       "      <th>ZIDM</th>\n",
       "      <th>ZTYPE</th>\n",
       "      <th>ZIDS</th>\n",
       "      <th>ZNAMES</th>\n",
       "      <th>ZLAT</th>\n",
       "      <th>ZLONG</th>\n",
       "      <th>ZPRICE</th>\n",
       "      <th>refSHPindex</th>\n",
       "    </tr>\n",
       "  </thead>\n",
       "  <tbody>\n",
       "    <tr>\n",
       "      <th>0</th>\n",
       "      <td>6181</td>\n",
       "      <td>zipcode</td>\n",
       "      <td>62080</td>\n",
       "      <td>11368</td>\n",
       "      <td>40.752140</td>\n",
       "      <td>-73.853418</td>\n",
       "      <td>413100.0</td>\n",
       "      <td>299</td>\n",
       "    </tr>\n",
       "    <tr>\n",
       "      <th>1</th>\n",
       "      <td>6181</td>\n",
       "      <td>zipcode</td>\n",
       "      <td>62037</td>\n",
       "      <td>11226</td>\n",
       "      <td>40.647434</td>\n",
       "      <td>-73.958823</td>\n",
       "      <td>633400.0</td>\n",
       "      <td>299</td>\n",
       "    </tr>\n",
       "    <tr>\n",
       "      <th>2</th>\n",
       "      <td>6181</td>\n",
       "      <td>zipcode</td>\n",
       "      <td>62093</td>\n",
       "      <td>11385</td>\n",
       "      <td>40.698381</td>\n",
       "      <td>-73.887452</td>\n",
       "      <td>487800.0</td>\n",
       "      <td>299</td>\n",
       "    </tr>\n",
       "  </tbody>\n",
       "</table>\n",
       "</div>"
      ],
      "text/plain": [
       "   ZIDM    ZTYPE   ZIDS ZNAMES       ZLAT      ZLONG    ZPRICE  refSHPindex\n",
       "0  6181  zipcode  62080  11368  40.752140 -73.853418  413100.0          299\n",
       "1  6181  zipcode  62037  11226  40.647434 -73.958823  633400.0          299\n",
       "2  6181  zipcode  62093  11385  40.698381 -73.887452  487800.0          299"
      ]
     },
     "execution_count": 546,
     "metadata": {},
     "output_type": "execute_result"
    }
   ],
   "source": [
    "df_zillow_ny_regionData['refSHPindex']=assign_zRegion2RefSHP\n",
    "df_zillow_ny_regionData[:3]"
   ]
  },
  {
   "cell_type": "code",
   "execution_count": 119,
   "metadata": {
    "collapsed": false
   },
   "outputs": [
    {
     "data": {
      "text/html": [
       "<div>\n",
       "<table border=\"1\" class=\"dataframe\">\n",
       "  <thead>\n",
       "    <tr style=\"text-align: right;\">\n",
       "      <th></th>\n",
       "      <th>ZIDM</th>\n",
       "      <th>ZTYPE</th>\n",
       "      <th>ZIDS</th>\n",
       "      <th>ZNAMES</th>\n",
       "      <th>ZLAT</th>\n",
       "      <th>ZLONG</th>\n",
       "      <th>ZPRICE</th>\n",
       "      <th>refSHPindex</th>\n",
       "    </tr>\n",
       "  </thead>\n",
       "  <tbody>\n",
       "    <tr>\n",
       "      <th>434</th>\n",
       "      <td>27652</td>\n",
       "      <td>zipcode</td>\n",
       "      <td>62167</td>\n",
       "      <td>11580</td>\n",
       "      <td>40.676584</td>\n",
       "      <td>-73.704090</td>\n",
       "      <td>357100.0</td>\n",
       "      <td>-1</td>\n",
       "    </tr>\n",
       "    <tr>\n",
       "      <th>435</th>\n",
       "      <td>27652</td>\n",
       "      <td>zipcode</td>\n",
       "      <td>62168</td>\n",
       "      <td>11581</td>\n",
       "      <td>40.652618</td>\n",
       "      <td>-73.714628</td>\n",
       "      <td>405000.0</td>\n",
       "      <td>-1</td>\n",
       "    </tr>\n",
       "    <tr>\n",
       "      <th>436</th>\n",
       "      <td>27652</td>\n",
       "      <td>zipcode</td>\n",
       "      <td>62169</td>\n",
       "      <td>11582</td>\n",
       "      <td>40.662145</td>\n",
       "      <td>-73.702610</td>\n",
       "      <td>387700.0</td>\n",
       "      <td>-1</td>\n",
       "    </tr>\n",
       "    <tr>\n",
       "      <th>480</th>\n",
       "      <td>31419</td>\n",
       "      <td>zipcode</td>\n",
       "      <td>61978</td>\n",
       "      <td>11003</td>\n",
       "      <td>40.699356</td>\n",
       "      <td>-73.706137</td>\n",
       "      <td>336400.0</td>\n",
       "      <td>-1</td>\n",
       "    </tr>\n",
       "    <tr>\n",
       "      <th>511</th>\n",
       "      <td>46509</td>\n",
       "      <td>zipcode</td>\n",
       "      <td>62157</td>\n",
       "      <td>11566</td>\n",
       "      <td>40.646942</td>\n",
       "      <td>-73.551692</td>\n",
       "      <td>467500.0</td>\n",
       "      <td>-1</td>\n",
       "    </tr>\n",
       "    <tr>\n",
       "      <th>568</th>\n",
       "      <td>38598</td>\n",
       "      <td>zipcode</td>\n",
       "      <td>61981</td>\n",
       "      <td>11010</td>\n",
       "      <td>40.700168</td>\n",
       "      <td>-73.673972</td>\n",
       "      <td>410100.0</td>\n",
       "      <td>-1</td>\n",
       "    </tr>\n",
       "    <tr>\n",
       "      <th>675</th>\n",
       "      <td>13026</td>\n",
       "      <td>main</td>\n",
       "      <td>13026</td>\n",
       "      <td>North New Hyde Park</td>\n",
       "      <td>40.747676</td>\n",
       "      <td>-73.681893</td>\n",
       "      <td>582800.0</td>\n",
       "      <td>-1</td>\n",
       "    </tr>\n",
       "    <tr>\n",
       "      <th>684</th>\n",
       "      <td>24725</td>\n",
       "      <td>zipcode</td>\n",
       "      <td>61977</td>\n",
       "      <td>11002</td>\n",
       "      <td>40.726541</td>\n",
       "      <td>-73.708598</td>\n",
       "      <td>546600.0</td>\n",
       "      <td>-1</td>\n",
       "    </tr>\n",
       "    <tr>\n",
       "      <th>815</th>\n",
       "      <td>33074</td>\n",
       "      <td>zipcode</td>\n",
       "      <td>61992</td>\n",
       "      <td>11041</td>\n",
       "      <td>40.730200</td>\n",
       "      <td>-73.683699</td>\n",
       "      <td>520300.0</td>\n",
       "      <td>-1</td>\n",
       "    </tr>\n",
       "    <tr>\n",
       "      <th>817</th>\n",
       "      <td>33074</td>\n",
       "      <td>zipcode</td>\n",
       "      <td>61995</td>\n",
       "      <td>11044</td>\n",
       "      <td>40.734899</td>\n",
       "      <td>-73.688199</td>\n",
       "      <td>520300.0</td>\n",
       "      <td>-1</td>\n",
       "    </tr>\n",
       "    <tr>\n",
       "      <th>818</th>\n",
       "      <td>33074</td>\n",
       "      <td>zipcode</td>\n",
       "      <td>62003</td>\n",
       "      <td>11099</td>\n",
       "      <td>40.734899</td>\n",
       "      <td>-73.688199</td>\n",
       "      <td>520300.0</td>\n",
       "      <td>-1</td>\n",
       "    </tr>\n",
       "    <tr>\n",
       "      <th>869</th>\n",
       "      <td>45396</td>\n",
       "      <td>main</td>\n",
       "      <td>45396</td>\n",
       "      <td>Garden City Park</td>\n",
       "      <td>40.747675</td>\n",
       "      <td>-73.681257</td>\n",
       "      <td>576200.0</td>\n",
       "      <td>-1</td>\n",
       "    </tr>\n",
       "    <tr>\n",
       "      <th>1196</th>\n",
       "      <td>49508</td>\n",
       "      <td>zipcode</td>\n",
       "      <td>61991</td>\n",
       "      <td>11040</td>\n",
       "      <td>40.743935</td>\n",
       "      <td>-73.680546</td>\n",
       "      <td>540500.0</td>\n",
       "      <td>-1</td>\n",
       "    </tr>\n",
       "    <tr>\n",
       "      <th>1303</th>\n",
       "      <td>42212</td>\n",
       "      <td>main</td>\n",
       "      <td>42212</td>\n",
       "      <td>Garden City South</td>\n",
       "      <td>40.713412</td>\n",
       "      <td>-73.658389</td>\n",
       "      <td>508700.0</td>\n",
       "      <td>-1</td>\n",
       "    </tr>\n",
       "    <tr>\n",
       "      <th>1530</th>\n",
       "      <td>29295</td>\n",
       "      <td>main</td>\n",
       "      <td>29295</td>\n",
       "      <td>Stewart Manor</td>\n",
       "      <td>40.719600</td>\n",
       "      <td>-73.685228</td>\n",
       "      <td>553400.0</td>\n",
       "      <td>-1</td>\n",
       "    </tr>\n",
       "    <tr>\n",
       "      <th>1674</th>\n",
       "      <td>16969</td>\n",
       "      <td>zipcode</td>\n",
       "      <td>61976</td>\n",
       "      <td>11001</td>\n",
       "      <td>40.724031</td>\n",
       "      <td>-73.707538</td>\n",
       "      <td>503400.0</td>\n",
       "      <td>-1</td>\n",
       "    </tr>\n",
       "  </tbody>\n",
       "</table>\n",
       "</div>"
      ],
      "text/plain": [
       "       ZIDM    ZTYPE   ZIDS               ZNAMES       ZLAT      ZLONG  \\\n",
       "434   27652  zipcode  62167                11580  40.676584 -73.704090   \n",
       "435   27652  zipcode  62168                11581  40.652618 -73.714628   \n",
       "436   27652  zipcode  62169                11582  40.662145 -73.702610   \n",
       "480   31419  zipcode  61978                11003  40.699356 -73.706137   \n",
       "511   46509  zipcode  62157                11566  40.646942 -73.551692   \n",
       "568   38598  zipcode  61981                11010  40.700168 -73.673972   \n",
       "675   13026     main  13026  North New Hyde Park  40.747676 -73.681893   \n",
       "684   24725  zipcode  61977                11002  40.726541 -73.708598   \n",
       "815   33074  zipcode  61992                11041  40.730200 -73.683699   \n",
       "817   33074  zipcode  61995                11044  40.734899 -73.688199   \n",
       "818   33074  zipcode  62003                11099  40.734899 -73.688199   \n",
       "869   45396     main  45396     Garden City Park  40.747675 -73.681257   \n",
       "1196  49508  zipcode  61991                11040  40.743935 -73.680546   \n",
       "1303  42212     main  42212    Garden City South  40.713412 -73.658389   \n",
       "1530  29295     main  29295        Stewart Manor  40.719600 -73.685228   \n",
       "1674  16969  zipcode  61976                11001  40.724031 -73.707538   \n",
       "\n",
       "        ZPRICE  refSHPindex  \n",
       "434   357100.0           -1  \n",
       "435   405000.0           -1  \n",
       "436   387700.0           -1  \n",
       "480   336400.0           -1  \n",
       "511   467500.0           -1  \n",
       "568   410100.0           -1  \n",
       "675   582800.0           -1  \n",
       "684   546600.0           -1  \n",
       "815   520300.0           -1  \n",
       "817   520300.0           -1  \n",
       "818   520300.0           -1  \n",
       "869   576200.0           -1  \n",
       "1196  540500.0           -1  \n",
       "1303  508700.0           -1  \n",
       "1530  553400.0           -1  \n",
       "1674  503400.0           -1  "
      ]
     },
     "execution_count": 119,
     "metadata": {},
     "output_type": "execute_result"
    }
   ],
   "source": [
    "# sanity check: zilow regions not mappable to schools (because sec-schools are omitted)\n",
    "df_zillow_ny_regionData[df_zillow_ny_regionData['refSHPindex']==-1]"
   ]
  },
  {
   "cell_type": "code",
   "execution_count": 547,
   "metadata": {
    "collapsed": false
   },
   "outputs": [
    {
     "data": {
      "text/html": [
       "<div>\n",
       "<table border=\"1\" class=\"dataframe\">\n",
       "  <thead>\n",
       "    <tr style=\"text-align: right;\">\n",
       "      <th></th>\n",
       "      <th>zprice</th>\n",
       "      <th>ZLAT</th>\n",
       "      <th>ZLONG</th>\n",
       "    </tr>\n",
       "    <tr>\n",
       "      <th>refSHPindex</th>\n",
       "      <th></th>\n",
       "      <th></th>\n",
       "      <th></th>\n",
       "    </tr>\n",
       "  </thead>\n",
       "  <tbody>\n",
       "    <tr>\n",
       "      <th>-1</th>\n",
       "      <td>483518.750000</td>\n",
       "      <td>40.710043</td>\n",
       "      <td>-73.682292</td>\n",
       "    </tr>\n",
       "    <tr>\n",
       "      <th>0</th>\n",
       "      <td>637400.000000</td>\n",
       "      <td>40.844821</td>\n",
       "      <td>-73.643269</td>\n",
       "    </tr>\n",
       "    <tr>\n",
       "      <th>1</th>\n",
       "      <td>414700.000000</td>\n",
       "      <td>40.664910</td>\n",
       "      <td>-73.492348</td>\n",
       "    </tr>\n",
       "    <tr>\n",
       "      <th>2</th>\n",
       "      <td>411560.000000</td>\n",
       "      <td>40.712147</td>\n",
       "      <td>-73.596235</td>\n",
       "    </tr>\n",
       "    <tr>\n",
       "      <th>3</th>\n",
       "      <td>428033.333333</td>\n",
       "      <td>40.655916</td>\n",
       "      <td>-73.515338</td>\n",
       "    </tr>\n",
       "  </tbody>\n",
       "</table>\n",
       "</div>"
      ],
      "text/plain": [
       "                    zprice       ZLAT      ZLONG\n",
       "refSHPindex                                     \n",
       "-1           483518.750000  40.710043 -73.682292\n",
       " 0           637400.000000  40.844821 -73.643269\n",
       " 1           414700.000000  40.664910 -73.492348\n",
       " 2           411560.000000  40.712147 -73.596235\n",
       " 3           428033.333333  40.655916 -73.515338"
      ]
     },
     "execution_count": 547,
     "metadata": {},
     "output_type": "execute_result"
    }
   ],
   "source": [
    "# combine data in the same refSHPindex using desired aggregator\n",
    "df_price=df_zillow_ny_regionData[['refSHPindex','ZPRICE','ZLAT','ZLONG']].groupby('refSHPindex').mean()\n",
    "df_price.rename(columns={'ZPRICE':'zprice'},inplace=True)\n",
    "df_price[:5]"
   ]
  },
  {
   "cell_type": "markdown",
   "metadata": {},
   "source": [
    "# plot home prices on map"
   ]
  },
  {
   "cell_type": "code",
   "execution_count": 695,
   "metadata": {
    "collapsed": false
   },
   "outputs": [],
   "source": [
    "t1=pd.merge(df_refSHP,df_price,left_index=True,right_index=True,how='left')\n",
    "df_price_shape = t1[['name','centroid','geometry','zprice']]"
   ]
  },
  {
   "cell_type": "code",
   "execution_count": 696,
   "metadata": {
    "collapsed": false
   },
   "outputs": [],
   "source": [
    "crs = crs = {'init': 'epsg:4326', 'no_defs': True}\n",
    "geo_df = gpd.GeoDataFrame(df_price_shape, crs=crs)\n",
    "geo_str = geo_df.to_json()"
   ]
  },
  {
   "cell_type": "code",
   "execution_count": 697,
   "metadata": {
    "collapsed": false
   },
   "outputs": [
    {
     "name": "stdout",
     "output_type": "stream",
     "text": [
      "count    5.310000e+02\n",
      "mean     2.480405e+05\n",
      "std      2.568224e+05\n",
      "min      4.700000e+04\n",
      "25%      1.084667e+05\n",
      "50%      1.535000e+05\n",
      "75%      2.792750e+05\n",
      "max      2.632400e+06\n",
      "Name: zprice, dtype: float64\n"
     ]
    }
   ],
   "source": [
    "print geo_df['zprice'].describe()"
   ]
  },
  {
   "cell_type": "code",
   "execution_count": 699,
   "metadata": {
    "collapsed": true
   },
   "outputs": [],
   "source": [
    "# function to provide color (from colorbrewer)\n",
    "def getColor(d):\n",
    "    if d > 1000000: \n",
    "        return '#4d9221' # green\n",
    "    elif d > 500000:\n",
    "        return '#7fbc41'\n",
    "    elif d > 400000:\n",
    "        return '#b8e186'\n",
    "    elif d > 300000:\n",
    "        return '#e6f5d0'\n",
    "    elif d > 200000:\n",
    "        return '#fde0ef'\n",
    "    elif d > 100000:\n",
    "        return '#f7f7f7'\n",
    "    elif d > 80000:\n",
    "        return '#f1b6da'\n",
    "    elif d > 60000:\n",
    "        return '#de77ae'\n",
    "    elif d > 40000:    \n",
    "        return '#c51b7d'\n",
    "    elif d > 20000: \n",
    "        return '#8e0152' # pink\n",
    "    return '#d9d9d9'"
   ]
  },
  {
   "cell_type": "code",
   "execution_count": 700,
   "metadata": {
    "collapsed": false
   },
   "outputs": [],
   "source": [
    "#\n",
    "m = folium.Map([40.6,-73.938], zoom_start=8,tiles='cartodbpositron')\n",
    "\n",
    "folium.GeoJson(geo_df,    style_function=lambda feature: {\n",
    "        'fillColor': getColor(feature['properties']['zprice']),\n",
    "        'color' : 'black',\n",
    "        'weight' : 1,\n",
    "        'fillOpacity':1, 'opacity':0.2\n",
    "        }\n",
    "              ).add_to(m)\n",
    "path='medHomePrice.html'\n",
    "m.save(path)\n"
   ]
  },
  {
   "cell_type": "code",
   "execution_count": null,
   "metadata": {
    "collapsed": true
   },
   "outputs": [],
   "source": []
  },
  {
   "cell_type": "code",
   "execution_count": null,
   "metadata": {
    "collapsed": true
   },
   "outputs": [],
   "source": []
  },
  {
   "cell_type": "markdown",
   "metadata": {},
   "source": [
    "# get baseline pricing based on lat-long (kneighbor)"
   ]
  },
  {
   "cell_type": "code",
   "execution_count": 678,
   "metadata": {
    "collapsed": false
   },
   "outputs": [],
   "source": [
    "# training set: data from 532 price,(zlat,zlong data)\n",
    "t=df_price[df_price.index.values>-1]\n",
    "X_train = t[['ZLONG','ZLAT']].as_matrix()\n",
    "y_train=t['zprice'].tolist()"
   ]
  },
  {
   "cell_type": "code",
   "execution_count": 679,
   "metadata": {
    "collapsed": false
   },
   "outputs": [],
   "source": [
    "# applied to: 672 refshapes\n",
    "X_test = [ list(x) for x in df_refSHP['centroid'].as_matrix() ]"
   ]
  },
  {
   "cell_type": "code",
   "execution_count": 680,
   "metadata": {
    "collapsed": false
   },
   "outputs": [
    {
     "data": {
      "text/plain": [
       "KNeighborsRegressor(algorithm='auto', leaf_size=30, metric='minkowski',\n",
       "          metric_params=None, n_jobs=1, n_neighbors=15, p=2,\n",
       "          weights='uniform')"
      ]
     },
     "execution_count": 680,
     "metadata": {},
     "output_type": "execute_result"
    }
   ],
   "source": [
    "from sklearn.neighbors import KNeighborsRegressor\n",
    "kr = KNeighborsRegressor(n_neighbors=15)\n",
    "kr.fit(X_train,y_train)"
   ]
  },
  {
   "cell_type": "code",
   "execution_count": 681,
   "metadata": {
    "collapsed": false
   },
   "outputs": [],
   "source": [
    "price_baseline = kr.predict(X_test)"
   ]
  },
  {
   "cell_type": "code",
   "execution_count": 682,
   "metadata": {
    "collapsed": false
   },
   "outputs": [
    {
     "data": {
      "text/html": [
       "<div>\n",
       "<table border=\"1\" class=\"dataframe\">\n",
       "  <thead>\n",
       "    <tr style=\"text-align: right;\">\n",
       "      <th></th>\n",
       "      <th>price_baseline</th>\n",
       "    </tr>\n",
       "  </thead>\n",
       "  <tbody>\n",
       "    <tr>\n",
       "      <th>0</th>\n",
       "      <td>825475.555556</td>\n",
       "    </tr>\n",
       "    <tr>\n",
       "      <th>1</th>\n",
       "      <td>373469.555556</td>\n",
       "    </tr>\n",
       "    <tr>\n",
       "      <th>2</th>\n",
       "      <td>514428.444444</td>\n",
       "    </tr>\n",
       "  </tbody>\n",
       "</table>\n",
       "</div>"
      ],
      "text/plain": [
       "   price_baseline\n",
       "0   825475.555556\n",
       "1   373469.555556\n",
       "2   514428.444444"
      ]
     },
     "execution_count": 682,
     "metadata": {},
     "output_type": "execute_result"
    }
   ],
   "source": [
    "df_price_baseline = pd.DataFrame({'price_baseline':price_baseline},index =range(672))\n",
    "df_price_baseline[:3]\n"
   ]
  },
  {
   "cell_type": "code",
   "execution_count": 683,
   "metadata": {
    "collapsed": true
   },
   "outputs": [],
   "source": [
    "dill.dump(df_price_baseline,open('../OUTDATA/price_baseline.dill','wb'))"
   ]
  },
  {
   "cell_type": "code",
   "execution_count": null,
   "metadata": {
    "collapsed": true
   },
   "outputs": [],
   "source": []
  },
  {
   "cell_type": "markdown",
   "metadata": {},
   "source": [
    "# Combining pricing data and feature(s) based on refshapes"
   ]
  },
  {
   "cell_type": "code",
   "execution_count": 540,
   "metadata": {
    "collapsed": false
   },
   "outputs": [
    {
     "name": "stdout",
     "output_type": "stream",
     "text": [
      "price 532 Int64Index([-1, 0, 1, 2, 3], dtype='int64', name=u'refSHPindex')\n",
      "school 641 Int64Index([0, 1, 2, 3, 4], dtype='int64', name=u'refshpindex')\n",
      "crime 672 Int64Index([1, 2, 3, 8, 10], dtype='int64', name=u'refshpindex')\n",
      "roi 534 Int64Index([0, 1, 2, 3, 5], dtype='int64', name=u'targetind')\n"
     ]
    }
   ],
   "source": [
    "print \"price\",len(df_price),df_price.index[:5]\n",
    "print \"school\",len(df_schoolPerform),df_schoolPerform.index[:5]\n",
    "print \"crime\",len(df_crime),df_crime.index[:5]\n",
    "print \"roi\",len(df_roi),df_roi.index[:5]"
   ]
  },
  {
   "cell_type": "code",
   "execution_count": 537,
   "metadata": {
    "collapsed": false
   },
   "outputs": [
    {
     "data": {
      "text/html": [
       "<div>\n",
       "<table border=\"1\" class=\"dataframe\">\n",
       "  <thead>\n",
       "    <tr style=\"text-align: right;\">\n",
       "      <th></th>\n",
       "      <th>PD</th>\n",
       "      <th>county</th>\n",
       "      <th>crimerate_property</th>\n",
       "      <th>crimerate_total</th>\n",
       "      <th>crimerate_violent</th>\n",
       "      <th>geometry</th>\n",
       "      <th>name</th>\n",
       "      <th>refshpindex</th>\n",
       "    </tr>\n",
       "    <tr>\n",
       "      <th>refshpindex</th>\n",
       "      <th></th>\n",
       "      <th></th>\n",
       "      <th></th>\n",
       "      <th></th>\n",
       "      <th></th>\n",
       "      <th></th>\n",
       "      <th></th>\n",
       "      <th></th>\n",
       "    </tr>\n",
       "  </thead>\n",
       "  <tbody>\n",
       "    <tr>\n",
       "      <th>1</th>\n",
       "      <td>Hempstead Vg PD</td>\n",
       "      <td>Nassau</td>\n",
       "      <td>0.127014</td>\n",
       "      <td>0.190324</td>\n",
       "      <td>0.06331</td>\n",
       "      <td>POLYGON ((-73.50683099999999 40.666806, -73.50...</td>\n",
       "      <td>Seaford Union Free School District</td>\n",
       "      <td>1</td>\n",
       "    </tr>\n",
       "  </tbody>\n",
       "</table>\n",
       "</div>"
      ],
      "text/plain": [
       "                          PD  county  crimerate_property  crimerate_total  \\\n",
       "refshpindex                                                                 \n",
       "1            Hempstead Vg PD  Nassau            0.127014         0.190324   \n",
       "\n",
       "             crimerate_violent  \\\n",
       "refshpindex                      \n",
       "1                      0.06331   \n",
       "\n",
       "                                                      geometry  \\\n",
       "refshpindex                                                      \n",
       "1            POLYGON ((-73.50683099999999 40.666806, -73.50...   \n",
       "\n",
       "                                           name  refshpindex  \n",
       "refshpindex                                                   \n",
       "1            Seaford Union Free School District            1  "
      ]
     },
     "execution_count": 537,
     "metadata": {},
     "output_type": "execute_result"
    }
   ],
   "source": [
    "df_crime = dill.load(open('../OUTDATA/refshape_crime2014.dill','rb'))\n",
    "df_crime[df_crime.index.values==1]"
   ]
  },
  {
   "cell_type": "code",
   "execution_count": 623,
   "metadata": {
    "collapsed": false
   },
   "outputs": [
    {
     "data": {
      "text/html": [
       "<div>\n",
       "<table border=\"1\" class=\"dataframe\">\n",
       "  <thead>\n",
       "    <tr style=\"text-align: right;\">\n",
       "      <th></th>\n",
       "      <th>name</th>\n",
       "      <th>county</th>\n",
       "      <th>RegionID</th>\n",
       "      <th>Metro</th>\n",
       "      <th>roi</th>\n",
       "      <th>geometry</th>\n",
       "    </tr>\n",
       "    <tr>\n",
       "      <th>refshpindex</th>\n",
       "      <th></th>\n",
       "      <th></th>\n",
       "      <th></th>\n",
       "      <th></th>\n",
       "      <th></th>\n",
       "      <th></th>\n",
       "    </tr>\n",
       "  </thead>\n",
       "  <tbody>\n",
       "    <tr>\n",
       "      <th>0</th>\n",
       "      <td>North Shore Central School District</td>\n",
       "      <td>Nassau</td>\n",
       "      <td>13747.0</td>\n",
       "      <td>New York</td>\n",
       "      <td>-0.134523</td>\n",
       "      <td>POLYGON ((-73.67107299999999 40.859299, -73.65...</td>\n",
       "    </tr>\n",
       "    <tr>\n",
       "      <th>1</th>\n",
       "      <td>Seaford Union Free School District</td>\n",
       "      <td>Nassau</td>\n",
       "      <td>33904.0</td>\n",
       "      <td>New York</td>\n",
       "      <td>-1.439441</td>\n",
       "      <td>POLYGON ((-73.50683099999999 40.666806, -73.50...</td>\n",
       "    </tr>\n",
       "  </tbody>\n",
       "</table>\n",
       "</div>"
      ],
      "text/plain": [
       "                                            name  county  RegionID     Metro  \\\n",
       "refshpindex                                                                    \n",
       "0            North Shore Central School District  Nassau   13747.0  New York   \n",
       "1             Seaford Union Free School District  Nassau   33904.0  New York   \n",
       "\n",
       "                  roi                                           geometry  \n",
       "refshpindex                                                               \n",
       "0           -0.134523  POLYGON ((-73.67107299999999 40.859299, -73.65...  \n",
       "1           -1.439441  POLYGON ((-73.50683099999999 40.666806, -73.50...  "
      ]
     },
     "execution_count": 623,
     "metadata": {},
     "output_type": "execute_result"
    }
   ],
   "source": [
    "df_roi=dill.load(open('../OUTDATA/refshape_roi_2006-2016.dill','rb'))\n",
    "df_roi[:2]"
   ]
  },
  {
   "cell_type": "code",
   "execution_count": 634,
   "metadata": {
    "collapsed": false
   },
   "outputs": [
    {
     "data": {
      "text/html": [
       "<div>\n",
       "<table border=\"1\" class=\"dataframe\">\n",
       "  <thead>\n",
       "    <tr style=\"text-align: right;\">\n",
       "      <th></th>\n",
       "      <th>zprice</th>\n",
       "      <th>sch_perform</th>\n",
       "      <th>crimerate_total</th>\n",
       "      <th>crimerate_violent</th>\n",
       "      <th>crimerate_property</th>\n",
       "      <th>roi</th>\n",
       "      <th>price_baseline</th>\n",
       "      <th>premium</th>\n",
       "    </tr>\n",
       "  </thead>\n",
       "  <tbody>\n",
       "    <tr>\n",
       "      <th>0</th>\n",
       "      <td>637400.0</td>\n",
       "      <td>0.0</td>\n",
       "      <td>1.319789</td>\n",
       "      <td>0.152516</td>\n",
       "      <td>1.167273</td>\n",
       "      <td>-0.134523</td>\n",
       "      <td>772685.000000</td>\n",
       "      <td>-135285.000000</td>\n",
       "    </tr>\n",
       "    <tr>\n",
       "      <th>1</th>\n",
       "      <td>414700.0</td>\n",
       "      <td>10.0</td>\n",
       "      <td>0.190324</td>\n",
       "      <td>0.063310</td>\n",
       "      <td>0.127014</td>\n",
       "      <td>-1.439441</td>\n",
       "      <td>409826.666667</td>\n",
       "      <td>4873.333333</td>\n",
       "    </tr>\n",
       "    <tr>\n",
       "      <th>2</th>\n",
       "      <td>411560.0</td>\n",
       "      <td>0.0</td>\n",
       "      <td>0.190324</td>\n",
       "      <td>0.063310</td>\n",
       "      <td>0.127014</td>\n",
       "      <td>-1.869599</td>\n",
       "      <td>451332.000000</td>\n",
       "      <td>-39772.000000</td>\n",
       "    </tr>\n",
       "  </tbody>\n",
       "</table>\n",
       "</div>"
      ],
      "text/plain": [
       "     zprice  sch_perform  crimerate_total  crimerate_violent  \\\n",
       "0  637400.0          0.0         1.319789           0.152516   \n",
       "1  414700.0         10.0         0.190324           0.063310   \n",
       "2  411560.0          0.0         0.190324           0.063310   \n",
       "\n",
       "   crimerate_property       roi  price_baseline        premium  \n",
       "0            1.167273 -0.134523   772685.000000 -135285.000000  \n",
       "1            0.127014 -1.439441   409826.666667    4873.333333  \n",
       "2            0.127014 -1.869599   451332.000000  -39772.000000  "
      ]
     },
     "execution_count": 634,
     "metadata": {},
     "output_type": "execute_result"
    }
   ],
   "source": [
    "t1=pd.merge(df_price,df_schoolPerform,left_index=True,right_index=True,how='inner')\n",
    "del t1['ZLAT']\n",
    "del t1['ZLONG']\n",
    "t2=pd.merge(t1,df_crime[['crimerate_total','crimerate_violent','crimerate_property']],left_index=True,right_index=True,how='inner')\n",
    "t3=pd.merge(t2,df_roi[['roi']],left_index=True,right_index=True,how='inner')\n",
    "t4=pd.merge(t3,df_price_baseline,left_index=True,right_index=True,how='inner')\n",
    "t4[:10]\n",
    "df_price_features=t4\n",
    "df_price_features['premium'] = df_price_features['zprice']-df_price_features['price_baseline']\n",
    "df_price_features[:3]"
   ]
  },
  {
   "cell_type": "code",
   "execution_count": 684,
   "metadata": {
    "collapsed": false
   },
   "outputs": [
    {
     "data": {
      "text/plain": [
       "<matplotlib.text.Text at 0x1332e5f10>"
      ]
     },
     "execution_count": 684,
     "metadata": {},
     "output_type": "execute_result"
    },
    {
     "data": {
      "image/png": "[encoded data removed]",
      "text/plain": [
       "<matplotlib.figure.Figure at 0x133273ad0>"
      ]
     },
     "metadata": {},
     "output_type": "display_data"
    }
   ],
   "source": [
    "plt.plot(df_price_features['price_baseline'], df_price_features['zprice'], '.')\n",
    "plt.locator_params(nbins=6)\n",
    "plt.xlabel('Baseline Home Price (lat-long model)')\n",
    "plt.ylabel('Actual Home Price')"
   ]
  },
  {
   "cell_type": "code",
   "execution_count": null,
   "metadata": {
    "collapsed": true
   },
   "outputs": [],
   "source": []
  },
  {
   "cell_type": "code",
   "execution_count": null,
   "metadata": {
    "collapsed": true
   },
   "outputs": [],
   "source": []
  },
  {
   "cell_type": "code",
   "execution_count": null,
   "metadata": {
    "collapsed": true
   },
   "outputs": [],
   "source": []
  },
  {
   "cell_type": "code",
   "execution_count": null,
   "metadata": {
    "collapsed": true
   },
   "outputs": [],
   "source": []
  },
  {
   "cell_type": "markdown",
   "metadata": {},
   "source": [
    "# posting to postgresql"
   ]
  },
  {
   "cell_type": "code",
   "execution_count": 316,
   "metadata": {
    "collapsed": true
   },
   "outputs": [],
   "source": [
    "from sqlalchemy import create_engine\n",
    "from sqlalchemy import types as sqt"
   ]
  },
  {
   "cell_type": "code",
   "execution_count": 319,
   "metadata": {
    "collapsed": false
   },
   "outputs": [],
   "source": [
    "# connecting to local using sqlachemy\n",
    "local_engine_alchemy = create_engine('postgresql://enghuiy:@localhost:5432/nysRealEstate')"
   ]
  },
  {
   "cell_type": "code",
   "execution_count": 1111,
   "metadata": {
    "collapsed": false
   },
   "outputs": [
    {
     "name": "stdout",
     "output_type": "stream",
     "text": [
      "I am unable to connect to the database\n"
     ]
    }
   ],
   "source": [
    "# remote db (heroku-app: homevalue-hunter)\n",
    "\n",
    "remote_engine = create_engine('postgresql://%s:%s@%s:5432/%s' %(USER,PGPASSWORD,HOST,DATABASE))\n",
    "try:\n",
    "    connection=remote_engine.connect()\n",
    "except:\n",
    "    print \"I am unable to connect to the database\"\n",
    "\n",
    "#result = connection.execute(\"select * from price2features\" )"
   ]
  },
  {
   "cell_type": "code",
   "execution_count": null,
   "metadata": {
    "collapsed": false
   },
   "outputs": [],
   "source": [
    "df_price_features.to_sql('price2features', local_engine_alchemy, if_exists='replace',index_label='refshpindex')\n"
   ]
  },
  {
   "cell_type": "code",
   "execution_count": 499,
   "metadata": {
    "collapsed": true
   },
   "outputs": [],
   "source": [
    "# save to files\n",
    "\n",
    "df_price_features.to_csv('../OUTDATA/price2features.csv')"
   ]
  },
  {
   "cell_type": "markdown",
   "metadata": {},
   "source": [
    "# extracting from postgresql"
   ]
  },
  {
   "cell_type": "code",
   "execution_count": 362,
   "metadata": {
    "collapsed": true
   },
   "outputs": [],
   "source": [
    "import psycopg2\n",
    "import urlparse\n"
   ]
  },
  {
   "cell_type": "code",
   "execution_count": 363,
   "metadata": {
    "collapsed": true
   },
   "outputs": [],
   "source": [
    "# connect to local database using psycopg2\n",
    "try:\n",
    "    connl = psycopg2.connect(\"dbname='nysRealEstate' user='enghuiy' host='localhost' password=''\")\n",
    "except:\n",
    "    print \"I am unable to connect to the database\"\n",
    "connl.set_session(autocommit=True);   \n",
    "cur = connl.cursor()"
   ]
  },
  {
   "cell_type": "code",
   "execution_count": 338,
   "metadata": {
    "collapsed": false
   },
   "outputs": [
    {
     "ename": "NameError",
     "evalue": "name 'urlparse' is not defined",
     "output_type": "error",
     "traceback": [
      "\u001b[0;31m---------------------------------------------------------------------------\u001b[0m",
      "\u001b[0;31mNameError\u001b[0m                                 Traceback (most recent call last)",
      "\u001b[0;32m<ipython-input-338-cdc5b6f895ff>\u001b[0m in \u001b[0;36m<module>\u001b[0;34m()\u001b[0m\n\u001b[1;32m      1\u001b[0m \u001b[0;31m# to use on heroku\u001b[0m\u001b[0;34m\u001b[0m\u001b[0;34m\u001b[0m\u001b[0m\n\u001b[0;32m----> 2\u001b[0;31m \u001b[0murl\u001b[0m \u001b[0;34m=\u001b[0m \u001b[0murlparse\u001b[0m\u001b[0;34m.\u001b[0m\u001b[0murlparse\u001b[0m\u001b[0;34m(\u001b[0m\u001b[0murl_\u001b[0m\u001b[0;34m)\u001b[0m\u001b[0;34m\u001b[0m\u001b[0m\n\u001b[0m\u001b[1;32m      3\u001b[0m \u001b[0;34m\u001b[0m\u001b[0m\n\u001b[1;32m      4\u001b[0m conn = psycopg2.connect(\n\u001b[1;32m      5\u001b[0m     \u001b[0mdatabase\u001b[0m\u001b[0;34m=\u001b[0m\u001b[0murl\u001b[0m\u001b[0;34m.\u001b[0m\u001b[0mpath\u001b[0m\u001b[0;34m[\u001b[0m\u001b[0;36m1\u001b[0m\u001b[0;34m:\u001b[0m\u001b[0;34m]\u001b[0m\u001b[0;34m,\u001b[0m\u001b[0;34m\u001b[0m\u001b[0m\n",
      "\u001b[0;31mNameError\u001b[0m: name 'urlparse' is not defined"
     ]
    }
   ],
   "source": [
    "# to use on heroku\n",
    "url = urlparse.urlparse(url_)\n",
    "\n",
    "conn = psycopg2.connect(\n",
    "    database=url.path[1:],\n",
    "    user=url.username,\n",
    "    password=url.password,\n",
    "    host=url.hostname,\n",
    "    port=url.port,\n",
    "#    sslmode='require'\n",
    ")"
   ]
  },
  {
   "cell_type": "markdown",
   "metadata": {},
   "source": [
    "# Machine Learning "
   ]
  },
  {
   "cell_type": "code",
   "execution_count": 636,
   "metadata": {
    "collapsed": true
   },
   "outputs": [],
   "source": [
    "import numpy as np\n",
    "import re\n",
    "import math\n",
    "\n",
    "from sklearn import linear_model as lm\n",
    "from sklearn.metrics import r2_score"
   ]
  },
  {
   "cell_type": "code",
   "execution_count": 67,
   "metadata": {
    "collapsed": true
   },
   "outputs": [],
   "source": [
    "# normalization\n",
    "def norm(x_in,x_norm):\n",
    "    \n",
    "    x_mu = np.mean(x_in)\n",
    "    x_range = np.amax(x_in) - np.amin(x_in)\n",
    "    x_norm [:] = [ ( x - x_mu ) / float (x_range) for x in x_in]\n",
    "    return (x_mu, x_range)\n",
    "\n",
    "# convert back to abs value\n",
    "def unnorm(x_mu, x_range, x_norm):\n",
    "    x_out=[]\n",
    "    x_out [:] = [ x*x_range+x_mu for x in x_norm ]\n",
    "    return x_out"
   ]
  },
  {
   "cell_type": "code",
   "execution_count": 666,
   "metadata": {
    "collapsed": false
   },
   "outputs": [
    {
     "name": "stdout",
     "output_type": "stream",
     "text": [
      "457\n"
     ]
    },
    {
     "data": {
      "text/html": [
       "<div>\n",
       "<table border=\"1\" class=\"dataframe\">\n",
       "  <thead>\n",
       "    <tr style=\"text-align: right;\">\n",
       "      <th></th>\n",
       "      <th>zprice</th>\n",
       "      <th>sch_perform</th>\n",
       "      <th>crimerate_total</th>\n",
       "      <th>crimerate_violent</th>\n",
       "      <th>crimerate_property</th>\n",
       "      <th>roi</th>\n",
       "      <th>price_baseline</th>\n",
       "      <th>premium</th>\n",
       "    </tr>\n",
       "  </thead>\n",
       "  <tbody>\n",
       "    <tr>\n",
       "      <th>0</th>\n",
       "      <td>637400.0</td>\n",
       "      <td>0.0</td>\n",
       "      <td>1.319789</td>\n",
       "      <td>0.152516</td>\n",
       "      <td>1.167273</td>\n",
       "      <td>-0.134523</td>\n",
       "      <td>772685.000000</td>\n",
       "      <td>-135285.000000</td>\n",
       "    </tr>\n",
       "    <tr>\n",
       "      <th>1</th>\n",
       "      <td>414700.0</td>\n",
       "      <td>10.0</td>\n",
       "      <td>0.190324</td>\n",
       "      <td>0.063310</td>\n",
       "      <td>0.127014</td>\n",
       "      <td>-1.439441</td>\n",
       "      <td>409826.666667</td>\n",
       "      <td>4873.333333</td>\n",
       "    </tr>\n",
       "    <tr>\n",
       "      <th>2</th>\n",
       "      <td>411560.0</td>\n",
       "      <td>0.0</td>\n",
       "      <td>0.190324</td>\n",
       "      <td>0.063310</td>\n",
       "      <td>0.127014</td>\n",
       "      <td>-1.869599</td>\n",
       "      <td>451332.000000</td>\n",
       "      <td>-39772.000000</td>\n",
       "    </tr>\n",
       "  </tbody>\n",
       "</table>\n",
       "</div>"
      ],
      "text/plain": [
       "     zprice  sch_perform  crimerate_total  crimerate_violent  \\\n",
       "0  637400.0          0.0         1.319789           0.152516   \n",
       "1  414700.0         10.0         0.190324           0.063310   \n",
       "2  411560.0          0.0         0.190324           0.063310   \n",
       "\n",
       "   crimerate_property       roi  price_baseline        premium  \n",
       "0            1.167273 -0.134523   772685.000000 -135285.000000  \n",
       "1            0.127014 -1.439441   409826.666667    4873.333333  \n",
       "2            0.127014 -1.869599   451332.000000  -39772.000000  "
      ]
     },
     "execution_count": 666,
     "metadata": {},
     "output_type": "execute_result"
    }
   ],
   "source": [
    "# extract data from dataframes\n",
    "tmp=df_price_features.dropna()\n",
    "print len(tmp)\n",
    "#feature1=tmp['SCH_PERFORM'].tolist()\n",
    "#homevalue=tmp['ZPRICE'].tolist()\n",
    "tmp[:3]"
   ]
  },
  {
   "cell_type": "code",
   "execution_count": 663,
   "metadata": {
    "collapsed": false
   },
   "outputs": [
    {
     "name": "stdout",
     "output_type": "stream",
     "text": [
      "R^2 =  0.08\n"
     ]
    },
    {
     "data": {
      "image/png": "[encoded data removed]",
      "text/plain": [
       "<matplotlib.figure.Figure at 0x132e4bf90>"
      ]
     },
     "metadata": {},
     "output_type": "display_data"
    }
   ],
   "source": [
    "# univariate regression: school-performance; no baseline adjustment\n",
    "X_train = np.asarray(tmp['sch_perform'].tolist()).reshape(len(tmp),1)\n",
    "y_train = tmp['zprice'].tolist()\n",
    "\n",
    "lm1 = lm.LinearRegression(normalize=True)\n",
    "lm1.fit(X_train, y_train)\n",
    "y_predict0 = lm1.predict(X_train)\n",
    "score = lm1.score(X_train,y_train)\n",
    "\n",
    "plt.plot(X_train, y_train, '.')\n",
    "plt.plot(X_train, y_predict0)\n",
    "plt.locator_params(nbins=6)\n",
    "plt.xlabel('School Performance (% in top quantile; Gr8 math)')\n",
    "plt.ylabel('Home Price')\n",
    "print \"R^2 = %5.2f\" % score\n",
    "\n",
    "#test_xy = df_price_features[['sch_perform','zprice']].dropna()\n",
    "#X_test = np.asarray(test_xy['sch_perform'].tolist()).reshape(len(tmp),1)\n",
    "#y_test = test_xy['zprice'].tolist()\n",
    "#print len(y_test)\n",
    "\n",
    "#y_predict = lm1.predict(y_test)\n"
   ]
  },
  {
   "cell_type": "code",
   "execution_count": 685,
   "metadata": {
    "collapsed": false
   },
   "outputs": [
    {
     "name": "stdout",
     "output_type": "stream",
     "text": [
      "R^2 =  0.01\n"
     ]
    },
    {
     "data": {
      "image/png": "[encoded data removed]",
      "text/plain": [
       "<matplotlib.figure.Figure at 0x132ee8690>"
      ]
     },
     "metadata": {},
     "output_type": "display_data"
    }
   ],
   "source": [
    "# univariate regression: school-performance; with baseline adjustment\n",
    "X_train = np.asarray(tmp['sch_perform'].tolist()).reshape(len(tmp),1)\n",
    "y_train = tmp['premium'].tolist()\n",
    "\n",
    "lm1 = lm.LinearRegression(normalize=True)\n",
    "lm1.fit(X_train, y_train)\n",
    "y_predict0 = lm1.predict(X_train)\n",
    "score = lm1.score(X_train,y_train)\n",
    "\n",
    "plt.plot(X_train, y_train, '.')\n",
    "plt.plot(X_train, y_predict0)\n",
    "plt.locator_params(nbins=6)\n",
    "plt.xlabel('School Performance (% in top quantile; Gr8 math)')\n",
    "plt.ylabel('Home Price - Baseline')\n",
    "print \"R^2 = %5.2f\" % score\n",
    "\n",
    "#test_xy = df_price_features[['sch_perform','zprice']].dropna()\n",
    "#X_test = np.asarray(test_xy['sch_perform'].tolist()).reshape(len(tmp),1)\n",
    "#y_test = test_xy['zprice'].tolist()\n",
    "#print len(y_test)\n",
    "\n",
    "#y_predict = lm1.predict(y_test)\n"
   ]
  },
  {
   "cell_type": "code",
   "execution_count": 675,
   "metadata": {
    "collapsed": false
   },
   "outputs": [
    {
     "name": "stdout",
     "output_type": "stream",
     "text": [
      "R^2 =  0.13\n",
      "[  8832.074619   -37106.50134606 -17246.89053421]\n"
     ]
    }
   ],
   "source": [
    "# multivariate regression: school,roi,crime; no baseline adjustment\n",
    "X_train = np.asarray(tmp[['sch_perform','crimerate_total','roi']].as_matrix()).reshape(len(tmp),3)\n",
    "y_train = tmp['zprice'].tolist()\n",
    "\n",
    "lm3 = lm.LinearRegression(normalize=True)\n",
    "lm3.fit(X_train, y_train)\n",
    "y_predict0 = lm3.predict(X_train)\n",
    "score = lm3.score(X_train,y_train)\n",
    "\n",
    "#plt.plot(X_train, y_train, '.')\n",
    "#plt.plot(X_train, y_predict0)\n",
    "#plt.locator_params(nbins=6)\n",
    "#plt.xlabel('School Performance (% in top quantile; Gr8 math)')\n",
    "#plt.ylabel('Home Price')\n",
    "print \"R^2 = %5.2f\" % score\n",
    "print lm3.coef_\n",
    "\n",
    "\n",
    "#test_xy = df_price_features[['sch_perform','zprice']].dropna()\n",
    "#X_test = np.asarray(test_xy['sch_perform'].tolist()).reshape(len(tmp),1)\n",
    "#y_test = test_xy['zprice'].tolist()\n",
    "#print len(y_test)\n",
    "\n",
    "#y_predict = lm1.predict(y_test)\n"
   ]
  },
  {
   "cell_type": "code",
   "execution_count": 687,
   "metadata": {
    "collapsed": false
   },
   "outputs": [
    {
     "name": "stdout",
     "output_type": "stream",
     "text": [
      "R^2 =  0.04\n",
      "[  1464.86519525  -5589.04655566  10986.98265378]\n"
     ]
    }
   ],
   "source": [
    "# univariate regression: school,crime,roi; with baseline adjustment\n",
    "X_train = np.asarray(tmp[['sch_perform','crimerate_total','roi']].as_matrix()).reshape(len(tmp),3)\n",
    "y_train = tmp['premium'].tolist()\n",
    "\n",
    "lm3b = lm.LinearRegression(normalize=True)\n",
    "lm3b.fit(X_train, y_train)\n",
    "y_predict0 = lm3b.predict(X_train)\n",
    "score = lm3b.score(X_train,y_train)\n",
    "\n",
    "#plt.plot(X_train, y_train, '.')\n",
    "#plt.plot(X_train, y_predict0)\n",
    "#plt.locator_params(nbins=6)\n",
    "#plt.xlabel('School Performance (% in top quantile; Gr8 math)')\n",
    "#plt.ylabel('Home Price - Baseline')\n",
    "print \"R^2 = %5.2f\" % score\n",
    "print lm3b.coef_\n",
    "\n",
    "#test_xy = df_price_features[['sch_perform','zprice']].dropna()\n",
    "#X_test = np.asarray(test_xy['sch_perform'].tolist()).reshape(len(tmp),1)\n",
    "#y_test = test_xy['zprice'].tolist()\n",
    "#print len(y_test)\n",
    "\n",
    "#y_predict = lm1.predict(y_test)\n"
   ]
  },
  {
   "cell_type": "code",
   "execution_count": 69,
   "metadata": {
    "collapsed": true
   },
   "outputs": [],
   "source": [
    "# univariate regression (homePrice vs. SAT score)\n",
    "x1_norm=[]; y_norm=[]\n",
    "(x1_mu,x1_range) = norm(feature1,x1_norm)\n",
    "(y_mu, y_range) = norm(homevalue, y_norm)\n",
    "\n",
    "# univariate linear regression, with x0=1\n",
    "#X_train = zip( np.ones(len(x1_norm)),x1_norm)\n",
    "\n",
    "X_train = np.asarray(zip( np.ones(len(x1_norm)),x1_norm))\n",
    "#X_train = zip(np.asarray(x1_norm).reshape(-1,1)\n",
    "\n"
   ]
  },
  {
   "cell_type": "code",
   "execution_count": 70,
   "metadata": {
    "collapsed": false
   },
   "outputs": [
    {
     "name": "stdout",
     "output_type": "stream",
     "text": [
      "0.0921266199088\n"
     ]
    }
   ],
   "source": [
    "# Create linear regression object\n",
    "regr = lm.LinearRegression()\n",
    "regr.fit(X_train, y_norm)\n",
    "\n",
    "# convert y back to abs value\n",
    "y_predicted_norm1 = regr.predict(X_train)\n",
    "y_predicted1 = unnorm(y_mu,y_range,y_predicted_norm1)\n",
    "\n",
    "print r2_score(y_norm, y_predicted_norm1)\n"
   ]
  },
  {
   "cell_type": "code",
   "execution_count": 132,
   "metadata": {
    "collapsed": false
   },
   "outputs": [],
   "source": []
  },
  {
   "cell_type": "code",
   "execution_count": 1123,
   "metadata": {
    "collapsed": true
   },
   "outputs": [
    {
     "ename": "OperationalError",
     "evalue": "FATAL:  no pg_hba.conf entry for host \"69.127.188.77\", user \"ofnhsnebpcurpl\", database \"daaricgfqmsolv\", SSL off\n",
     "output_type": "error",
     "traceback": [
      "\u001b[0;31m---------------------------------------------------------------------------\u001b[0m",
      "\u001b[0;31mOperationalError\u001b[0m                          Traceback (most recent call last)",
      "\u001b[0;32m<ipython-input-1123-f10bed5ef3d8>\u001b[0m in \u001b[0;36m<module>\u001b[0;34m()\u001b[0m\n\u001b[1;32m      8\u001b[0m     \u001b[0mpassword\u001b[0m\u001b[0;34m=\u001b[0m\u001b[0murl\u001b[0m\u001b[0;34m.\u001b[0m\u001b[0mpassword\u001b[0m\u001b[0;34m,\u001b[0m\u001b[0;34m\u001b[0m\u001b[0m\n\u001b[1;32m      9\u001b[0m     \u001b[0mhost\u001b[0m\u001b[0;34m=\u001b[0m\u001b[0murl\u001b[0m\u001b[0;34m.\u001b[0m\u001b[0mhostname\u001b[0m\u001b[0;34m,\u001b[0m\u001b[0;34m\u001b[0m\u001b[0m\n\u001b[0;32m---> 10\u001b[0;31m     \u001b[0mport\u001b[0m\u001b[0;34m=\u001b[0m\u001b[0murl\u001b[0m\u001b[0;34m.\u001b[0m\u001b[0mport\u001b[0m\u001b[0;34m,\u001b[0m\u001b[0;34m\u001b[0m\u001b[0m\n\u001b[0m\u001b[1;32m     11\u001b[0m \u001b[0;31m#    sslmode='require'\u001b[0m\u001b[0;34m\u001b[0m\u001b[0;34m\u001b[0m\u001b[0m\n\u001b[1;32m     12\u001b[0m )\n",
      "\u001b[0;32m//anaconda/lib/python2.7/site-packages/psycopg2/__init__.pyc\u001b[0m in \u001b[0;36mconnect\u001b[0;34m(dsn, database, user, password, host, port, connection_factory, cursor_factory, async, **kwargs)\u001b[0m\n\u001b[1;32m    162\u001b[0m                 for (k, v) in items])\n\u001b[1;32m    163\u001b[0m \u001b[0;34m\u001b[0m\u001b[0m\n\u001b[0;32m--> 164\u001b[0;31m     \u001b[0mconn\u001b[0m \u001b[0;34m=\u001b[0m \u001b[0m_connect\u001b[0m\u001b[0;34m(\u001b[0m\u001b[0mdsn\u001b[0m\u001b[0;34m,\u001b[0m \u001b[0mconnection_factory\u001b[0m\u001b[0;34m=\u001b[0m\u001b[0mconnection_factory\u001b[0m\u001b[0;34m,\u001b[0m \u001b[0masync\u001b[0m\u001b[0;34m=\u001b[0m\u001b[0masync\u001b[0m\u001b[0;34m)\u001b[0m\u001b[0;34m\u001b[0m\u001b[0m\n\u001b[0m\u001b[1;32m    165\u001b[0m     \u001b[0;32mif\u001b[0m \u001b[0mcursor_factory\u001b[0m \u001b[0;32mis\u001b[0m \u001b[0;32mnot\u001b[0m \u001b[0mNone\u001b[0m\u001b[0;34m:\u001b[0m\u001b[0;34m\u001b[0m\u001b[0m\n\u001b[1;32m    166\u001b[0m         \u001b[0mconn\u001b[0m\u001b[0;34m.\u001b[0m\u001b[0mcursor_factory\u001b[0m \u001b[0;34m=\u001b[0m \u001b[0mcursor_factory\u001b[0m\u001b[0;34m\u001b[0m\u001b[0m\n",
      "\u001b[0;31mOperationalError\u001b[0m: FATAL:  no pg_hba.conf entry for host \"69.127.188.77\", user \"ofnhsnebpcurpl\", database \"daaricgfqmsolv\", SSL off\n"
     ]
    }
   ],
   "source": []
  },
  {
   "cell_type": "code",
   "execution_count": 661,
   "metadata": {
    "collapsed": false
   },
   "outputs": [],
   "source": [
    "cur = connl.cursor()\n",
    "#command=SELECT 'ZPRICE' from price2features\n",
    "#cur.execute(\"\"\"SELECT version()\"\"\")\n",
    "#cur.fetchone()\n",
    "#cur.execute(\"\"\"SELECT refSHP.\"NAME\",\"ZPRICE\",\"SCH_PERFORM\" from price2features JOIN refshape ON  price2features.\"REFSHPINDEX\"=refSHP.\"refSHPindex\" WHERE \"SCH_PERFORM\" > 0;\"\"\")\n",
    "#cur.execute(\"\"\"SELECT \"ZPRICE\",\"SCH_PERFORM\" from price2features;\"\"\")\n",
    "#cur.execute(\"\"\"SELECT \"ZPRICE\",\"SCORE\" from price2features WHERE \"SCORE\" IS NOT NULL\"\"\")\n",
    "#data=zip(*cur.fetchall())\n",
    "#homevalue = list(data[0])\n",
    "#features  = list(data[1])"
   ]
  },
  {
   "cell_type": "code",
   "execution_count": 1130,
   "metadata": {
    "collapsed": false
   },
   "outputs": [],
   "source": [
    "# normalization\n",
    "def norm(x_in,x_norm):\n",
    "    \n",
    "    x_mu = np.mean(x_in)\n",
    "    x_range = np.amax(x_in) - np.amin(x_in)\n",
    "    x_norm [:] = [ ( x - x_mu ) / float (x_range) for x in x_in]\n",
    "    return (x_mu, x_range)\n",
    "\n",
    "# convert back to abs value\n",
    "def unnorm(x_mu, x_range, x_norm):\n",
    "    x_out=[]\n",
    "    x_out [:] = [ x*x_range+x_mu for x in x_norm ]\n",
    "    return x_out\n",
    "\n",
    "# univariate regression\n",
    "def linearRegression(features,homevalue):\n",
    "    x_norm=[]; y_norm=[]\n",
    "    (x_mu,x_range) = norm(features,x_norm)\n",
    "    (y_mu, y_range) = norm(homevalue, y_norm)\n",
    "\n",
    "    X_train = np.asarray(zip( np.ones(len(x_norm)),x_norm))\n",
    "\n",
    "    # Create linear regression object\n",
    "    regr = lm.LinearRegression()\n",
    "    regr.fit(X_train, y_norm)\n",
    "    # convert y back to abs value\n",
    "    y_predicted_norm = regr.predict(X_train)\n",
    "    coeffs = regr.coef_\n",
    "    intercepts = regr.intercept_\n",
    "\n",
    "    y_predicted = unnorm(y_mu,y_range,y_predicted_norm)\n",
    "\n",
    "    r2=r2_score(y_norm, y_predicted_norm)\n",
    "     \n",
    "    return (coeffs,intercepts,r2,y_predicted)\n"
   ]
  },
  {
   "cell_type": "code",
   "execution_count": 1131,
   "metadata": {
    "collapsed": false
   },
   "outputs": [],
   "source": [
    "coeffs,intercepts,r2,ypredicted =  linearRegression(features,homevalue)\n"
   ]
  }
 ],
 "metadata": {
  "kernelspec": {
   "display_name": "Python 2",
   "language": "python",
   "name": "python2"
  },
  "language_info": {
   "codemirror_mode": {
    "name": "ipython",
    "version": 2
   },
   "file_extension": ".py",
   "mimetype": "text/x-python",
   "name": "python",
   "nbconvert_exporter": "python",
   "pygments_lexer": "ipython2",
   "version": "2.7.11"
  }
 },
 "nbformat": 4,
 "nbformat_minor": 0
}
