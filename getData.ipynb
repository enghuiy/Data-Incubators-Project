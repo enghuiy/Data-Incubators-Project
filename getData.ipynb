{
 "cells": [
  {
   "cell_type": "code",
   "execution_count": 661,
   "metadata": {
    "collapsed": false
   },
   "outputs": [],
   "source": [
    "import requests\n",
    "from bs4 import BeautifulSoup\n",
    "import re\n",
    "import pandas as pd\n",
    "import geopandas as gpd\n",
    "from matplotlib import pyplot as plt\n",
    "% matplotlib inline\n",
    "from descartes import PolygonPatch"
   ]
  },
  {
   "cell_type": "markdown",
   "metadata": {},
   "source": [
    "### crime data"
   ]
  },
  {
   "cell_type": "code",
   "execution_count": 2,
   "metadata": {
    "collapsed": true
   },
   "outputs": [],
   "source": [
    "r = requests.get('http://www.criminaljustice.ny.gov/crimnet/ojsa/indexcrimes/county_totals.htm')"
   ]
  },
  {
   "cell_type": "code",
   "execution_count": 8,
   "metadata": {
    "collapsed": false
   },
   "outputs": [],
   "source": [
    "soup = BeautifulSoup(r.text)\n"
   ]
  },
  {
   "cell_type": "code",
   "execution_count": 36,
   "metadata": {
    "collapsed": false
   },
   "outputs": [],
   "source": [
    "# get all the links\n",
    "links = [ str(tag.get('href')) for tag in soup.table.find_all('a') if re.search(r'xls',str(tag))  ]"
   ]
  },
  {
   "cell_type": "code",
   "execution_count": 41,
   "metadata": {
    "collapsed": true
   },
   "outputs": [
    {
     "name": "stdout",
     "output_type": "stream",
     "text": [
      "Albany.xls\n",
      "Franklin.xls\n",
      "Oneida.xls\n",
      "Schuyler.xls\n",
      "Allegany.xls\n",
      "Fulton.xls\n",
      "Onondaga.xls\n",
      "Seneca.xls\n",
      "Bronx.xls\n",
      "Genesee.xls\n",
      "Ontario.xls\n",
      "Steuben.xls\n",
      "Broome.xls\n",
      "Greene.xls\n",
      "Orange.xls\n",
      "Suffolk.xls\n",
      "Cattaraugus.xls\n",
      "Hamilton.xls\n",
      "Orleans.xls\n",
      "Sullivan.xls\n",
      "Cayuga.xls\n",
      "Herkimer.xls\n",
      "Oswego.xls\n",
      "Tioga.xls\n",
      "Chautauqua.xls\n",
      "Jefferson.xls\n",
      "Otsego.xls\n",
      "Tompkins.xls\n",
      "Chemung.xls\n",
      "Kings.xls\n",
      "Putnam.xls\n",
      "Ulster.xls\n",
      "Chenango.xls\n",
      "Lewis.xls\n",
      "Queens.xls\n",
      "Warren.xls\n",
      "Clinton.xls\n",
      "Livingston.xls\n",
      "Rensselaer.xls\n",
      "Washington.xls\n",
      "Columbia.xls\n",
      "Madison.xls\n",
      "Richmond.xls\n",
      "Wayne.xls\n",
      "Cortland.xls\n",
      "Monroe.xls\n",
      "Rockland.xls\n",
      "Westchester.xls\n",
      "Delaware.xls\n",
      "Montgomery.xls\n",
      "StLawrence.xls\n",
      "Wyoming.xls\n",
      "Dutchess.xls\n",
      "Nassau.xls\n",
      "Saratoga.xls\n",
      "Yates.xls\n",
      "Erie.xls\n",
      "NewYork.xls\n",
      "Schenectady.xls\n",
      "Essex.xls\n",
      "Niagara.xls\n",
      "Schoharie.xls\n",
      "County-totals.xls\n"
     ]
    }
   ],
   "source": [
    "urlbase = 'http://www.criminaljustice.ny.gov/crimnet/ojsa/indexcrimes/'\n",
    "s = requests.Session()\n",
    "for tag in links:\n",
    "    print tag\n",
    "    rx = s.get(urlbase+str(tag))\n",
    "    with open (tag,'w') as outfile:\n",
    "        outfile.write(rx.content)\n",
    "        "
   ]
  },
  {
   "cell_type": "code",
   "execution_count": 423,
   "metadata": {
    "collapsed": true
   },
   "outputs": [],
   "source": [
    "c_read=pd.read_excel('./data_CrimeNYS/Albany.xls',skiprows=7)\n"
   ]
  },
  {
   "cell_type": "markdown",
   "metadata": {},
   "source": [
    "### shapefile : elementary,secondary and unified school districts from census"
   ]
  },
  {
   "cell_type": "code",
   "execution_count": 1032,
   "metadata": {
    "collapsed": false
   },
   "outputs": [],
   "source": [
    "#shapefile : census school district (note: NYC is considered one big bloc)\n",
    "\n",
    "unsd_read = gpd.read_file('./Shapefiles/tl_2015_36_unsd.shp')\n",
    "#elsd_read = gpd.read_file('./Shapefiles/tl_2015_36_elsd.shp')\n",
    "scsd_read = gpd.read_file('./Shapefiles/tl_2015_36_scsd.shp')"
   ]
  },
  {
   "cell_type": "code",
   "execution_count": 845,
   "metadata": {
    "collapsed": false
   },
   "outputs": [],
   "source": [
    "# \n",
    "sc_toAdd = scsd_read[scsd_read['NAME'].str.contains('Bellmore-Merrick|Sewanhaka|Valley Stream')][['NAME','GEOID','geometry']]\n",
    "#el_toAdd = elsd_read[elsd_read['NAME'].str.contains('Franklin Square')][['NAME','GEOID','geometry']]\n",
    "nysch = unsd_read[['NAME','GEOID','geometry']].append(sc_toAdd)\n",
    "#nysch = nysch.append(el_toAdd)\n",
    "\n",
    "# delete some data\n",
    "#nysch=nysch[~nysch[\"NAME\"].str.contains('School District Not Defined')]\n",
    "#nysch=nysch[~nysch[\"NAME\"].str.contains('Binghamton Common School District')]\n",
    "\n",
    "nysch['newIndex'] = range(len(nysch))\n",
    "nysch.set_index(['newIndex'],inplace=True)"
   ]
  },
  {
   "cell_type": "code",
   "execution_count": 823,
   "metadata": {
    "collapsed": false
   },
   "outputs": [],
   "source": [
    "# for initial matching to NYS school performance data\n",
    "nysch['NAME'].to_csv('./NYSED_3-8gradeAssess_2014-2015/sdNames.census_shx.csv')"
   ]
  },
  {
   "cell_type": "code",
   "execution_count": 1164,
   "metadata": {
    "collapsed": false
   },
   "outputs": [
    {
     "data": {
      "text/html": [
       "<div>\n",
       "<table border=\"1\" class=\"dataframe\">\n",
       "  <thead>\n",
       "    <tr style=\"text-align: right;\">\n",
       "      <th></th>\n",
       "      <th>NAME</th>\n",
       "      <th>GEOID</th>\n",
       "      <th>geometry</th>\n",
       "    </tr>\n",
       "    <tr>\n",
       "      <th>newIndex</th>\n",
       "      <th></th>\n",
       "      <th></th>\n",
       "      <th></th>\n",
       "    </tr>\n",
       "  </thead>\n",
       "  <tbody>\n",
       "    <tr>\n",
       "      <th>0</th>\n",
       "      <td>North Shore Central School District</td>\n",
       "      <td>3626370</td>\n",
       "      <td>POLYGON ((-73.67107299999999 40.859299, -73.65...</td>\n",
       "    </tr>\n",
       "    <tr>\n",
       "      <th>1</th>\n",
       "      <td>Seaford Union Free School District</td>\n",
       "      <td>3626400</td>\n",
       "      <td>POLYGON ((-73.50683099999999 40.666806, -73.50...</td>\n",
       "    </tr>\n",
       "    <tr>\n",
       "      <th>2</th>\n",
       "      <td>Uniondale Union Free School District</td>\n",
       "      <td>3629280</td>\n",
       "      <td>POLYGON ((-73.619737 40.68251799999999, -73.61...</td>\n",
       "    </tr>\n",
       "  </tbody>\n",
       "</table>\n",
       "</div>"
      ],
      "text/plain": [
       "                                          NAME    GEOID  \\\n",
       "newIndex                                                  \n",
       "0          North Shore Central School District  3626370   \n",
       "1           Seaford Union Free School District  3626400   \n",
       "2         Uniondale Union Free School District  3629280   \n",
       "\n",
       "                                                   geometry  \n",
       "newIndex                                                     \n",
       "0         POLYGON ((-73.67107299999999 40.859299, -73.65...  \n",
       "1         POLYGON ((-73.50683099999999 40.666806, -73.50...  \n",
       "2         POLYGON ((-73.619737 40.68251799999999, -73.61...  "
      ]
     },
     "execution_count": 1164,
     "metadata": {},
     "output_type": "execute_result"
    }
   ],
   "source": [
    "nysch[0:3]"
   ]
  },
  {
   "cell_type": "markdown",
   "metadata": {},
   "source": [
    "### Set the reference geometry that everything will be overlayed on.\n",
    "#### currently using school geometry  (can be other shapes)"
   ]
  },
  {
   "cell_type": "code",
   "execution_count": 1038,
   "metadata": {
    "collapsed": false
   },
   "outputs": [],
   "source": [
    "# use school geometry as the reference (can be other shapes)\n",
    "df_refSHP=nysch\n",
    "refSHP=df_refSHP['geometry'].tolist()"
   ]
  },
  {
   "cell_type": "markdown",
   "metadata": {},
   "source": [
    "### school performance data (with shapefile index assigned by addSchDistrict.pl)"
   ]
  },
  {
   "cell_type": "code",
   "execution_count": 1005,
   "metadata": {
    "collapsed": false
   },
   "outputs": [],
   "source": [
    "performance=pd.read_table('./NYSED_3-8gradeAssess_2014-2015/3-8_ELA_AND_MATH_RESEARCHER_FILE_2015.DISTRICTSwSHPassignment.tab')\n",
    "performance['SID']=performance['SID'].astype(int)\n",
    "performance['MEAN_SCALE_SCORE']=pd.to_numeric(performance['MEAN_SCALE_SCORE'],errors=coerce)\n",
    "performance['L4_PCT']=pd.to_numeric(performance['L4_PCT'],errors=coerce)\n"
   ]
  },
  {
   "cell_type": "code",
   "execution_count": 995,
   "metadata": {
    "collapsed": false
   },
   "outputs": [
    {
     "data": {
      "text/plain": [
       "Index([u'SID', u'SCHOOL_YEAR', u'NRC_CODE', u'NRC_DESC', u'COUNTY_CODE',\n",
       "       u'COUNTY_DESC', u'BEDSCODE', u'SD_NAME', u'ITEM_SUBJECT_AREA',\n",
       "       u'ITEM_DESC', u'SUBGROUP_CODE', u'SUBGROUP_NAME', u'TOTAL_TESTED',\n",
       "       u'L1_COUNT', u'L1_PCT', u'L2_COUNT', u'L2_PCT', u'L3_COUNT', u'L3_PCT',\n",
       "       u'L4_COUNT', u'L4_PCT', u'L2-L4_PCT', u'L3-L4_PCT', u'MEAN_SCALE_SCORE',\n",
       "       u'Sum_Of_SCALE_SCORE'],\n",
       "      dtype='object')"
      ]
     },
     "execution_count": 995,
     "metadata": {},
     "output_type": "execute_result"
    }
   ],
   "source": [
    "performance.columns"
   ]
  },
  {
   "cell_type": "code",
   "execution_count": 1007,
   "metadata": {
    "collapsed": false
   },
   "outputs": [
    {
     "data": {
      "text/html": [
       "<div>\n",
       "<table border=\"1\" class=\"dataframe\">\n",
       "  <thead>\n",
       "    <tr style=\"text-align: right;\">\n",
       "      <th></th>\n",
       "      <th>SCORE</th>\n",
       "    </tr>\n",
       "    <tr>\n",
       "      <th>SID</th>\n",
       "      <th></th>\n",
       "    </tr>\n",
       "  </thead>\n",
       "  <tbody>\n",
       "    <tr>\n",
       "      <th>0</th>\n",
       "      <td>0</td>\n",
       "    </tr>\n",
       "    <tr>\n",
       "      <th>1</th>\n",
       "      <td>10</td>\n",
       "    </tr>\n",
       "    <tr>\n",
       "      <th>2</th>\n",
       "      <td>0</td>\n",
       "    </tr>\n",
       "  </tbody>\n",
       "</table>\n",
       "</div>"
      ],
      "text/plain": [
       "     SCORE\n",
       "SID       \n",
       "0        0\n",
       "1       10\n",
       "2        0"
      ]
     },
     "execution_count": 1007,
     "metadata": {},
     "output_type": "execute_result"
    }
   ],
   "source": [
    "# choose here the school metric\n",
    "schoolScore=performance[['SID','SD_NAME','L4_PCT']][performance['ITEM_DESC'].str.contains('Grade 8 Math')]\n",
    "schoolScore.rename(columns={'L4_PCT':'SCORE'}, inplace=True)\n",
    "schoolScore=schoolScore.groupby('SID').mean()\n",
    "schoolScore[:3]"
   ]
  },
  {
   "cell_type": "code",
   "execution_count": 769,
   "metadata": {
    "collapsed": false
   },
   "outputs": [
    {
     "name": "stdout",
     "output_type": "stream",
     "text": [
      "N=1151 factor=2\n"
     ]
    },
    {
     "data": {
      "image/png": "[encoded data removed]",
      "text/plain": [
       "<matplotlib.figure.Figure at 0x13a8d7c50>"
      ]
     },
     "metadata": {},
     "output_type": "display_data"
    }
   ],
   "source": [
    "# matplotlib only works up to 999 points -> skip points if >999\n",
    "def plotGeometry(shape):\n",
    "    fig=plt.figure()\n",
    "    ax = fig.add_subplot(111)\n",
    "    x,y = shape.exterior.xy \n",
    "    coords = shape.exterior.coords\n",
    "    N=len(x)\n",
    "    factor = N//1000 +1\n",
    "    shapepatch = PolygonPatch(shape)\n",
    "    ax.plot(x[::factor],y[::factor]) \n",
    "    ax.add_patch(shapepatch)\n",
    "plotGeometry(schoolScore.at[8259,'geometry'])"
   ]
  },
  {
   "cell_type": "code",
   "execution_count": 1138,
   "metadata": {
    "collapsed": false
   },
   "outputs": [],
   "source": [
    "# matplotlib\n",
    "# matplotlib only works up to 999 points -> skip points if >999\n",
    "def plotGeometries(shapelist):\n",
    "    fig=plt.figure()\n",
    "    ax = fig.add_subplot(111)\n",
    "    for shape in shapelist:\n",
    "        x,y = shape.exterior.xy \n",
    "        N=len(x)\n",
    "        factor = N//1000 +1\n",
    "        #shapepatch = PolygonPatch(shape)\n",
    "        ax.plot(x[::factor],y[::factor], color='black') \n",
    "        #ax.add_patch(shapepatch)"
   ]
  },
  {
   "cell_type": "code",
   "execution_count": 1159,
   "metadata": {
    "collapsed": false
   },
   "outputs": [],
   "source": [
    "# bokeh\n",
    "from bokeh.plotting import show,figure,output_file\n",
    "from bokeh.io import output_notebook\n",
    "#output_notebook()\n"
   ]
  },
  {
   "cell_type": "code",
   "execution_count": 1154,
   "metadata": {
    "collapsed": true
   },
   "outputs": [
    {
     "name": "stdout",
     "output_type": "stream",
     "text": [
      "<class 'shapely.geometry.multipolygon.MultiPolygon'>\n",
      "<class 'shapely.geometry.multipolygon.MultiPolygon'>\n",
      "<class 'shapely.geometry.multipolygon.MultiPolygon'>\n",
      "<class 'shapely.geometry.multipolygon.MultiPolygon'>\n",
      "<class 'shapely.geometry.multipolygon.MultiPolygon'>\n",
      "<class 'shapely.geometry.multipolygon.MultiPolygon'>\n",
      "<class 'shapely.geometry.multipolygon.MultiPolygon'>\n",
      "<class 'shapely.geometry.multipolygon.MultiPolygon'>\n",
      "<class 'shapely.geometry.multipolygon.MultiPolygon'>\n",
      "<class 'shapely.geometry.multipolygon.MultiPolygon'>\n",
      "<class 'shapely.geometry.multipolygon.MultiPolygon'>\n",
      "<class 'shapely.geometry.multipolygon.MultiPolygon'>\n",
      "<class 'shapely.geometry.multipolygon.MultiPolygon'>\n",
      "<class 'shapely.geometry.multipolygon.MultiPolygon'>\n",
      "<class 'shapely.geometry.multipolygon.MultiPolygon'>\n",
      "<class 'shapely.geometry.multipolygon.MultiPolygon'>\n",
      "<class 'shapely.geometry.multipolygon.MultiPolygon'>\n",
      "<class 'shapely.geometry.multipolygon.MultiPolygon'>\n",
      "<class 'shapely.geometry.multipolygon.MultiPolygon'>\n",
      "<class 'shapely.geometry.multipolygon.MultiPolygon'>\n",
      "<class 'shapely.geometry.multipolygon.MultiPolygon'>\n",
      "<class 'shapely.geometry.multipolygon.MultiPolygon'>\n",
      "<class 'shapely.geometry.multipolygon.MultiPolygon'>\n",
      "<class 'shapely.geometry.multipolygon.MultiPolygon'>\n",
      "<class 'shapely.geometry.multipolygon.MultiPolygon'>\n",
      "<class 'shapely.geometry.multipolygon.MultiPolygon'>\n",
      "<class 'shapely.geometry.multipolygon.MultiPolygon'>\n",
      "<class 'shapely.geometry.multipolygon.MultiPolygon'>\n",
      "<class 'shapely.geometry.multipolygon.MultiPolygon'>\n",
      "<class 'shapely.geometry.multipolygon.MultiPolygon'>\n",
      "<class 'shapely.geometry.multipolygon.MultiPolygon'>\n",
      "<class 'shapely.geometry.multipolygon.MultiPolygon'>\n",
      "<class 'shapely.geometry.multipolygon.MultiPolygon'>\n",
      "<class 'shapely.geometry.multipolygon.MultiPolygon'>\n",
      "<class 'shapely.geometry.multipolygon.MultiPolygon'>\n",
      "<class 'shapely.geometry.multipolygon.MultiPolygon'>\n",
      "<class 'shapely.geometry.multipolygon.MultiPolygon'>\n",
      "<class 'shapely.geometry.multipolygon.MultiPolygon'>\n",
      "<class 'shapely.geometry.multipolygon.MultiPolygon'>\n",
      "<class 'shapely.geometry.multipolygon.MultiPolygon'>\n",
      "<class 'shapely.geometry.multipolygon.MultiPolygon'>\n",
      "<class 'shapely.geometry.multipolygon.MultiPolygon'>\n",
      "<class 'shapely.geometry.multipolygon.MultiPolygon'>\n",
      "<class 'shapely.geometry.multipolygon.MultiPolygon'>\n",
      "<class 'shapely.geometry.multipolygon.MultiPolygon'>\n",
      "<class 'shapely.geometry.multipolygon.MultiPolygon'>\n",
      "<class 'shapely.geometry.multipolygon.MultiPolygon'>\n",
      "<class 'shapely.geometry.multipolygon.MultiPolygon'>\n",
      "<class 'shapely.geometry.multipolygon.MultiPolygon'>\n",
      "<class 'shapely.geometry.multipolygon.MultiPolygon'>\n",
      "<class 'shapely.geometry.multipolygon.MultiPolygon'>\n",
      "<class 'shapely.geometry.multipolygon.MultiPolygon'>\n",
      "<class 'shapely.geometry.multipolygon.MultiPolygon'>\n",
      "<class 'shapely.geometry.multipolygon.MultiPolygon'>\n",
      "<class 'shapely.geometry.multipolygon.MultiPolygon'>\n",
      "<class 'shapely.geometry.multipolygon.MultiPolygon'>\n",
      "<class 'shapely.geometry.multipolygon.MultiPolygon'>\n",
      "<class 'shapely.geometry.multipolygon.MultiPolygon'>\n",
      "<class 'shapely.geometry.multipolygon.MultiPolygon'>\n",
      "<class 'shapely.geometry.multipolygon.MultiPolygon'>\n",
      "<class 'shapely.geometry.multipolygon.MultiPolygon'>\n",
      "<class 'shapely.geometry.multipolygon.MultiPolygon'>\n",
      "<class 'shapely.geometry.multipolygon.MultiPolygon'>\n",
      "<class 'shapely.geometry.multipolygon.MultiPolygon'>\n",
      "<class 'shapely.geometry.multipolygon.MultiPolygon'>\n",
      "<class 'shapely.geometry.multipolygon.MultiPolygon'>\n",
      "<class 'shapely.geometry.multipolygon.MultiPolygon'>\n",
      "<class 'shapely.geometry.multipolygon.MultiPolygon'>\n",
      "<class 'shapely.geometry.multipolygon.MultiPolygon'>\n",
      "<class 'shapely.geometry.multipolygon.MultiPolygon'>\n",
      "<class 'shapely.geometry.multipolygon.MultiPolygon'>\n",
      "<class 'shapely.geometry.multipolygon.MultiPolygon'>\n",
      "<class 'shapely.geometry.multipolygon.MultiPolygon'>\n",
      "<class 'shapely.geometry.multipolygon.MultiPolygon'>\n",
      "<class 'shapely.geometry.multipolygon.MultiPolygon'>\n",
      "<class 'shapely.geometry.multipolygon.MultiPolygon'>\n",
      "<class 'shapely.geometry.multipolygon.MultiPolygon'>\n",
      "<class 'shapely.geometry.multipolygon.MultiPolygon'>\n",
      "<class 'shapely.geometry.multipolygon.MultiPolygon'>\n",
      "<class 'shapely.geometry.multipolygon.MultiPolygon'>\n",
      "<class 'shapely.geometry.multipolygon.MultiPolygon'>\n",
      "<class 'shapely.geometry.multipolygon.MultiPolygon'>\n",
      "<class 'shapely.geometry.multipolygon.MultiPolygon'>\n",
      "<class 'shapely.geometry.multipolygon.MultiPolygon'>\n",
      "<class 'shapely.geometry.multipolygon.MultiPolygon'>\n",
      "<class 'shapely.geometry.multipolygon.MultiPolygon'>\n",
      "<class 'shapely.geometry.multipolygon.MultiPolygon'>\n",
      "<class 'shapely.geometry.multipolygon.MultiPolygon'>\n",
      "<class 'shapely.geometry.multipolygon.MultiPolygon'>\n",
      "<class 'shapely.geometry.multipolygon.MultiPolygon'>\n",
      "<class 'shapely.geometry.multipolygon.MultiPolygon'>\n",
      "<class 'shapely.geometry.multipolygon.MultiPolygon'>\n",
      "<class 'shapely.geometry.multipolygon.MultiPolygon'>\n"
     ]
    }
   ],
   "source": [
    "import shapely\n",
    "for shape in refSHP:\n",
    "    if not isinstance(shape,shapely.geometry.polygon.Polygon):\n",
    "        print type(shape)\n",
    "        "
   ]
  },
  {
   "cell_type": "code",
   "execution_count": 1163,
   "metadata": {
    "collapsed": false
   },
   "outputs": [],
   "source": [
    "def plotGeometries_bk(shapelist):\n",
    "    output_file(\"lines.html\", title=\"shapefile plot example\")\n",
    "    p = figure(title=\"New York State Locales (by school districts)\", x_axis_label='longitude', y_axis_label='latitude')    \n",
    "    for shape in shapelist:\n",
    "        \n",
    "        if isinstance(shape,shapely.geometry.polygon.Polygon):\n",
    "            x,y = shape.exterior.xy \n",
    "            N=len(x)\n",
    "            factor = N//2000 +1\n",
    "            p.line(x[::factor],y[::factor],color='black')\n",
    "    show(p)\n",
    "plotGeometries_bk(refSHP)"
   ]
  },
  {
   "cell_type": "markdown",
   "metadata": {},
   "source": [
    "### shapefile : zipcodes from census"
   ]
  },
  {
   "cell_type": "code",
   "execution_count": 157,
   "metadata": {
    "collapsed": false,
    "scrolled": true
   },
   "outputs": [],
   "source": [
    "zc_read=gpd.read_file('./Shapefiles/tl_2015_us_zcta510.shp')\n"
   ]
  },
  {
   "cell_type": "code",
   "execution_count": 168,
   "metadata": {
    "collapsed": false
   },
   "outputs": [],
   "source": [
    "zc_read['ZCTA5CE10']=zc_read['ZCTA5CE10'].astype(int)\n"
   ]
  },
  {
   "cell_type": "code",
   "execution_count": 181,
   "metadata": {
    "collapsed": false
   },
   "outputs": [],
   "source": [
    "# new york zipcode ranges from https://data.ny.gov\n",
    "nyzc=county[ ((county['ZCTA5CE10'] <=14925) & (county['ZCTA5CE10'] >= 10000)) | (county['ZCTA5CE10'] == 501) | (county['ZCTA5CE10'] == 544)| (county['ZCTA5CE10'] == 6390)][['GEOID10','ZCTA5CE10','geometry']]"
   ]
  },
  {
   "cell_type": "code",
   "execution_count": 200,
   "metadata": {
    "collapsed": true
   },
   "outputs": [],
   "source": [
    "sz=nyzc[nyzc['ZCTA5CE10']==10583]\n"
   ]
  },
  {
   "cell_type": "code",
   "execution_count": 570,
   "metadata": {
    "collapsed": false
   },
   "outputs": [
    {
     "data": {
      "text/plain": [
       "<matplotlib.axes._subplots.AxesSubplot at 0x16bfb0cd0>"
      ]
     },
     "execution_count": 570,
     "metadata": {},
     "output_type": "execute_result"
    },
    {
     "data": {
      "image/png": "[encoded data removed]",
      "text/plain": [
       "<matplotlib.figure.Figure at 0x16bd18110>"
      ]
     },
     "metadata": {},
     "output_type": "display_data"
    }
   ],
   "source": [
    "ss.plot()\n"
   ]
  },
  {
   "cell_type": "code",
   "execution_count": 427,
   "metadata": {
    "collapsed": false
   },
   "outputs": [
    {
     "data": {
      "text/plain": [
       "<matplotlib.axes._subplots.AxesSubplot at 0x169b74850>"
      ]
     },
     "execution_count": 427,
     "metadata": {},
     "output_type": "execute_result"
    },
    {
     "data": {
      "image/png": "[encoded data removed]",
      "text/plain": [
       "<matplotlib.figure.Figure at 0x169b7eed0>"
      ]
     },
     "metadata": {},
     "output_type": "display_data"
    }
   ],
   "source": [
    "sz.plot()\n"
   ]
  },
  {
   "cell_type": "code",
   "execution_count": 230,
   "metadata": {
    "collapsed": true
   },
   "outputs": [
    {
     "ename": "ImportError",
     "evalue": "No module named tools",
     "output_type": "error",
     "traceback": [
      "\u001b[0;31m---------------------------------------------------------------------------\u001b[0m",
      "\u001b[0;31mImportError\u001b[0m                               Traceback (most recent call last)",
      "\u001b[0;32m<ipython-input-230-a6d7f18a28c7>\u001b[0m in \u001b[0;36m<module>\u001b[0;34m()\u001b[0m\n\u001b[0;32m----> 1\u001b[0;31m \u001b[0;32mfrom\u001b[0m \u001b[0mgeopandas\u001b[0m\u001b[0;34m.\u001b[0m\u001b[0mtools\u001b[0m \u001b[0;32mimport\u001b[0m \u001b[0moverlay\u001b[0m\u001b[0;34m\u001b[0m\u001b[0m\n\u001b[0m",
      "\u001b[0;31mImportError\u001b[0m: No module named tools"
     ]
    }
   ],
   "source": [
    "from geopandas.tools import overlay"
   ]
  },
  {
   "cell_type": "markdown",
   "metadata": {},
   "source": [
    "###   home value per zillow "
   ]
  },
  {
   "cell_type": "code",
   "execution_count": 238,
   "metadata": {
    "collapsed": true
   },
   "outputs": [],
   "source": [
    "zillow_read=pd.read_csv('./Zillow/City_Zhvi_SingleFamilyResidence.csv')\n"
   ]
  },
  {
   "cell_type": "code",
   "execution_count": 421,
   "metadata": {
    "collapsed": false
   },
   "outputs": [],
   "source": [
    "zillow_city_ny=zillow_read[zillow_read['State'].str.contains('NY')]\n"
   ]
  },
  {
   "cell_type": "code",
   "execution_count": 276,
   "metadata": {
    "collapsed": false
   },
   "outputs": [],
   "source": [
    "regionids_nyC=zillow_city_ny['RegionID'].tolist()\n"
   ]
  },
  {
   "cell_type": "code",
   "execution_count": 293,
   "metadata": {
    "collapsed": false
   },
   "outputs": [
    {
     "data": {
      "text/html": [
       "<div>\n",
       "<table border=\"1\" class=\"dataframe\">\n",
       "  <thead>\n",
       "    <tr style=\"text-align: right;\">\n",
       "      <th></th>\n",
       "      <th>RegionID</th>\n",
       "      <th>RegionName</th>\n",
       "      <th>State</th>\n",
       "      <th>Metro</th>\n",
       "      <th>CountyName</th>\n",
       "      <th>SizeRank</th>\n",
       "      <th>1996-04</th>\n",
       "      <th>1996-05</th>\n",
       "      <th>1996-06</th>\n",
       "      <th>1996-07</th>\n",
       "      <th>...</th>\n",
       "      <th>2015-04</th>\n",
       "      <th>2015-05</th>\n",
       "      <th>2015-06</th>\n",
       "      <th>2015-07</th>\n",
       "      <th>2015-08</th>\n",
       "      <th>2015-09</th>\n",
       "      <th>2015-10</th>\n",
       "      <th>2015-11</th>\n",
       "      <th>2015-12</th>\n",
       "      <th>2016-01</th>\n",
       "    </tr>\n",
       "  </thead>\n",
       "  <tbody>\n",
       "    <tr>\n",
       "      <th>2424</th>\n",
       "      <td>54333</td>\n",
       "      <td>Scarsdale</td>\n",
       "      <td>NY</td>\n",
       "      <td>New York</td>\n",
       "      <td>Westchester</td>\n",
       "      <td>2425</td>\n",
       "      <td>NaN</td>\n",
       "      <td>NaN</td>\n",
       "      <td>NaN</td>\n",
       "      <td>NaN</td>\n",
       "      <td>...</td>\n",
       "      <td>1397900</td>\n",
       "      <td>1405100</td>\n",
       "      <td>1405700</td>\n",
       "      <td>1412100</td>\n",
       "      <td>1425600</td>\n",
       "      <td>1440700</td>\n",
       "      <td>1456200</td>\n",
       "      <td>1467800</td>\n",
       "      <td>1463100</td>\n",
       "      <td>1452200</td>\n",
       "    </tr>\n",
       "  </tbody>\n",
       "</table>\n",
       "<p>1 rows × 244 columns</p>\n",
       "</div>"
      ],
      "text/plain": [
       "      RegionID RegionName State     Metro   CountyName  SizeRank  1996-04  \\\n",
       "2424     54333  Scarsdale    NY  New York  Westchester      2425      NaN   \n",
       "\n",
       "      1996-05  1996-06  1996-07   ...     2015-04  2015-05  2015-06  2015-07  \\\n",
       "2424      NaN      NaN      NaN   ...     1397900  1405100  1405700  1412100   \n",
       "\n",
       "      2015-08  2015-09  2015-10  2015-11  2015-12  2016-01  \n",
       "2424  1425600  1440700  1456200  1467800  1463100  1452200  \n",
       "\n",
       "[1 rows x 244 columns]"
      ]
     },
     "execution_count": 293,
     "metadata": {},
     "output_type": "execute_result"
    }
   ],
   "source": [
    "zillow_nycity[zillow_nycity['RegionName'].str.contains('Scarsdale')]\n"
   ]
  },
  {
   "cell_type": "markdown",
   "metadata": {},
   "source": [
    "### use zillow API to get longitude,latitude by regionid"
   ]
  },
  {
   "cell_type": "code",
   "execution_count": 737,
   "metadata": {
    "collapsed": false
   },
   "outputs": [],
   "source": [
    "def z_getRegionChildren (session,regionID,df,myzillowid):\n",
    "\n",
    "    payload = {'zws-id':myzillowid,'regionId':regionID}\n",
    "    r = session.get(zillow_api_url,params=payload)\n",
    "    soup=BeautifulSoup(r.text)\n",
    "    main_latitude = float(soup.latitude.string)\n",
    "    main_longitude = float(soup.longitude.string)\n",
    "    nSubregions = int (soup.list.count.text)\n",
    "    data=[]\n",
    "    if nSubregions > 0:\n",
    "        sub_regiontype=soup.subregiontype.string\n",
    "        for sub_region in soup.list.find_all('region'):\n",
    "            sub_region_id = int(sub_region.id.string)\n",
    "            sub_name = sub_region.find('name').string\n",
    "            sub_latitude = float(sub_region.latitude.string)\n",
    "            sub_longitude = float(sub_region.longitude.string)\n",
    "            if not sub_region.zindex:\n",
    "                sub_price = main_price\n",
    "            else: \n",
    "                sub_price = int(sub_region.zindex.string)\n",
    "            data.append( (regionID,sub_regiontype,sub_region_id,sub_name,sub_latitude,sub_longitude,sub_price))\n",
    "    else:\n",
    "        data.append( (regionID,'main',regionID,main_name,main_latitude,main_longitude,main_price))\n",
    "    return data"
   ]
  },
  {
   "cell_type": "code",
   "execution_count": 738,
   "metadata": {
    "collapsed": true
   },
   "outputs": [
    {
     "name": "stdout",
     "output_type": "stream",
     "text": [
      "0\n",
      "20\n",
      "40\n",
      "60\n",
      "80\n",
      "100\n",
      "120\n",
      "140\n",
      "160\n",
      "180\n",
      "200\n",
      "220\n",
      "240\n",
      "260\n",
      "280\n",
      "300\n",
      "320\n",
      "340\n",
      "360\n",
      "380\n",
      "400\n",
      "420\n",
      "440\n",
      "460\n",
      "480\n",
      "500\n",
      "520\n",
      "540\n",
      "560\n",
      "580\n",
      "600\n",
      "620\n",
      "640\n",
      "660\n",
      "680\n",
      "700\n",
      "720\n",
      "740\n",
      "760\n",
      "780\n",
      "800\n",
      "820\n",
      "840\n",
      "860\n",
      "880\n",
      "900\n",
      "920\n",
      "940\n"
     ]
    }
   ],
   "source": [
    "zillow_api_url='http://www.zillow.com/webservice/GetRegionChildren.htm'\n",
    "s = requests.Session()\n",
    "n=0\n",
    "zillow_ny_regionData = [];\n",
    "for regionID in regionids_nyC: \n",
    "    main_name = zillow_nycity[zillow_nycity['RegionID']==regionID].iat[0,1]\n",
    "    main_price = zillow_nycity[zillow_nycity['RegionID']==regionID].iat[0,-1]\n",
    "    datatuple =  z_getRegionChildren (s,regionID,zillow_nycity,myzillowid)\n",
    "    zillow_ny_regionData.extend(datatuple)\n",
    "    if (n%20==0):\n",
    "        print n\n",
    "    n+=1\n",
    "    \n",
    "# save data as file\n",
    "with open ('../OUTDATA/zillow_ny_regionData.csv','w') as file:\n",
    "    file.write(\"ZIDM,ZTYPE,ZIDS,ZNAMES,ZLAT,ZLONG,ZPRICE\\n\")\n",
    "    for line in zillow_ny_regionData:\n",
    "        file.write( \"%d,%s,%d,%s,%f,%f,%9.1f\\n\" %line)\n",
    "\n"
   ]
  },
  {
   "cell_type": "markdown",
   "metadata": {},
   "source": [
    "### merge price and school shapefile"
   ]
  },
  {
   "cell_type": "code",
   "execution_count": 739,
   "metadata": {
    "collapsed": true
   },
   "outputs": [],
   "source": [
    "df_zillow_ny_regionData=pd.read_csv('../OUTDATA/zillow_ny_regionData.csv')"
   ]
  },
  {
   "cell_type": "code",
   "execution_count": 883,
   "metadata": {
    "collapsed": false
   },
   "outputs": [],
   "source": [
    "#df_zillow_ny_regionData[df_zillow_ny_regionData['ZIDM']==6181] == new york city"
   ]
  },
  {
   "cell_type": "code",
   "execution_count": 802,
   "metadata": {
    "collapsed": false,
    "scrolled": true
   },
   "outputs": [],
   "source": [
    "# given a point and a list of shapes, find which shape(s) the\n",
    "# point is in\n",
    "def findEncompassingShape(point,shapelist):\n",
    "    assignedList=[]\n",
    "    for i,refshape in enumerate(shapelist):\n",
    "        if refshape.contains(p):\n",
    "            assignedList.append(i)\n",
    "    return assignedList\n",
    "\n",
    "# (1:1) assignment of each zillow region to school districts\n",
    "\n",
    "z=zip(* (df_zillow_ny_regionData['ZLONG'].tolist(),df_zillow_ny_regionData['ZLAT'].tolist()))\n",
    "\n",
    "assign_zRegion2RefSHP=[]\n",
    "for i in range(len(z)): \n",
    "    p = Point(z[i])\n",
    "    assignedList = findEncompassingShape(p,refSHP)\n",
    "    if len(assignedList) > 1:\n",
    "        print \"index %d has %d assignments\" %(i,len(assignedList))\n",
    "        print \" \".join(str(x) for x in assignedList)\n",
    "    else:\n",
    "        assign_zRegion2RefSHP.append(assignedList[0])\n",
    "        "
   ]
  },
  {
   "cell_type": "code",
   "execution_count": 873,
   "metadata": {
    "collapsed": false
   },
   "outputs": [
    {
     "data": {
      "text/html": [
       "<div>\n",
       "<table border=\"1\" class=\"dataframe\">\n",
       "  <thead>\n",
       "    <tr style=\"text-align: right;\">\n",
       "      <th></th>\n",
       "      <th>ZIDM</th>\n",
       "      <th>ZTYPE</th>\n",
       "      <th>ZIDS</th>\n",
       "      <th>ZNAMES</th>\n",
       "      <th>ZLAT</th>\n",
       "      <th>ZLONG</th>\n",
       "      <th>ZPRICE</th>\n",
       "      <th>refSHPindex</th>\n",
       "    </tr>\n",
       "  </thead>\n",
       "  <tbody>\n",
       "    <tr>\n",
       "      <th>0</th>\n",
       "      <td>6181</td>\n",
       "      <td>zipcode</td>\n",
       "      <td>62080</td>\n",
       "      <td>11368</td>\n",
       "      <td>40.752140</td>\n",
       "      <td>-73.853418</td>\n",
       "      <td>413100</td>\n",
       "      <td>299</td>\n",
       "    </tr>\n",
       "    <tr>\n",
       "      <th>1</th>\n",
       "      <td>6181</td>\n",
       "      <td>zipcode</td>\n",
       "      <td>62037</td>\n",
       "      <td>11226</td>\n",
       "      <td>40.647434</td>\n",
       "      <td>-73.958823</td>\n",
       "      <td>633400</td>\n",
       "      <td>299</td>\n",
       "    </tr>\n",
       "    <tr>\n",
       "      <th>2</th>\n",
       "      <td>6181</td>\n",
       "      <td>zipcode</td>\n",
       "      <td>62093</td>\n",
       "      <td>11385</td>\n",
       "      <td>40.698381</td>\n",
       "      <td>-73.887452</td>\n",
       "      <td>487800</td>\n",
       "      <td>299</td>\n",
       "    </tr>\n",
       "  </tbody>\n",
       "</table>\n",
       "</div>"
      ],
      "text/plain": [
       "   ZIDM    ZTYPE   ZIDS ZNAMES       ZLAT      ZLONG  ZPRICE  refSHPindex\n",
       "0  6181  zipcode  62080  11368  40.752140 -73.853418  413100          299\n",
       "1  6181  zipcode  62037  11226  40.647434 -73.958823  633400          299\n",
       "2  6181  zipcode  62093  11385  40.698381 -73.887452  487800          299"
      ]
     },
     "execution_count": 873,
     "metadata": {},
     "output_type": "execute_result"
    }
   ],
   "source": [
    "df_zillow_ny_regionData['refSHPindex']=assign_zRegion2RefSHP\n",
    "df_zillow_ny_regionData[:3]"
   ]
  },
  {
   "cell_type": "markdown",
   "metadata": {},
   "source": [
    "### join pricing data with feature(s)"
   ]
  },
  {
   "cell_type": "code",
   "execution_count": 1008,
   "metadata": {
    "collapsed": false
   },
   "outputs": [],
   "source": [
    "df_price_features=pd.merge(df_zillow_ny_regionData,schoolScore,left_on='refSHPindex',right_index=True,how='inner')\n",
    "df_price_features=df_price_features.groupby('refSHPindex').mean()"
   ]
  },
  {
   "cell_type": "code",
   "execution_count": 1084,
   "metadata": {
    "collapsed": false
   },
   "outputs": [
    {
     "data": {
      "text/html": [
       "<div>\n",
       "<table border=\"1\" class=\"dataframe\">\n",
       "  <thead>\n",
       "    <tr style=\"text-align: right;\">\n",
       "      <th></th>\n",
       "      <th>ZIDM</th>\n",
       "      <th>ZIDS</th>\n",
       "      <th>ZLAT</th>\n",
       "      <th>ZLONG</th>\n",
       "      <th>ZPRICE</th>\n",
       "      <th>SCORE</th>\n",
       "    </tr>\n",
       "    <tr>\n",
       "      <th>refSHPindex</th>\n",
       "      <th></th>\n",
       "      <th></th>\n",
       "      <th></th>\n",
       "      <th></th>\n",
       "      <th></th>\n",
       "      <th></th>\n",
       "    </tr>\n",
       "  </thead>\n",
       "  <tbody>\n",
       "    <tr>\n",
       "      <th>662</th>\n",
       "      <td>7774</td>\n",
       "      <td>62321</td>\n",
       "      <td>40.931129</td>\n",
       "      <td>-72.336025</td>\n",
       "      <td>2632400</td>\n",
       "      <td>0</td>\n",
       "    </tr>\n",
       "  </tbody>\n",
       "</table>\n",
       "</div>"
      ],
      "text/plain": [
       "             ZIDM   ZIDS       ZLAT      ZLONG   ZPRICE  SCORE\n",
       "refSHPindex                                                   \n",
       "662          7774  62321  40.931129 -72.336025  2632400      0"
      ]
     },
     "execution_count": 1084,
     "metadata": {},
     "output_type": "execute_result"
    }
   ],
   "source": [
    "df_price_features[df_price_features['ZPRICE']>2500000]"
   ]
  },
  {
   "cell_type": "code",
   "execution_count": 913,
   "metadata": {
    "collapsed": true
   },
   "outputs": [],
   "source": [
    "import numpy as np\n",
    "import re\n",
    "import math\n",
    "from sklearn import linear_model as lm\n",
    "from sklearn.metrics import r2_score"
   ]
  },
  {
   "cell_type": "code",
   "execution_count": 915,
   "metadata": {
    "collapsed": true
   },
   "outputs": [],
   "source": [
    "# normalization\n",
    "def norm(x_in,x_norm):\n",
    "    \n",
    "    x_mu = np.mean(x_in)\n",
    "    x_range = np.amax(x_in) - np.amin(x_in)\n",
    "    x_norm [:] = [ ( x - x_mu ) / float (x_range) for x in x_in]\n",
    "    return (x_mu, x_range)\n",
    "\n",
    "# convert back to abs value\n",
    "def unnorm(x_mu, x_range, x_norm):\n",
    "    x_out=[]\n",
    "    x_out [:] = [ x*x_range+x_mu for x in x_norm ]\n",
    "    return x_out"
   ]
  },
  {
   "cell_type": "code",
   "execution_count": 1010,
   "metadata": {
    "collapsed": false
   },
   "outputs": [],
   "source": [
    "# extract data from dataframes\n",
    "tmp=df_price_features[['SCORE','ZPRICE']].dropna()\n",
    "feature1=tmp['SCORE'].tolist()\n",
    "homevalue=tmp['ZPRICE'].tolist()"
   ]
  },
  {
   "cell_type": "code",
   "execution_count": 1011,
   "metadata": {
    "collapsed": true
   },
   "outputs": [],
   "source": [
    "# univariate regression (homePrice vs. SAT score)\n",
    "x1_norm=[]; y_norm=[]\n",
    "(x1_mu,x1_range) = norm(feature1,x1_norm)\n",
    "(y_mu, y_range) = norm(homevalue, y_norm)\n",
    "\n",
    "# univariate linear regression, with x0=1\n",
    "#X_train = zip( np.ones(len(x1_norm)),x1_norm)\n",
    "\n",
    "X_train = np.asarray(zip( np.ones(len(x1_norm)),x1_norm))\n",
    "#X_train = zip(np.asarray(x1_norm).reshape(-1,1)\n",
    "\n"
   ]
  },
  {
   "cell_type": "code",
   "execution_count": 1012,
   "metadata": {
    "collapsed": false
   },
   "outputs": [
    {
     "name": "stdout",
     "output_type": "stream",
     "text": [
      "0.0921266199088\n"
     ]
    }
   ],
   "source": [
    "# Create linear regression object\n",
    "regr = lm.LinearRegression()\n",
    "regr.fit(X_train, y_norm)\n",
    "\n",
    "# convert y back to abs value\n",
    "y_predicted_norm1 = regr.predict(X_train)\n",
    "y_predicted1 = unnorm(y_mu,y_range,y_predicted_norm1)\n",
    "\n",
    "print r2_score(y_norm, y_predicted_norm1)\n"
   ]
  },
  {
   "cell_type": "code",
   "execution_count": 1014,
   "metadata": {
    "collapsed": false
   },
   "outputs": [
    {
     "data": {
      "image/png": "[encoded data removed]",
      "text/plain": [
       "<matplotlib.figure.Figure at 0x1746a2810>"
      ]
     },
     "metadata": {},
     "output_type": "display_data"
    }
   ],
   "source": [
    "plt.scatter(feature1,homevalue, color='black')\n",
    "\n",
    "plt.plot(feature1[::1], y_predicted1[::1], color='blue', linewidth=3)\n",
    "\n",
    "plt.title(\"median household prices vs. School Performance\")\n",
    "plt.ylabel(\"Median Household Price ($)\")\n",
    "plt.xlabel(\"School Performance\")\n",
    "\n",
    "\n",
    "plt.show()"
   ]
  },
  {
   "cell_type": "markdown",
   "metadata": {},
   "source": [
    "# posting to postgresql"
   ]
  },
  {
   "cell_type": "code",
   "execution_count": 1104,
   "metadata": {
    "collapsed": true
   },
   "outputs": [],
   "source": [
    "from sqlalchemy import create_engine"
   ]
  },
  {
   "cell_type": "code",
   "execution_count": 1088,
   "metadata": {
    "collapsed": true
   },
   "outputs": [],
   "source": [
    "local_engine = create_engine('postgresql://enghuiy:@localhost:5432/nysRealEstate')\n"
   ]
  },
  {
   "cell_type": "code",
   "execution_count": 1111,
   "metadata": {
    "collapsed": false
   },
   "outputs": [
    {
     "name": "stdout",
     "output_type": "stream",
     "text": [
      "I am unable to connect to the database\n"
     ]
    }
   ],
   "source": [
    "# remote db (heroku-app: homevalue-hunter)\n",
    "\n",
    "remote_engine = create_engine('postgresql://%s:%s@%s:5432/%s' %(USER,PGPASSWORD,HOST,DATABASE))\n",
    "try:\n",
    "    connection=remote_engine.connect()\n",
    "except:\n",
    "    print \"I am unable to connect to the database\"\n",
    "\n",
    "#result = connection.execute(\"select * from price2features\" )"
   ]
  },
  {
   "cell_type": "code",
   "execution_count": 1058,
   "metadata": {
    "collapsed": false
   },
   "outputs": [],
   "source": [
    "df_price_features.to_sql('price2features', local_engine, if_exists='replace',index_label='refSHPindex')"
   ]
  },
  {
   "cell_type": "code",
   "execution_count": 1126,
   "metadata": {
    "collapsed": false
   },
   "outputs": [],
   "source": [
    "df_refSHP[['NAME']].to_sql('refshape', local_engine, if_exists='replace',index_label='refSHPindex')"
   ]
  },
  {
   "cell_type": "code",
   "execution_count": 1028,
   "metadata": {
    "collapsed": false
   },
   "outputs": [],
   "source": [
    "df_price_features.to_csv('../OUTDATA/price2features.csv')\n"
   ]
  },
  {
   "cell_type": "markdown",
   "metadata": {},
   "source": [
    "# extracting from postgresql"
   ]
  },
  {
   "cell_type": "code",
   "execution_count": 1094,
   "metadata": {
    "collapsed": true
   },
   "outputs": [],
   "source": [
    "import psycopg2\n"
   ]
  },
  {
   "cell_type": "code",
   "execution_count": 1109,
   "metadata": {
    "collapsed": true
   },
   "outputs": [],
   "source": [
    "try:\n",
    "    connl = psycopg2.connect(\"dbname='nysRealEstate' user='enghuiy' host='localhost' password=''\")\n",
    "except:\n",
    "    print \"I am unable to connect to the database\""
   ]
  },
  {
   "cell_type": "code",
   "execution_count": 1114,
   "metadata": {
    "collapsed": false
   },
   "outputs": [
    {
     "name": "stdout",
     "output_type": "stream",
     "text": [
      "I am unable to connect to the database\n"
     ]
    }
   ],
   "source": [
    "try:\n",
    "\n",
    "except:\n",
    "    print \"I am unable to connect to the database\""
   ]
  },
  {
   "cell_type": "code",
   "execution_count": 1123,
   "metadata": {
    "collapsed": true
   },
   "outputs": [
    {
     "ename": "OperationalError",
     "evalue": "FATAL:  no pg_hba.conf entry for host \"69.127.188.77\", user \"ofnhsnebpcurpl\", database \"daaricgfqmsolv\", SSL off\n",
     "output_type": "error",
     "traceback": [
      "\u001b[0;31m---------------------------------------------------------------------------\u001b[0m",
      "\u001b[0;31mOperationalError\u001b[0m                          Traceback (most recent call last)",
      "\u001b[0;32m<ipython-input-1123-f10bed5ef3d8>\u001b[0m in \u001b[0;36m<module>\u001b[0;34m()\u001b[0m\n\u001b[1;32m      8\u001b[0m     \u001b[0mpassword\u001b[0m\u001b[0;34m=\u001b[0m\u001b[0murl\u001b[0m\u001b[0;34m.\u001b[0m\u001b[0mpassword\u001b[0m\u001b[0;34m,\u001b[0m\u001b[0;34m\u001b[0m\u001b[0m\n\u001b[1;32m      9\u001b[0m     \u001b[0mhost\u001b[0m\u001b[0;34m=\u001b[0m\u001b[0murl\u001b[0m\u001b[0;34m.\u001b[0m\u001b[0mhostname\u001b[0m\u001b[0;34m,\u001b[0m\u001b[0;34m\u001b[0m\u001b[0m\n\u001b[0;32m---> 10\u001b[0;31m     \u001b[0mport\u001b[0m\u001b[0;34m=\u001b[0m\u001b[0murl\u001b[0m\u001b[0;34m.\u001b[0m\u001b[0mport\u001b[0m\u001b[0;34m,\u001b[0m\u001b[0;34m\u001b[0m\u001b[0m\n\u001b[0m\u001b[1;32m     11\u001b[0m \u001b[0;31m#    sslmode='require'\u001b[0m\u001b[0;34m\u001b[0m\u001b[0;34m\u001b[0m\u001b[0m\n\u001b[1;32m     12\u001b[0m )\n",
      "\u001b[0;32m//anaconda/lib/python2.7/site-packages/psycopg2/__init__.pyc\u001b[0m in \u001b[0;36mconnect\u001b[0;34m(dsn, database, user, password, host, port, connection_factory, cursor_factory, async, **kwargs)\u001b[0m\n\u001b[1;32m    162\u001b[0m                 for (k, v) in items])\n\u001b[1;32m    163\u001b[0m \u001b[0;34m\u001b[0m\u001b[0m\n\u001b[0;32m--> 164\u001b[0;31m     \u001b[0mconn\u001b[0m \u001b[0;34m=\u001b[0m \u001b[0m_connect\u001b[0m\u001b[0;34m(\u001b[0m\u001b[0mdsn\u001b[0m\u001b[0;34m,\u001b[0m \u001b[0mconnection_factory\u001b[0m\u001b[0;34m=\u001b[0m\u001b[0mconnection_factory\u001b[0m\u001b[0;34m,\u001b[0m \u001b[0masync\u001b[0m\u001b[0;34m=\u001b[0m\u001b[0masync\u001b[0m\u001b[0;34m)\u001b[0m\u001b[0;34m\u001b[0m\u001b[0m\n\u001b[0m\u001b[1;32m    165\u001b[0m     \u001b[0;32mif\u001b[0m \u001b[0mcursor_factory\u001b[0m \u001b[0;32mis\u001b[0m \u001b[0;32mnot\u001b[0m \u001b[0mNone\u001b[0m\u001b[0;34m:\u001b[0m\u001b[0;34m\u001b[0m\u001b[0m\n\u001b[1;32m    166\u001b[0m         \u001b[0mconn\u001b[0m\u001b[0;34m.\u001b[0m\u001b[0mcursor_factory\u001b[0m \u001b[0;34m=\u001b[0m \u001b[0mcursor_factory\u001b[0m\u001b[0;34m\u001b[0m\u001b[0m\n",
      "\u001b[0;31mOperationalError\u001b[0m: FATAL:  no pg_hba.conf entry for host \"69.127.188.77\", user \"ofnhsnebpcurpl\", database \"daaricgfqmsolv\", SSL off\n"
     ]
    }
   ],
   "source": [
    "import urlparse\n",
    "url = urlparse.urlparse(url_)\n",
    "\n",
    "conn = psycopg2.connect(\n",
    "    database=url.path[1:],\n",
    "    user=url.username,\n",
    "    password=url.password,\n",
    "    host=url.hostname,\n",
    "    port=url.port,\n",
    "#    sslmode='require'\n",
    ")"
   ]
  },
  {
   "cell_type": "code",
   "execution_count": 1116,
   "metadata": {
    "collapsed": true
   },
   "outputs": [
    {
     "ename": "NameError",
     "evalue": "name 'connr' is not defined",
     "output_type": "error",
     "traceback": [
      "\u001b[0;31m---------------------------------------------------------------------------\u001b[0m",
      "\u001b[0;31mNameError\u001b[0m                                 Traceback (most recent call last)",
      "\u001b[0;32m<ipython-input-1116-96e29886af11>\u001b[0m in \u001b[0;36m<module>\u001b[0;34m()\u001b[0m\n\u001b[0;32m----> 1\u001b[0;31m \u001b[0mcur\u001b[0m \u001b[0;34m=\u001b[0m \u001b[0mconnr\u001b[0m\u001b[0;34m.\u001b[0m\u001b[0mcursor\u001b[0m\u001b[0;34m(\u001b[0m\u001b[0;34m)\u001b[0m\u001b[0;34m\u001b[0m\u001b[0m\n\u001b[0m\u001b[1;32m      2\u001b[0m \u001b[0;31m#command=SELECT 'ZPRICE' from price2features\u001b[0m\u001b[0;34m\u001b[0m\u001b[0;34m\u001b[0m\u001b[0m\n\u001b[1;32m      3\u001b[0m \u001b[0;31m#cur.execute(\"\"\"SELECT version()\"\"\")\u001b[0m\u001b[0;34m\u001b[0m\u001b[0;34m\u001b[0m\u001b[0m\n\u001b[1;32m      4\u001b[0m \u001b[0;31m#cur.fetchone()\u001b[0m\u001b[0;34m\u001b[0m\u001b[0;34m\u001b[0m\u001b[0m\n\u001b[1;32m      5\u001b[0m \u001b[0;34m\u001b[0m\u001b[0m\n",
      "\u001b[0;31mNameError\u001b[0m: name 'connr' is not defined"
     ]
    }
   ],
   "source": [
    "cur = conn.cursor()\n",
    "#command=SELECT 'ZPRICE' from price2features\n",
    "#cur.execute(\"\"\"SELECT version()\"\"\")\n",
    "#cur.fetchone()\n",
    "\n",
    "cur.execute(\"\"\"SELECT \"ZPRICE\",\"SCORE\" from price2features WHERE \"SCORE\" IS NOT NULL\"\"\")\n",
    "data=zip(*cur.fetchall())\n",
    "homevalue = list(data[0])\n",
    "features  = list(data[1])"
   ]
  },
  {
   "cell_type": "code",
   "execution_count": 1130,
   "metadata": {
    "collapsed": false
   },
   "outputs": [],
   "source": [
    "# normalization\n",
    "def norm(x_in,x_norm):\n",
    "    \n",
    "    x_mu = np.mean(x_in)\n",
    "    x_range = np.amax(x_in) - np.amin(x_in)\n",
    "    x_norm [:] = [ ( x - x_mu ) / float (x_range) for x in x_in]\n",
    "    return (x_mu, x_range)\n",
    "\n",
    "# convert back to abs value\n",
    "def unnorm(x_mu, x_range, x_norm):\n",
    "    x_out=[]\n",
    "    x_out [:] = [ x*x_range+x_mu for x in x_norm ]\n",
    "    return x_out\n",
    "\n",
    "# univariate regression\n",
    "def linearRegression(features,homevalue):\n",
    "    x_norm=[]; y_norm=[]\n",
    "    (x_mu,x_range) = norm(features,x_norm)\n",
    "    (y_mu, y_range) = norm(homevalue, y_norm)\n",
    "\n",
    "    X_train = np.asarray(zip( np.ones(len(x_norm)),x_norm))\n",
    "\n",
    "    # Create linear regression object\n",
    "    regr = lm.LinearRegression()\n",
    "    regr.fit(X_train, y_norm)\n",
    "    # convert y back to abs value\n",
    "    y_predicted_norm = regr.predict(X_train)\n",
    "    coeffs = regr.coef_\n",
    "    intercepts = regr.intercept_\n",
    "\n",
    "    y_predicted = unnorm(y_mu,y_range,y_predicted_norm)\n",
    "\n",
    "    r2=r2_score(y_norm, y_predicted_norm)\n",
    "     \n",
    "    return (coeffs,intercepts,r2,y_predicted)\n"
   ]
  },
  {
   "cell_type": "code",
   "execution_count": 1131,
   "metadata": {
    "collapsed": false
   },
   "outputs": [],
   "source": [
    "coeffs,intercepts,r2,ypredicted =  linearRegression(features,homevalue)\n"
   ]
  }
 ],
 "metadata": {
  "kernelspec": {
   "display_name": "Python 2",
   "language": "python",
   "name": "python2"
  },
  "language_info": {
   "codemirror_mode": {
    "name": "ipython",
    "version": 2
   },
   "file_extension": ".py",
   "mimetype": "text/x-python",
   "name": "python",
   "nbconvert_exporter": "python",
   "pygments_lexer": "ipython2",
   "version": "2.7.11"
  }
 },
 "nbformat": 4,
 "nbformat_minor": 0
}
