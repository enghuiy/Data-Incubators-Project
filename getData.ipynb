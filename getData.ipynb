{
 "cells": [
  {
   "cell_type": "code",
   "execution_count": 34,
   "metadata": {
    "collapsed": false
   },
   "outputs": [],
   "source": [
    "import requests\n",
    "from bs4 import BeautifulSoup\n",
    "import re\n",
    "import pandas as pd\n",
    "\n",
    "import geopandas as gpd\n",
    "import shapely\n",
    "from shapely.geometry import Point\n",
    "\n",
    "import matplotlib\n",
    "from matplotlib import pyplot as plt\n",
    "% matplotlib inline\n",
    "import seaborn as sns\n",
    "matplotlib.rcParams['savefig.dpi'] = 2 * matplotlib.rcParams['savefig.dpi']\n",
    "\n",
    "from descartes import PolygonPatch\n",
    "import dill\n",
    "import folium"
   ]
  },
  {
   "cell_type": "markdown",
   "metadata": {},
   "source": [
    "# reference shapefile : elementary, secondary and unified school districts from census"
   ]
  },
  {
   "cell_type": "code",
   "execution_count": 20,
   "metadata": {
    "collapsed": false
   },
   "outputs": [],
   "source": [
    "#shapefile : census school district (note: NYC is considered one big bloc)\n",
    "\n",
    "unsd_read = gpd.read_file('./Shapefiles/Census_schoolDistricts/tl_2015_36_unsd.shp').to_crs(epsg='4326')\n",
    "#elsd_read = gpd.read_file('./Shapefiles/tl_2015_36_elsd.shp')\n",
    "scsd_read = gpd.read_file('./Shapefiles/Census_schoolDistricts/tl_2015_36_scsd.shp').to_crs(epsg='4326')\n"
   ]
  },
  {
   "cell_type": "code",
   "execution_count": null,
   "metadata": {
    "collapsed": false
   },
   "outputs": [],
   "source": [
    "scsd_read[0:3]\n",
    "unsd_read[0:3]"
   ]
  },
  {
   "cell_type": "code",
   "execution_count": 21,
   "metadata": {
    "collapsed": false
   },
   "outputs": [],
   "source": [
    "# \n",
    "sc_toAdd = scsd_read[scsd_read['NAME'].str.contains('Bellmore-Merrick|Sewanhaka|Valley Stream')][['NAME','GEOID','geometry']]\n",
    "df_refSHP = unsd_read[['NAME','GEOID','geometry']].append(sc_toAdd)\n",
    "#df_refSHP = unsd_read[['NAME','GEOID','geometry']]\n",
    "\n",
    "# delete some data\n",
    "#nysch=nysch[~nysch[\"NAME\"].str.contains('School District Not Defined')]\n",
    "#nysch=nysch[~nysch[\"NAME\"].str.contains('Binghamton Common School District')]\n",
    "\n",
    "df_refSHP['refshpindex'] = range(len(df_refSHP))\n",
    "df_refSHP.set_index(['refshpindex'],inplace=True)\n",
    "df_refSHP.rename(columns={'NAME':'name','GEOID':'geoid'},inplace=True)"
   ]
  },
  {
   "cell_type": "code",
   "execution_count": 22,
   "metadata": {
    "collapsed": false
   },
   "outputs": [],
   "source": [
    "refshape_json = []\n",
    "for i in range(len(unsd_read)):\n",
    "    refshape_json.append(unsd_read[i:i+1].to_json())\n",
    "for i in range(len(scsd_read)):\n",
    "    refshape_json.append(scsd_read[i:i+1].to_json())\n",
    "df_refSHP['json']=refshape_json"
   ]
  },
  {
   "cell_type": "code",
   "execution_count": 23,
   "metadata": {
    "collapsed": false
   },
   "outputs": [],
   "source": [
    "# compute centroid\n",
    "def getCentroid(shape):\n",
    "    c=shape.centroid\n",
    "    return (c.x,c.y)\n",
    "df_refSHP['centroid'] = df_refSHP['geometry'].apply(lambda s: getCentroid(s))\n",
    "t=zip(*df_refSHP['centroid'].tolist())\n",
    "df_refSHP['centroid_long']=t[0]\n",
    "df_refSHP['centroid_lat']=t[1]\n"
   ]
  },
  {
   "cell_type": "code",
   "execution_count": 13,
   "metadata": {
    "collapsed": false
   },
   "outputs": [
    {
     "data": {
      "text/html": [
       "<div>\n",
       "<table border=\"1\" class=\"dataframe\">\n",
       "  <thead>\n",
       "    <tr style=\"text-align: right;\">\n",
       "      <th></th>\n",
       "      <th>name</th>\n",
       "      <th>geoid</th>\n",
       "      <th>county</th>\n",
       "      <th>centroid</th>\n",
       "      <th>centroid_long</th>\n",
       "      <th>centroid_lat</th>\n",
       "      <th>geometry</th>\n",
       "      <th>json</th>\n",
       "    </tr>\n",
       "  </thead>\n",
       "  <tbody>\n",
       "    <tr>\n",
       "      <th>0</th>\n",
       "      <td>North Shore Central School District</td>\n",
       "      <td>3626370</td>\n",
       "      <td>Nassau</td>\n",
       "      <td>(-73.6239251152, 40.8362893218)</td>\n",
       "      <td>-73.623925</td>\n",
       "      <td>40.836289</td>\n",
       "      <td>POLYGON ((-73.67107299999999 40.859299, -73.65...</td>\n",
       "      <td>{\"type\": \"FeatureCollection\", \"features\": [{\"g...</td>\n",
       "    </tr>\n",
       "    <tr>\n",
       "      <th>1</th>\n",
       "      <td>Seaford Union Free School District</td>\n",
       "      <td>3626400</td>\n",
       "      <td>Nassau</td>\n",
       "      <td>(-73.4887751411, 40.5975612621)</td>\n",
       "      <td>-73.488775</td>\n",
       "      <td>40.597561</td>\n",
       "      <td>POLYGON ((-73.50683099999999 40.666806, -73.50...</td>\n",
       "      <td>{\"type\": \"FeatureCollection\", \"features\": [{\"g...</td>\n",
       "    </tr>\n",
       "    <tr>\n",
       "      <th>2</th>\n",
       "      <td>Uniondale Union Free School District</td>\n",
       "      <td>3629280</td>\n",
       "      <td>Nassau</td>\n",
       "      <td>(-73.5972693079, 40.7139621285)</td>\n",
       "      <td>-73.597269</td>\n",
       "      <td>40.713962</td>\n",
       "      <td>POLYGON ((-73.619737 40.68251799999999, -73.61...</td>\n",
       "      <td>{\"type\": \"FeatureCollection\", \"features\": [{\"g...</td>\n",
       "    </tr>\n",
       "  </tbody>\n",
       "</table>\n",
       "</div>"
      ],
      "text/plain": [
       "                                   name    geoid  county  \\\n",
       "0   North Shore Central School District  3626370  Nassau   \n",
       "1    Seaford Union Free School District  3626400  Nassau   \n",
       "2  Uniondale Union Free School District  3629280  Nassau   \n",
       "\n",
       "                          centroid  centroid_long  centroid_lat  \\\n",
       "0  (-73.6239251152, 40.8362893218)     -73.623925     40.836289   \n",
       "1  (-73.4887751411, 40.5975612621)     -73.488775     40.597561   \n",
       "2  (-73.5972693079, 40.7139621285)     -73.597269     40.713962   \n",
       "\n",
       "                                            geometry  \\\n",
       "0  POLYGON ((-73.67107299999999 40.859299, -73.65...   \n",
       "1  POLYGON ((-73.50683099999999 40.666806, -73.50...   \n",
       "2  POLYGON ((-73.619737 40.68251799999999, -73.61...   \n",
       "\n",
       "                                                json  \n",
       "0  {\"type\": \"FeatureCollection\", \"features\": [{\"g...  \n",
       "1  {\"type\": \"FeatureCollection\", \"features\": [{\"g...  \n",
       "2  {\"type\": \"FeatureCollection\", \"features\": [{\"g...  "
      ]
     },
     "execution_count": 13,
     "metadata": {},
     "output_type": "execute_result"
    }
   ],
   "source": [
    "df_refSHP[:3]\n"
   ]
  },
  {
   "cell_type": "code",
   "execution_count": 24,
   "metadata": {
    "collapsed": true
   },
   "outputs": [],
   "source": [
    "# add county info\n",
    "countyshape_read= gpd.read_file('./Shapefiles/NYS_GIS_civil/Counties.shp').to_crs(epsg='4326')\n",
    "df_countyshape = countyshape_read[['NAME','geometry']]"
   ]
  },
  {
   "cell_type": "code",
   "execution_count": null,
   "metadata": {
    "collapsed": false
   },
   "outputs": [],
   "source": [
    "countyshape_read[:3]\n"
   ]
  },
  {
   "cell_type": "code",
   "execution_count": 25,
   "metadata": {
    "collapsed": false
   },
   "outputs": [],
   "source": [
    "# assign each school district to a county region\n",
    "\n",
    "def findEncompassingShape(point,shapelist):\n",
    "    for refshape_ind,refshape in shapelist:\n",
    "        if refshape.contains(point):\n",
    "            return refshape_ind\n",
    "    return -1\n",
    "\n",
    "ref_i_centroids = zip(df_refSHP.index,df_refSHP['centroid'])\n",
    "county_shapes = zip(df_countyshape.index,df_countyshape['geometry'])\n",
    "index_map = []\n",
    "\n",
    "for refindex,centroid in ref_i_centroids:\n",
    "    p = Point(centroid[0],centroid[1])\n",
    "    county_index = findEncompassingShape(p,county_shapes)\n",
    "    index_map.append((refindex,county_index))\n",
    "\n",
    "#index_map"
   ]
  },
  {
   "cell_type": "code",
   "execution_count": 26,
   "metadata": {
    "collapsed": false
   },
   "outputs": [
    {
     "name": "stdout",
     "output_type": "stream",
     "text": [
      "672\n"
     ]
    },
    {
     "data": {
      "text/html": [
       "<div>\n",
       "<table border=\"1\" class=\"dataframe\">\n",
       "  <thead>\n",
       "    <tr style=\"text-align: right;\">\n",
       "      <th></th>\n",
       "      <th>name</th>\n",
       "      <th>geoid</th>\n",
       "      <th>county</th>\n",
       "      <th>centroid</th>\n",
       "      <th>centroid_long</th>\n",
       "      <th>centroid_lat</th>\n",
       "      <th>geometry</th>\n",
       "      <th>json</th>\n",
       "    </tr>\n",
       "  </thead>\n",
       "  <tbody>\n",
       "    <tr>\n",
       "      <th>0</th>\n",
       "      <td>North Shore Central School District</td>\n",
       "      <td>3626370</td>\n",
       "      <td>Nassau</td>\n",
       "      <td>(-73.6239251152, 40.8362893218)</td>\n",
       "      <td>-73.623925</td>\n",
       "      <td>40.836289</td>\n",
       "      <td>POLYGON ((-73.67107299999999 40.859299, -73.65...</td>\n",
       "      <td>{\"type\": \"FeatureCollection\", \"features\": [{\"g...</td>\n",
       "    </tr>\n",
       "    <tr>\n",
       "      <th>1</th>\n",
       "      <td>Seaford Union Free School District</td>\n",
       "      <td>3626400</td>\n",
       "      <td>Nassau</td>\n",
       "      <td>(-73.4887751411, 40.5975612621)</td>\n",
       "      <td>-73.488775</td>\n",
       "      <td>40.597561</td>\n",
       "      <td>POLYGON ((-73.50683099999999 40.666806, -73.50...</td>\n",
       "      <td>{\"type\": \"FeatureCollection\", \"features\": [{\"g...</td>\n",
       "    </tr>\n",
       "    <tr>\n",
       "      <th>2</th>\n",
       "      <td>Uniondale Union Free School District</td>\n",
       "      <td>3629280</td>\n",
       "      <td>Nassau</td>\n",
       "      <td>(-73.5972693079, 40.7139621285)</td>\n",
       "      <td>-73.597269</td>\n",
       "      <td>40.713962</td>\n",
       "      <td>POLYGON ((-73.619737 40.68251799999999, -73.61...</td>\n",
       "      <td>{\"type\": \"FeatureCollection\", \"features\": [{\"g...</td>\n",
       "    </tr>\n",
       "  </tbody>\n",
       "</table>\n",
       "</div>"
      ],
      "text/plain": [
       "                                   name    geoid  county  \\\n",
       "0   North Shore Central School District  3626370  Nassau   \n",
       "1    Seaford Union Free School District  3626400  Nassau   \n",
       "2  Uniondale Union Free School District  3629280  Nassau   \n",
       "\n",
       "                          centroid  centroid_long  centroid_lat  \\\n",
       "0  (-73.6239251152, 40.8362893218)     -73.623925     40.836289   \n",
       "1  (-73.4887751411, 40.5975612621)     -73.488775     40.597561   \n",
       "2  (-73.5972693079, 40.7139621285)     -73.597269     40.713962   \n",
       "\n",
       "                                            geometry  \\\n",
       "0  POLYGON ((-73.67107299999999 40.859299, -73.65...   \n",
       "1  POLYGON ((-73.50683099999999 40.666806, -73.50...   \n",
       "2  POLYGON ((-73.619737 40.68251799999999, -73.61...   \n",
       "\n",
       "                                                json  \n",
       "0  {\"type\": \"FeatureCollection\", \"features\": [{\"g...  \n",
       "1  {\"type\": \"FeatureCollection\", \"features\": [{\"g...  \n",
       "2  {\"type\": \"FeatureCollection\", \"features\": [{\"g...  "
      ]
     },
     "execution_count": 26,
     "metadata": {},
     "output_type": "execute_result"
    }
   ],
   "source": [
    "# join county to school data\n",
    "df_assign=pd.DataFrame(index_map,columns=['oldind','targetind'])\n",
    "t1=pd.merge(df_refSHP,df_assign,left_index=True,right_on='oldind',how='left')\n",
    "t2=pd.merge(t1,df_countyshape,left_on='targetind',right_index = True,how='left')\n",
    "\n",
    "#df_crimerate_refshape = t2[['name','County','PD','crimerate_total','crimerate_violent','crimerate_nonviolent']]\n",
    "print len(t1)\n",
    "t2.rename(columns={'geometry_x':'geometry','NAME':'county'},inplace=True)\n",
    "df_refSHP = t2[['name','geoid','county','centroid','centroid_long','centroid_lat','geometry','json']]\n",
    "df_refSHP[:3]\n"
   ]
  },
  {
   "cell_type": "code",
   "execution_count": 27,
   "metadata": {
    "collapsed": false
   },
   "outputs": [],
   "source": [
    "# send to local database\n",
    "df_refSHP[['name','centroid','centroid_lat','centroid_long','json']].to_sql('refshape', local_engine_alchemy, if_exists='replace',index_label='refshpindex')"
   ]
  },
  {
   "cell_type": "code",
   "execution_count": null,
   "metadata": {
    "collapsed": false
   },
   "outputs": [],
   "source": [
    "dill.dump(df_refSHP, open('../OUTDATA/refshape_sch2015.dill','wb'))"
   ]
  },
  {
   "cell_type": "code",
   "execution_count": 35,
   "metadata": {
    "collapsed": true
   },
   "outputs": [],
   "source": [
    "df_refSHP=dill.load(open('../OUTDATA/refshape_sch2015.dill','rb'))"
   ]
  },
  {
   "cell_type": "code",
   "execution_count": 28,
   "metadata": {
    "collapsed": false
   },
   "outputs": [
    {
     "data": {
      "text/plain": [
       "106      Scarsdale Union Free School District\n",
       "172           Tuckahoe Common School District\n",
       "199              Yonkers City School District\n",
       "219     Bronxville Union Free School District\n",
       "231       Edgemont Union Free School District\n",
       "368         White Plains City School District\n",
       "369        Greenburgh Central School District\n",
       "449    Eastchester Union Free School District\n",
       "453         New Rochelle City School District\n",
       "656       Tuckahoe Union Free School District\n",
       "Name: name, dtype: object"
      ]
     },
     "execution_count": 28,
     "metadata": {},
     "output_type": "execute_result"
    }
   ],
   "source": [
    "df_refSHP['name'][df_refSHP['name'].str.contains('Scarsdale|Eastchester|Tuckahoe|White Plains|Yonkers|Bronxville|New Rochelle|Greenburg|Edgemont')]\n"
   ]
  },
  {
   "cell_type": "markdown",
   "metadata": {},
   "source": [
    "# Set the reference geometry that everything will be overlayed on.\n",
    "#### currently using school geometry  (can be other shapes)"
   ]
  },
  {
   "cell_type": "code",
   "execution_count": null,
   "metadata": {
    "collapsed": false
   },
   "outputs": [],
   "source": [
    "# use school geometry as the reference (can be other shapes)\n",
    "refSHP=df_refSHP['geometry'].tolist()"
   ]
  },
  {
   "cell_type": "markdown",
   "metadata": {},
   "source": [
    "### school performance data (with shapefile index assigned by addSchDistrict.pl)"
   ]
  },
  {
   "cell_type": "code",
   "execution_count": 38,
   "metadata": {
    "collapsed": false
   },
   "outputs": [],
   "source": [
    "# for initial matching to NYS school performance data\n",
    "df_refSHP['name'].to_csv('./NYSED_3-8gradeAssess_2014-2015/sdNames.census_shx.csv')"
   ]
  },
  {
   "cell_type": "code",
   "execution_count": 39,
   "metadata": {
    "collapsed": false
   },
   "outputs": [],
   "source": [
    "performance=pd.read_table('./NYSED_3-8gradeAssess_2014-2015/3-8_ELA_AND_MATH_RESEARCHER_FILE_2015.DISTRICTSwSHPassignment.tab')\n",
    "performance['SID']=performance['SID'].astype(int)\n",
    "performance['MEAN_SCALE_SCORE']=pd.to_numeric(performance['MEAN_SCALE_SCORE'],errors=coerce)\n",
    "performance['L4_PCT']=pd.to_numeric(performance['L4_PCT'],errors=coerce)\n"
   ]
  },
  {
   "cell_type": "code",
   "execution_count": null,
   "metadata": {
    "collapsed": false
   },
   "outputs": [],
   "source": [
    "performance.columns"
   ]
  },
  {
   "cell_type": "code",
   "execution_count": 40,
   "metadata": {
    "collapsed": false
   },
   "outputs": [
    {
     "data": {
      "text/html": [
       "<div>\n",
       "<table border=\"1\" class=\"dataframe\">\n",
       "  <thead>\n",
       "    <tr style=\"text-align: right;\">\n",
       "      <th></th>\n",
       "      <th>sch_perform</th>\n",
       "    </tr>\n",
       "    <tr>\n",
       "      <th>refshpindex</th>\n",
       "      <th></th>\n",
       "    </tr>\n",
       "  </thead>\n",
       "  <tbody>\n",
       "    <tr>\n",
       "      <th>0</th>\n",
       "      <td>0.0</td>\n",
       "    </tr>\n",
       "    <tr>\n",
       "      <th>1</th>\n",
       "      <td>10.0</td>\n",
       "    </tr>\n",
       "    <tr>\n",
       "      <th>2</th>\n",
       "      <td>0.0</td>\n",
       "    </tr>\n",
       "  </tbody>\n",
       "</table>\n",
       "</div>"
      ],
      "text/plain": [
       "             sch_perform\n",
       "refshpindex             \n",
       "0                    0.0\n",
       "1                   10.0\n",
       "2                    0.0"
      ]
     },
     "execution_count": 40,
     "metadata": {},
     "output_type": "execute_result"
    }
   ],
   "source": [
    "# choose here the school metric and aggregator\n",
    "t=performance[['SID','SD_NAME','L4_PCT']][performance['ITEM_DESC'].str.contains('Grade 8 Math')]\n",
    "t.rename(columns={'SID':'refshpindex','L4_PCT':'sch_perform'}, inplace=True)\n",
    "df_schoolPerform=t.groupby('refshpindex').mean()\n",
    "df_schoolPerform[:3]"
   ]
  },
  {
   "cell_type": "code",
   "execution_count": 41,
   "metadata": {
    "collapsed": false
   },
   "outputs": [
    {
     "data": {
      "text/html": [
       "<div>\n",
       "<table border=\"1\" class=\"dataframe\">\n",
       "  <thead>\n",
       "    <tr style=\"text-align: right;\">\n",
       "      <th></th>\n",
       "      <th>sch_perform</th>\n",
       "      <th>name</th>\n",
       "      <th>geoid</th>\n",
       "      <th>county</th>\n",
       "      <th>centroid</th>\n",
       "      <th>centroid_long</th>\n",
       "      <th>centroid_lat</th>\n",
       "      <th>geometry</th>\n",
       "      <th>json</th>\n",
       "    </tr>\n",
       "  </thead>\n",
       "  <tbody>\n",
       "    <tr>\n",
       "      <th>0</th>\n",
       "      <td>0.0</td>\n",
       "      <td>North Shore Central School District</td>\n",
       "      <td>3626370</td>\n",
       "      <td>Nassau</td>\n",
       "      <td>(-73.6239251152, 40.8362893218)</td>\n",
       "      <td>-73.623925</td>\n",
       "      <td>40.836289</td>\n",
       "      <td>POLYGON ((-73.67107299999999 40.859299, -73.65...</td>\n",
       "      <td>{\"type\": \"FeatureCollection\", \"features\": [{\"g...</td>\n",
       "    </tr>\n",
       "    <tr>\n",
       "      <th>1</th>\n",
       "      <td>10.0</td>\n",
       "      <td>Seaford Union Free School District</td>\n",
       "      <td>3626400</td>\n",
       "      <td>Nassau</td>\n",
       "      <td>(-73.4887751411, 40.5975612621)</td>\n",
       "      <td>-73.488775</td>\n",
       "      <td>40.597561</td>\n",
       "      <td>POLYGON ((-73.50683099999999 40.666806, -73.50...</td>\n",
       "      <td>{\"type\": \"FeatureCollection\", \"features\": [{\"g...</td>\n",
       "    </tr>\n",
       "    <tr>\n",
       "      <th>2</th>\n",
       "      <td>0.0</td>\n",
       "      <td>Uniondale Union Free School District</td>\n",
       "      <td>3629280</td>\n",
       "      <td>Nassau</td>\n",
       "      <td>(-73.5972693079, 40.7139621285)</td>\n",
       "      <td>-73.597269</td>\n",
       "      <td>40.713962</td>\n",
       "      <td>POLYGON ((-73.619737 40.68251799999999, -73.61...</td>\n",
       "      <td>{\"type\": \"FeatureCollection\", \"features\": [{\"g...</td>\n",
       "    </tr>\n",
       "  </tbody>\n",
       "</table>\n",
       "</div>"
      ],
      "text/plain": [
       "   sch_perform                                  name    geoid  county  \\\n",
       "0          0.0   North Shore Central School District  3626370  Nassau   \n",
       "1         10.0    Seaford Union Free School District  3626400  Nassau   \n",
       "2          0.0  Uniondale Union Free School District  3629280  Nassau   \n",
       "\n",
       "                          centroid  centroid_long  centroid_lat  \\\n",
       "0  (-73.6239251152, 40.8362893218)     -73.623925     40.836289   \n",
       "1  (-73.4887751411, 40.5975612621)     -73.488775     40.597561   \n",
       "2  (-73.5972693079, 40.7139621285)     -73.597269     40.713962   \n",
       "\n",
       "                                            geometry  \\\n",
       "0  POLYGON ((-73.67107299999999 40.859299, -73.65...   \n",
       "1  POLYGON ((-73.50683099999999 40.666806, -73.50...   \n",
       "2  POLYGON ((-73.619737 40.68251799999999, -73.61...   \n",
       "\n",
       "                                                json  \n",
       "0  {\"type\": \"FeatureCollection\", \"features\": [{\"g...  \n",
       "1  {\"type\": \"FeatureCollection\", \"features\": [{\"g...  \n",
       "2  {\"type\": \"FeatureCollection\", \"features\": [{\"g...  "
      ]
     },
     "execution_count": 41,
     "metadata": {},
     "output_type": "execute_result"
    }
   ],
   "source": [
    "df_schoolPerform_shape = pd.merge(df_schoolPerform,df_refSHP,left_index=True,right_index=True)\n",
    "df_schoolPerform_shape[:3]"
   ]
  },
  {
   "cell_type": "code",
   "execution_count": null,
   "metadata": {
    "collapsed": false
   },
   "outputs": [],
   "source": [
    "with open('test.json','wb') as f: \n",
    "    f.write(df_schoolPerform_shape['json'][0:1].to_string)"
   ]
  },
  {
   "cell_type": "markdown",
   "metadata": {},
   "source": [
    "# plot school performance on map"
   ]
  },
  {
   "cell_type": "code",
   "execution_count": 46,
   "metadata": {
    "collapsed": false
   },
   "outputs": [],
   "source": [
    "crs = crs = {'init': 'epsg:4326', 'no_defs': True}\n",
    "geo_df = gpd.GeoDataFrame(df_schoolPerform_shape, crs=crs)\n",
    "geo_str = geo_df.to_json()"
   ]
  },
  {
   "cell_type": "code",
   "execution_count": null,
   "metadata": {
    "collapsed": false
   },
   "outputs": [],
   "source": [
    "print geo_df['sch_perform'].describe()"
   ]
  },
  {
   "cell_type": "code",
   "execution_count": 36,
   "metadata": {
    "collapsed": true
   },
   "outputs": [],
   "source": [
    "# function to provide color (from colorbrewer)\n",
    "def getColor(d):\n",
    "    if d > 4: \n",
    "        return '#313695' # blue\n",
    "    elif d > 3:\n",
    "        return '#4575b4'\n",
    "    elif d > 2.5:\n",
    "        return '#74add1'\n",
    "    elif d > 2:\n",
    "        return '#abd9e9'\n",
    "    elif d > 1.5:\n",
    "        return '#e0f3f8'\n",
    "    elif d > 1:\n",
    "        return '#fee090'\n",
    "    elif d > .75:\n",
    "        return '#fdae61'\n",
    "    elif d > .5:\n",
    "        return '#f46d43'\n",
    "    elif d > .25:    \n",
    "        return '#d73027'\n",
    "    elif d >= 0 : \n",
    "        return '#a50026' # red\n",
    "    return '#d9d9d9'\n"
   ]
  },
  {
   "cell_type": "code",
   "execution_count": 44,
   "metadata": {
    "collapsed": false
   },
   "outputs": [],
   "source": [
    "#\n",
    "m = folium.Map([40.6,-73.938], zoom_start=8,tiles='cartodbpositron')\n",
    "\n",
    "folium.GeoJson(geo_df,    style_function=lambda feature: {\n",
    "        'fillColor': getColor(feature['properties']['sch_perform']),\n",
    "        'color' : 'black',\n",
    "        'weight' : 1,\n",
    "        'fillOpacity':1, 'opacity':0.2\n",
    "        }\n",
    "              ).add_to(m)\n",
    "path='schoolPerform.html'\n",
    "m.save(path)\n"
   ]
  },
  {
   "cell_type": "code",
   "execution_count": 48,
   "metadata": {
    "collapsed": true
   },
   "outputs": [],
   "source": [
    "with open('../flask_actual/templates/refshape_school.json','wb') as f:\n",
    "    f.write(geo_str)"
   ]
  },
  {
   "cell_type": "code",
   "execution_count": null,
   "metadata": {
    "collapsed": false
   },
   "outputs": [],
   "source": [
    "# matplotlib only works up to 999 points -> skip points if >999\n",
    "def plotGeometry(shape):\n",
    "    fig=plt.figure()\n",
    "    ax = fig.add_subplot(111)\n",
    "    x,y = shape.exterior.xy \n",
    "    coords = shape.exterior.coords\n",
    "    N=len(x)\n",
    "    factor = N//1000 +1\n",
    "    shapepatch = PolygonPatch(shape)\n",
    "    ax.plot(x[::factor],y[::factor]) \n",
    "    ax.add_patch(shapepatch)\n",
    "#plotGeometry(schoolScore.at[8259,'geometry'])"
   ]
  },
  {
   "cell_type": "code",
   "execution_count": null,
   "metadata": {
    "collapsed": false
   },
   "outputs": [],
   "source": [
    "# matplotlib\n",
    "# matplotlib only works up to 999 points -> skip points if >999\n",
    "def plotGeometries(shapelist):\n",
    "    fig=plt.figure()\n",
    "    ax = fig.add_subplot(111)\n",
    "    for shape in shapelist:\n",
    "        x,y = shape.exterior.xy \n",
    "        N=len(x)\n",
    "        factor = N//1000 +1\n",
    "        #shapepatch = PolygonPatch(shape)\n",
    "        ax.plot(x[::factor],y[::factor], color='black') \n",
    "        #ax.add_patch(shapepatch)"
   ]
  },
  {
   "cell_type": "code",
   "execution_count": null,
   "metadata": {
    "collapsed": false
   },
   "outputs": [],
   "source": [
    "# bokeh\n",
    "from bokeh.plotting import show,figure,output_file\n",
    "from bokeh.io import output_notebook\n",
    "#output_notebook()\n"
   ]
  },
  {
   "cell_type": "code",
   "execution_count": null,
   "metadata": {
    "collapsed": true
   },
   "outputs": [],
   "source": [
    "for shape in refSHP:\n",
    "    if not isinstance(shape,shapely.geometry.polygon.Polygon):\n",
    "        print type(shape)\n",
    "        "
   ]
  },
  {
   "cell_type": "code",
   "execution_count": null,
   "metadata": {
    "collapsed": false
   },
   "outputs": [],
   "source": [
    "def plotGeometries_bk(shapelist):\n",
    "    output_file(\"lines.html\", title=\"shapefile plot example\")\n",
    "    p = figure(title=\"New York State Locales (by school districts)\", x_axis_label='longitude', y_axis_label='latitude')    \n",
    "    for shape in shapelist:\n",
    "        \n",
    "        if isinstance(shape,shapely.geometry.polygon.Polygon):\n",
    "            x,y = shape.exterior.xy \n",
    "            N=len(x)\n",
    "            factor = N//2000 +1\n",
    "            p.line(x[::factor],y[::factor],color='black')\n",
    "    show(p)\n",
    "plotGeometries_bk(refSHP)"
   ]
  },
  {
   "cell_type": "markdown",
   "metadata": {},
   "source": [
    "### shapefile : zipcodes from census"
   ]
  },
  {
   "cell_type": "code",
   "execution_count": null,
   "metadata": {
    "collapsed": false,
    "scrolled": true
   },
   "outputs": [],
   "source": [
    "zc_read=gpd.read_file('./Shapefiles/tl_2015_us_zcta510.shp')\n"
   ]
  },
  {
   "cell_type": "code",
   "execution_count": null,
   "metadata": {
    "collapsed": false
   },
   "outputs": [],
   "source": [
    "zc_read['ZCTA5CE10']=zc_read['ZCTA5CE10'].astype(int)\n"
   ]
  },
  {
   "cell_type": "code",
   "execution_count": null,
   "metadata": {
    "collapsed": false
   },
   "outputs": [],
   "source": [
    "# new york zipcode ranges from https://data.ny.gov\n",
    "nyzc=county[ ((county['ZCTA5CE10'] <=14925) & (county['ZCTA5CE10'] >= 10000)) | (county['ZCTA5CE10'] == 501) | (county['ZCTA5CE10'] == 544)| (county['ZCTA5CE10'] == 6390)][['GEOID10','ZCTA5CE10','geometry']]"
   ]
  },
  {
   "cell_type": "code",
   "execution_count": null,
   "metadata": {
    "collapsed": false
   },
   "outputs": [],
   "source": [
    "sz=nyzc[nyzc['ZCTA5CE10']==10583]"
   ]
  },
  {
   "cell_type": "code",
   "execution_count": null,
   "metadata": {
    "collapsed": false
   },
   "outputs": [],
   "source": [
    "ss.plot()\n"
   ]
  },
  {
   "cell_type": "code",
   "execution_count": null,
   "metadata": {
    "collapsed": false
   },
   "outputs": [],
   "source": [
    "ss_SHP=df_refSHP[df_refSHP['NAME'].str.contains('Scarsdale')]\n",
    "#.iat[0,0]\n",
    "#ss['geometry'].plot()\n",
    "print ss_SHP['geometry']"
   ]
  },
  {
   "cell_type": "code",
   "execution_count": null,
   "metadata": {
    "collapsed": false
   },
   "outputs": [],
   "source": [
    "sz.plot()\n"
   ]
  },
  {
   "cell_type": "code",
   "execution_count": null,
   "metadata": {
    "collapsed": true
   },
   "outputs": [],
   "source": [
    "from geopandas.tools import overlay"
   ]
  },
  {
   "cell_type": "markdown",
   "metadata": {},
   "source": [
    "# Pricing data; assigned to corresponding refshape"
   ]
  },
  {
   "cell_type": "code",
   "execution_count": null,
   "metadata": {
    "collapsed": false,
    "scrolled": true
   },
   "outputs": [],
   "source": [
    "df_zillow_ny_regionData['refSHPindex']=assign_zRegion2RefSHP\n",
    "df_zillow_ny_regionData[:3]"
   ]
  },
  {
   "cell_type": "code",
   "execution_count": null,
   "metadata": {
    "collapsed": false
   },
   "outputs": [],
   "source": [
    "# sanity check: zilow regions not mappable to schools (because sec-schools are omitted)\n",
    "df_zillow_ny_regionData[df_zillow_ny_regionData['refSHPindex']==-1]"
   ]
  },
  {
   "cell_type": "code",
   "execution_count": null,
   "metadata": {
    "collapsed": false
   },
   "outputs": [],
   "source": [
    "# combine data in the same refSHPindex using desired aggregator\n",
    "df_price=df_zillow_ny_regionData[['refSHPindex','ZPRICE','ZLAT','ZLONG']].groupby('refSHPindex').mean()\n",
    "df_price.rename(columns={'ZPRICE':'zprice'},inplace=True)\n",
    "df_price[:5]"
   ]
  },
  {
   "cell_type": "markdown",
   "metadata": {},
   "source": [
    "# plot home prices on map"
   ]
  },
  {
   "cell_type": "code",
   "execution_count": null,
   "metadata": {
    "collapsed": false
   },
   "outputs": [],
   "source": [
    "t1=pd.merge(df_refSHP,df_price,left_index=True,right_index=True,how='left')\n",
    "df_price_shape = t1[['name','centroid','geometry','zprice']]"
   ]
  },
  {
   "cell_type": "code",
   "execution_count": null,
   "metadata": {
    "collapsed": false
   },
   "outputs": [],
   "source": [
    "crs = crs = {'init': 'epsg:4326', 'no_defs': True}\n",
    "geo_df = gpd.GeoDataFrame(df_price_shape, crs=crs)\n",
    "geo_str = geo_df.to_json()"
   ]
  },
  {
   "cell_type": "code",
   "execution_count": null,
   "metadata": {
    "collapsed": false
   },
   "outputs": [],
   "source": [
    "print geo_df['zprice'].describe()"
   ]
  },
  {
   "cell_type": "code",
   "execution_count": 45,
   "metadata": {
    "collapsed": true
   },
   "outputs": [],
   "source": [
    "# function to provide color (from colorbrewer)\n",
    "def getColor(d):\n",
    "    if d > 1000000: \n",
    "        return '#313695' # blue\n",
    "    elif d > 500000:\n",
    "        return '#4575b4'\n",
    "    elif d > 400000:\n",
    "        return '#74add1'\n",
    "    elif d > 300000:\n",
    "        return '#abd9e9'\n",
    "    elif d > 200000:\n",
    "        return '#e0f3f8'\n",
    "    elif d > 100000:\n",
    "        return '#fee090'\n",
    "    elif d > 80000:\n",
    "        return '#fdae61'\n",
    "    elif d > 60000:\n",
    "        return '#f46d43'\n",
    "    elif d > 40000:    \n",
    "        return '#d73027'\n",
    "    elif d > 20000: \n",
    "        return '#a50026' # red\n",
    "    return '#d9d9d9'\n"
   ]
  },
  {
   "cell_type": "code",
   "execution_count": null,
   "metadata": {
    "collapsed": false
   },
   "outputs": [],
   "source": [
    "#\n",
    "m = folium.Map([40.6,-73.938], zoom_start=8,tiles='cartodbpositron')\n",
    "\n",
    "folium.GeoJson(geo_df,    style_function=lambda feature: {\n",
    "        'fillColor': getColor(feature['properties']['zprice']),\n",
    "        'color' : 'black',\n",
    "        'weight' : 1,\n",
    "        'fillOpacity':1, 'opacity':0.2\n",
    "        }\n",
    "              ).add_to(m)\n",
    "path='medHomePrice.html'\n",
    "m.save(path)\n"
   ]
  },
  {
   "cell_type": "markdown",
   "metadata": {},
   "source": [
    "# get baseline pricing based on lat-long (kneighbor)"
   ]
  },
  {
   "cell_type": "code",
   "execution_count": null,
   "metadata": {
    "collapsed": false
   },
   "outputs": [],
   "source": [
    "# training set: data from 532 price,(zlat,zlong data)\n",
    "t=df_price[df_price.index.values>-1]\n",
    "X_train = t[['ZLONG','ZLAT']].as_matrix()\n",
    "y_train=t['zprice'].tolist()"
   ]
  },
  {
   "cell_type": "code",
   "execution_count": null,
   "metadata": {
    "collapsed": false
   },
   "outputs": [],
   "source": [
    "# applied to: 672 refshapes\n",
    "X_test = [ list(x) for x in df_refSHP['centroid'].as_matrix() ]"
   ]
  },
  {
   "cell_type": "code",
   "execution_count": null,
   "metadata": {
    "collapsed": false
   },
   "outputs": [],
   "source": [
    "from sklearn.neighbors import KNeighborsRegressor\n",
    "kr = KNeighborsRegressor(n_neighbors=15)\n",
    "kr.fit(X_train,y_train)"
   ]
  },
  {
   "cell_type": "code",
   "execution_count": null,
   "metadata": {
    "collapsed": false
   },
   "outputs": [],
   "source": [
    "price_baseline = kr.predict(X_test)"
   ]
  },
  {
   "cell_type": "code",
   "execution_count": null,
   "metadata": {
    "collapsed": false
   },
   "outputs": [],
   "source": [
    "df_price_baseline = pd.DataFrame({'price_baseline':price_baseline},index =range(672))\n",
    "df_price_baseline[:3]\n"
   ]
  },
  {
   "cell_type": "code",
   "execution_count": null,
   "metadata": {
    "collapsed": true
   },
   "outputs": [],
   "source": [
    "dill.dump(df_price_baseline,open('../OUTDATA/price_baseline.dill','wb'))"
   ]
  },
  {
   "cell_type": "code",
   "execution_count": null,
   "metadata": {
    "collapsed": true
   },
   "outputs": [],
   "source": []
  },
  {
   "cell_type": "markdown",
   "metadata": {},
   "source": [
    "# Combining pricing data and feature(s) based on refshapes"
   ]
  },
  {
   "cell_type": "code",
   "execution_count": null,
   "metadata": {
    "collapsed": false
   },
   "outputs": [],
   "source": [
    "print \"price\",len(df_price),df_price.index[:5]\n",
    "print \"school\",len(df_schoolPerform),df_schoolPerform.index[:5]\n",
    "print \"crime\",len(df_crime),df_crime.index[:5]\n",
    "print \"roi\",len(df_roi),df_roi.index[:5]"
   ]
  },
  {
   "cell_type": "code",
   "execution_count": null,
   "metadata": {
    "collapsed": false
   },
   "outputs": [],
   "source": [
    "df_crime = dill.load(open('../OUTDATA/refshape_crime2014.dill','rb'))\n",
    "df_crime[df_crime.index.values==1]"
   ]
  },
  {
   "cell_type": "code",
   "execution_count": null,
   "metadata": {
    "collapsed": false
   },
   "outputs": [],
   "source": [
    "df_roi=dill.load(open('../OUTDATA/refshape_roi_2006-2016.dill','rb'))\n",
    "df_roi[:2]"
   ]
  },
  {
   "cell_type": "code",
   "execution_count": null,
   "metadata": {
    "collapsed": false
   },
   "outputs": [],
   "source": [
    "t1=pd.merge(df_price,df_schoolPerform,left_index=True,right_index=True,how='inner')\n",
    "del t1['ZLAT']\n",
    "del t1['ZLONG']\n",
    "t2=pd.merge(t1,df_crime[['crimerate_total','crimerate_violent','crimerate_property']],left_index=True,right_index=True,how='inner')\n",
    "t3=pd.merge(t2,df_roi[['roi']],left_index=True,right_index=True,how='inner')\n",
    "t4=pd.merge(t3,df_price_baseline,left_index=True,right_index=True,how='inner')\n",
    "t4[:10]\n",
    "df_price_features=t4\n",
    "df_price_features['premium'] = df_price_features['zprice']-df_price_features['price_baseline']\n",
    "df_price_features[:3]"
   ]
  },
  {
   "cell_type": "code",
   "execution_count": null,
   "metadata": {
    "collapsed": false
   },
   "outputs": [],
   "source": [
    "plt.plot(df_price_features['price_baseline'], df_price_features['zprice'], '.')\n",
    "plt.locator_params(nbins=6)\n",
    "plt.xlabel('Baseline Home Price (lat-long model)')\n",
    "plt.ylabel('Actual Home Price')"
   ]
  },
  {
   "cell_type": "code",
   "execution_count": null,
   "metadata": {
    "collapsed": true
   },
   "outputs": [],
   "source": []
  },
  {
   "cell_type": "code",
   "execution_count": null,
   "metadata": {
    "collapsed": true
   },
   "outputs": [],
   "source": []
  },
  {
   "cell_type": "markdown",
   "metadata": {},
   "source": [
    "# posting to postgresql"
   ]
  },
  {
   "cell_type": "code",
   "execution_count": 14,
   "metadata": {
    "collapsed": true
   },
   "outputs": [],
   "source": [
    "from sqlalchemy import create_engine\n",
    "from sqlalchemy import types as sqt"
   ]
  },
  {
   "cell_type": "code",
   "execution_count": 15,
   "metadata": {
    "collapsed": false
   },
   "outputs": [],
   "source": [
    "# connecting to local using sqlachemy\n",
    "local_engine_alchemy = create_engine('postgresql://enghuiy:@localhost:5432/nysRealEstate')"
   ]
  },
  {
   "cell_type": "code",
   "execution_count": null,
   "metadata": {
    "collapsed": false
   },
   "outputs": [],
   "source": [
    "# remote db (heroku-app: homevalue-hunter)\n",
    "\n",
    "remote_engine = create_engine('postgresql://%s:%s@%s:5432/%s' %(USER,PGPASSWORD,HOST,DATABASE))\n",
    "try:\n",
    "    connection=remote_engine.connect()\n",
    "except:\n",
    "    print \"I am unable to connect to the database\"\n",
    "\n",
    "#result = connection.execute(\"select * from price2features\" )"
   ]
  },
  {
   "cell_type": "code",
   "execution_count": null,
   "metadata": {
    "collapsed": false
   },
   "outputs": [],
   "source": [
    "df_price_features.to_sql('price2features', local_engine_alchemy, if_exists='replace',index_label='refshpindex')\n"
   ]
  },
  {
   "cell_type": "code",
   "execution_count": null,
   "metadata": {
    "collapsed": true
   },
   "outputs": [],
   "source": [
    "# save to files\n",
    "\n",
    "df_price_features.to_csv('../OUTDATA/price2features.csv')"
   ]
  },
  {
   "cell_type": "markdown",
   "metadata": {},
   "source": [
    "# extracting from postgresql"
   ]
  },
  {
   "cell_type": "code",
   "execution_count": null,
   "metadata": {
    "collapsed": true
   },
   "outputs": [],
   "source": [
    "import psycopg2\n",
    "import urlparse\n"
   ]
  },
  {
   "cell_type": "code",
   "execution_count": null,
   "metadata": {
    "collapsed": true
   },
   "outputs": [],
   "source": [
    "# connect to local database using psycopg2\n",
    "try:\n",
    "    connl = psycopg2.connect(\"dbname='nysRealEstate' user='enghuiy' host='localhost' password=''\")\n",
    "except:\n",
    "    print \"I am unable to connect to the database\"\n",
    "connl.set_session(autocommit=True);   \n",
    "cur = connl.cursor()"
   ]
  },
  {
   "cell_type": "code",
   "execution_count": null,
   "metadata": {
    "collapsed": false
   },
   "outputs": [],
   "source": [
    "# to use on heroku\n",
    "url = urlparse.urlparse(url_)\n",
    "\n",
    "conn = psycopg2.connect(\n",
    "    database=url.path[1:],\n",
    "    user=url.username,\n",
    "    password=url.password,\n",
    "    host=url.hostname,\n",
    "    port=url.port,\n",
    "#    sslmode='require'\n",
    ")"
   ]
  },
  {
   "cell_type": "markdown",
   "metadata": {},
   "source": [
    "# Machine Learning "
   ]
  },
  {
   "cell_type": "code",
   "execution_count": null,
   "metadata": {
    "collapsed": true
   },
   "outputs": [],
   "source": [
    "import numpy as np\n",
    "import re\n",
    "import math\n",
    "\n",
    "from sklearn import linear_model as lm\n",
    "from sklearn.metrics import r2_score"
   ]
  },
  {
   "cell_type": "code",
   "execution_count": null,
   "metadata": {
    "collapsed": true
   },
   "outputs": [],
   "source": [
    "# normalization\n",
    "def norm(x_in,x_norm):\n",
    "    \n",
    "    x_mu = np.mean(x_in)\n",
    "    x_range = np.amax(x_in) - np.amin(x_in)\n",
    "    x_norm [:] = [ ( x - x_mu ) / float (x_range) for x in x_in]\n",
    "    return (x_mu, x_range)\n",
    "\n",
    "# convert back to abs value\n",
    "def unnorm(x_mu, x_range, x_norm):\n",
    "    x_out=[]\n",
    "    x_out [:] = [ x*x_range+x_mu for x in x_norm ]\n",
    "    return x_out"
   ]
  },
  {
   "cell_type": "code",
   "execution_count": null,
   "metadata": {
    "collapsed": false
   },
   "outputs": [],
   "source": [
    "# extract data from dataframes\n",
    "tmp=df_price_features.dropna()\n",
    "print len(tmp)\n",
    "#feature1=tmp['SCH_PERFORM'].tolist()\n",
    "#homevalue=tmp['ZPRICE'].tolist()\n",
    "tmp[:3]"
   ]
  },
  {
   "cell_type": "code",
   "execution_count": null,
   "metadata": {
    "collapsed": false
   },
   "outputs": [],
   "source": [
    "# univariate regression: school-performance; no baseline adjustment\n",
    "X_train = np.asarray(tmp['sch_perform'].tolist()).reshape(len(tmp),1)\n",
    "y_train = tmp['zprice'].tolist()\n",
    "\n",
    "lm1 = lm.LinearRegression(normalize=True)\n",
    "lm1.fit(X_train, y_train)\n",
    "y_predict0 = lm1.predict(X_train)\n",
    "score = lm1.score(X_train,y_train)\n",
    "\n",
    "plt.plot(X_train, y_train, '.')\n",
    "plt.plot(X_train, y_predict0)\n",
    "plt.locator_params(nbins=6)\n",
    "plt.xlabel('School Performance (% in top quantile; Gr8 math)')\n",
    "plt.ylabel('Home Price')\n",
    "print \"R^2 = %5.2f\" % score\n",
    "\n",
    "#test_xy = df_price_features[['sch_perform','zprice']].dropna()\n",
    "#X_test = np.asarray(test_xy['sch_perform'].tolist()).reshape(len(tmp),1)\n",
    "#y_test = test_xy['zprice'].tolist()\n",
    "#print len(y_test)\n",
    "\n",
    "#y_predict = lm1.predict(y_test)\n"
   ]
  },
  {
   "cell_type": "code",
   "execution_count": null,
   "metadata": {
    "collapsed": false
   },
   "outputs": [],
   "source": [
    "# univariate regression: school-performance; with baseline adjustment\n",
    "X_train = np.asarray(tmp['sch_perform'].tolist()).reshape(len(tmp),1)\n",
    "y_train = tmp['premium'].tolist()\n",
    "\n",
    "lm1 = lm.LinearRegression(normalize=True)\n",
    "lm1.fit(X_train, y_train)\n",
    "y_predict0 = lm1.predict(X_train)\n",
    "score = lm1.score(X_train,y_train)\n",
    "\n",
    "plt.plot(X_train, y_train, '.')\n",
    "plt.plot(X_train, y_predict0)\n",
    "plt.locator_params(nbins=6)\n",
    "plt.xlabel('School Performance (% in top quantile; Gr8 math)')\n",
    "plt.ylabel('Home Price - Baseline')\n",
    "print \"R^2 = %5.2f\" % score\n",
    "\n",
    "#test_xy = df_price_features[['sch_perform','zprice']].dropna()\n",
    "#X_test = np.asarray(test_xy['sch_perform'].tolist()).reshape(len(tmp),1)\n",
    "#y_test = test_xy['zprice'].tolist()\n",
    "#print len(y_test)\n",
    "\n",
    "#y_predict = lm1.predict(y_test)\n"
   ]
  },
  {
   "cell_type": "code",
   "execution_count": null,
   "metadata": {
    "collapsed": false
   },
   "outputs": [],
   "source": [
    "# multivariate regression: school,roi,crime; no baseline adjustment\n",
    "X_train = np.asarray(tmp[['sch_perform','crimerate_total','roi']].as_matrix()).reshape(len(tmp),3)\n",
    "y_train = tmp['zprice'].tolist()\n",
    "\n",
    "lm3 = lm.LinearRegression(normalize=True)\n",
    "lm3.fit(X_train, y_train)\n",
    "y_predict0 = lm3.predict(X_train)\n",
    "score = lm3.score(X_train,y_train)\n",
    "\n",
    "#plt.plot(X_train, y_train, '.')\n",
    "#plt.plot(X_train, y_predict0)\n",
    "#plt.locator_params(nbins=6)\n",
    "#plt.xlabel('School Performance (% in top quantile; Gr8 math)')\n",
    "#plt.ylabel('Home Price')\n",
    "print \"R^2 = %5.2f\" % score\n",
    "print lm3.coef_\n",
    "\n",
    "\n",
    "#test_xy = df_price_features[['sch_perform','zprice']].dropna()\n",
    "#X_test = np.asarray(test_xy['sch_perform'].tolist()).reshape(len(tmp),1)\n",
    "#y_test = test_xy['zprice'].tolist()\n",
    "#print len(y_test)\n",
    "\n",
    "#y_predict = lm1.predict(y_test)\n"
   ]
  },
  {
   "cell_type": "code",
   "execution_count": null,
   "metadata": {
    "collapsed": false
   },
   "outputs": [],
   "source": [
    "# univariate regression: school,crime,roi; with baseline adjustment\n",
    "X_train = np.asarray(tmp[['sch_perform','crimerate_total','roi']].as_matrix()).reshape(len(tmp),3)\n",
    "y_train = tmp['premium'].tolist()\n",
    "\n",
    "lm3b = lm.LinearRegression(normalize=True)\n",
    "lm3b.fit(X_train, y_train)\n",
    "y_predict0 = lm3b.predict(X_train)\n",
    "score = lm3b.score(X_train,y_train)\n",
    "\n",
    "#plt.plot(X_train, y_train, '.')\n",
    "#plt.plot(X_train, y_predict0)\n",
    "#plt.locator_params(nbins=6)\n",
    "#plt.xlabel('School Performance (% in top quantile; Gr8 math)')\n",
    "#plt.ylabel('Home Price - Baseline')\n",
    "print \"R^2 = %5.2f\" % score\n",
    "print lm3b.coef_\n",
    "\n",
    "#test_xy = df_price_features[['sch_perform','zprice']].dropna()\n",
    "#X_test = np.asarray(test_xy['sch_perform'].tolist()).reshape(len(tmp),1)\n",
    "#y_test = test_xy['zprice'].tolist()\n",
    "#print len(y_test)\n",
    "\n",
    "#y_predict = lm1.predict(y_test)\n"
   ]
  },
  {
   "cell_type": "code",
   "execution_count": null,
   "metadata": {
    "collapsed": true
   },
   "outputs": [],
   "source": [
    "# univariate regression (homePrice vs. SAT score)\n",
    "x1_norm=[]; y_norm=[]\n",
    "(x1_mu,x1_range) = norm(feature1,x1_norm)\n",
    "(y_mu, y_range) = norm(homevalue, y_norm)\n",
    "\n",
    "# univariate linear regression, with x0=1\n",
    "#X_train = zip( np.ones(len(x1_norm)),x1_norm)\n",
    "\n",
    "X_train = np.asarray(zip( np.ones(len(x1_norm)),x1_norm))\n",
    "#X_train = zip(np.asarray(x1_norm).reshape(-1,1)\n",
    "\n"
   ]
  },
  {
   "cell_type": "code",
   "execution_count": null,
   "metadata": {
    "collapsed": false
   },
   "outputs": [],
   "source": [
    "# Create linear regression object\n",
    "regr = lm.LinearRegression()\n",
    "regr.fit(X_train, y_norm)\n",
    "\n",
    "# convert y back to abs value\n",
    "y_predicted_norm1 = regr.predict(X_train)\n",
    "y_predicted1 = unnorm(y_mu,y_range,y_predicted_norm1)\n",
    "\n",
    "print r2_score(y_norm, y_predicted_norm1)\n"
   ]
  },
  {
   "cell_type": "code",
   "execution_count": null,
   "metadata": {
    "collapsed": false
   },
   "outputs": [],
   "source": []
  },
  {
   "cell_type": "code",
   "execution_count": null,
   "metadata": {
    "collapsed": true
   },
   "outputs": [],
   "source": []
  },
  {
   "cell_type": "code",
   "execution_count": null,
   "metadata": {
    "collapsed": false
   },
   "outputs": [],
   "source": [
    "cur = connl.cursor()\n",
    "#command=SELECT 'ZPRICE' from price2features\n",
    "#cur.execute(\"\"\"SELECT version()\"\"\")\n",
    "#cur.fetchone()\n",
    "#cur.execute(\"\"\"SELECT refSHP.\"NAME\",\"ZPRICE\",\"SCH_PERFORM\" from price2features JOIN refshape ON  price2features.\"REFSHPINDEX\"=refSHP.\"refSHPindex\" WHERE \"SCH_PERFORM\" > 0;\"\"\")\n",
    "#cur.execute(\"\"\"SELECT \"ZPRICE\",\"SCH_PERFORM\" from price2features;\"\"\")\n",
    "#cur.execute(\"\"\"SELECT \"ZPRICE\",\"SCORE\" from price2features WHERE \"SCORE\" IS NOT NULL\"\"\")\n",
    "#data=zip(*cur.fetchall())\n",
    "#homevalue = list(data[0])\n",
    "#features  = list(data[1])"
   ]
  },
  {
   "cell_type": "code",
   "execution_count": null,
   "metadata": {
    "collapsed": false
   },
   "outputs": [],
   "source": [
    "# normalization\n",
    "def norm(x_in,x_norm):\n",
    "    \n",
    "    x_mu = np.mean(x_in)\n",
    "    x_range = np.amax(x_in) - np.amin(x_in)\n",
    "    x_norm [:] = [ ( x - x_mu ) / float (x_range) for x in x_in]\n",
    "    return (x_mu, x_range)\n",
    "\n",
    "# convert back to abs value\n",
    "def unnorm(x_mu, x_range, x_norm):\n",
    "    x_out=[]\n",
    "    x_out [:] = [ x*x_range+x_mu for x in x_norm ]\n",
    "    return x_out\n",
    "\n",
    "# univariate regression\n",
    "def linearRegression(features,homevalue):\n",
    "    x_norm=[]; y_norm=[]\n",
    "    (x_mu,x_range) = norm(features,x_norm)\n",
    "    (y_mu, y_range) = norm(homevalue, y_norm)\n",
    "\n",
    "    X_train = np.asarray(zip( np.ones(len(x_norm)),x_norm))\n",
    "\n",
    "    # Create linear regression object\n",
    "    regr = lm.LinearRegression()\n",
    "    regr.fit(X_train, y_norm)\n",
    "    # convert y back to abs value\n",
    "    y_predicted_norm = regr.predict(X_train)\n",
    "    coeffs = regr.coef_\n",
    "    intercepts = regr.intercept_\n",
    "\n",
    "    y_predicted = unnorm(y_mu,y_range,y_predicted_norm)\n",
    "\n",
    "    r2=r2_score(y_norm, y_predicted_norm)\n",
    "     \n",
    "    return (coeffs,intercepts,r2,y_predicted)\n"
   ]
  },
  {
   "cell_type": "code",
   "execution_count": null,
   "metadata": {
    "collapsed": false
   },
   "outputs": [],
   "source": [
    "coeffs,intercepts,r2,ypredicted =  linearRegression(features,homevalue)\n"
   ]
  }
 ],
 "metadata": {
  "kernelspec": {
   "display_name": "Python 2",
   "language": "python",
   "name": "python2"
  },
  "language_info": {
   "codemirror_mode": {
    "name": "ipython",
    "version": 2
   },
   "file_extension": ".py",
   "mimetype": "text/x-python",
   "name": "python",
   "nbconvert_exporter": "python",
   "pygments_lexer": "ipython2",
   "version": "2.7.11"
  }
 },
 "nbformat": 4,
 "nbformat_minor": 0
}
