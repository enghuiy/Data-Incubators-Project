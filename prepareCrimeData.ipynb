{
 "cells": [
  {
   "cell_type": "code",
   "execution_count": 952,
   "metadata": {
    "collapsed": false
   },
   "outputs": [],
   "source": [
    "import requests\n",
    "from bs4 import BeautifulSoup\n",
    "import re\n",
    "import pandas as pd\n",
    "\n",
    "import geopandas as gpd\n",
    "import shapely\n",
    "from shapely.geometry import Point\n",
    "\n",
    "import re\n",
    "import difflib\n",
    "from collections import Counter\n",
    "from collections import defaultdict\n",
    "\n",
    "import dill\n",
    "import folium\n"
   ]
  },
  {
   "cell_type": "markdown",
   "metadata": {},
   "source": [
    "# Collect Crime data from New York Dept of Criminal Justice"
   ]
  },
  {
   "cell_type": "code",
   "execution_count": null,
   "metadata": {
    "collapsed": true
   },
   "outputs": [],
   "source": [
    "# download all the crime data in NYS\n",
    "\n",
    "r = request.get(...)\n",
    "\n",
    "# get all the links\n",
    "soup = BeautifulSoup(r.text,'lxml')\n",
    "links = [ str(tag.get('href')) for tag in soup.table.find_all('a') if re.search(r'xls',str(tag))  ]\n",
    "\n",
    "urlbase = 'http://www.criminaljustice.ny.gov/crimnet/ojsa/indexcrimes/'\n",
    "s = requests.Session()\n",
    "for tag in links:\n",
    "    print tag\n",
    "    rx = s.get(urlbase+str(tag))\n",
    "    with open (tag,'w') as outfile:\n",
    "        outfile.write(rx.content)\n"
   ]
  },
  {
   "cell_type": "markdown",
   "metadata": {},
   "source": [
    "### Compute county averages for school districts with no mappable police districts"
   ]
  },
  {
   "cell_type": "code",
   "execution_count": 905,
   "metadata": {
    "collapsed": false
   },
   "outputs": [
    {
     "data": {
      "text/html": [
       "<div>\n",
       "<table border=\"1\" class=\"dataframe\">\n",
       "  <thead>\n",
       "    <tr style=\"text-align: right;\">\n",
       "      <th></th>\n",
       "      <th>County</th>\n",
       "      <th>Total</th>\n",
       "      <th>Total.1</th>\n",
       "      <th>Total.2</th>\n",
       "    </tr>\n",
       "  </thead>\n",
       "  <tbody>\n",
       "    <tr>\n",
       "      <th>4</th>\n",
       "      <td>Albany</td>\n",
       "      <td>9168</td>\n",
       "      <td>998</td>\n",
       "      <td>8170</td>\n",
       "    </tr>\n",
       "    <tr>\n",
       "      <th>9</th>\n",
       "      <td>Allegany</td>\n",
       "      <td>614</td>\n",
       "      <td>68</td>\n",
       "      <td>546</td>\n",
       "    </tr>\n",
       "    <tr>\n",
       "      <th>14</th>\n",
       "      <td>Bronx</td>\n",
       "      <td>36030</td>\n",
       "      <td>12713</td>\n",
       "      <td>23317</td>\n",
       "    </tr>\n",
       "  </tbody>\n",
       "</table>\n",
       "</div>"
      ],
      "text/plain": [
       "      County  Total  Total.1  Total.2\n",
       "4     Albany   9168      998     8170\n",
       "9   Allegany    614       68      546\n",
       "14     Bronx  36030    12713    23317"
      ]
     },
     "execution_count": 905,
     "metadata": {},
     "output_type": "execute_result"
    }
   ],
   "source": [
    "# input crime counts\n",
    "county_read=pd.read_excel('./data_CrimeNYS/County-totals.xls',skiprows=7)\n",
    "df_county_crime=county_read[county_read['Year']==2014][['County','Total','Total.1','Total.2']]\n",
    "df_county_crime[:3]"
   ]
  },
  {
   "cell_type": "code",
   "execution_count": 1034,
   "metadata": {
    "collapsed": false
   },
   "outputs": [
    {
     "data": {
      "text/html": [
       "<div>\n",
       "<table border=\"1\" class=\"dataframe\">\n",
       "  <thead>\n",
       "    <tr style=\"text-align: right;\">\n",
       "      <th></th>\n",
       "      <th>NAME</th>\n",
       "      <th>POP2010</th>\n",
       "    </tr>\n",
       "  </thead>\n",
       "  <tbody>\n",
       "    <tr>\n",
       "      <th>0</th>\n",
       "      <td>Albany</td>\n",
       "      <td>304204</td>\n",
       "    </tr>\n",
       "    <tr>\n",
       "      <th>1</th>\n",
       "      <td>Allegany</td>\n",
       "      <td>48946</td>\n",
       "    </tr>\n",
       "    <tr>\n",
       "      <th>2</th>\n",
       "      <td>Bronx</td>\n",
       "      <td>1385108</td>\n",
       "    </tr>\n",
       "  </tbody>\n",
       "</table>\n",
       "</div>"
      ],
      "text/plain": [
       "       NAME  POP2010\n",
       "0    Albany   304204\n",
       "1  Allegany    48946\n",
       "2     Bronx  1385108"
      ]
     },
     "execution_count": 1034,
     "metadata": {},
     "output_type": "execute_result"
    }
   ],
   "source": [
    "# population data\n",
    "countyshape_read= gpd.read_file('./Shapefiles/NYS_GIS_civil/Counties.shp').to_crs(epsg='4326')\n",
    "df_countypop = countyshape_read[['NAME','POP2010']]\n",
    "df_countypop[:3]"
   ]
  },
  {
   "cell_type": "code",
   "execution_count": 1036,
   "metadata": {
    "collapsed": false
   },
   "outputs": [
    {
     "name": "stdout",
     "output_type": "stream",
     "text": [
      "62\n"
     ]
    },
    {
     "data": {
      "text/html": [
       "<div>\n",
       "<table border=\"1\" class=\"dataframe\">\n",
       "  <thead>\n",
       "    <tr style=\"text-align: right;\">\n",
       "      <th></th>\n",
       "      <th>County</th>\n",
       "      <th>Total</th>\n",
       "      <th>Total.1</th>\n",
       "      <th>Total.2</th>\n",
       "      <th>NAME</th>\n",
       "      <th>POP2010</th>\n",
       "      <th>crimerate_total</th>\n",
       "      <th>crimerate_violent</th>\n",
       "      <th>crimerate_property</th>\n",
       "    </tr>\n",
       "  </thead>\n",
       "  <tbody>\n",
       "    <tr>\n",
       "      <th>0</th>\n",
       "      <td>Albany</td>\n",
       "      <td>9168</td>\n",
       "      <td>998</td>\n",
       "      <td>8170</td>\n",
       "      <td>Albany</td>\n",
       "      <td>304204</td>\n",
       "      <td>3.013767</td>\n",
       "      <td>0.328069</td>\n",
       "      <td>2.685698</td>\n",
       "    </tr>\n",
       "    <tr>\n",
       "      <th>1</th>\n",
       "      <td>Allegany</td>\n",
       "      <td>614</td>\n",
       "      <td>68</td>\n",
       "      <td>546</td>\n",
       "      <td>Allegany</td>\n",
       "      <td>48946</td>\n",
       "      <td>1.254444</td>\n",
       "      <td>0.138929</td>\n",
       "      <td>1.115515</td>\n",
       "    </tr>\n",
       "    <tr>\n",
       "      <th>2</th>\n",
       "      <td>Bronx</td>\n",
       "      <td>36030</td>\n",
       "      <td>12713</td>\n",
       "      <td>23317</td>\n",
       "      <td>Bronx</td>\n",
       "      <td>1385108</td>\n",
       "      <td>2.601241</td>\n",
       "      <td>0.917835</td>\n",
       "      <td>1.683407</td>\n",
       "    </tr>\n",
       "  </tbody>\n",
       "</table>\n",
       "</div>"
      ],
      "text/plain": [
       "     County  Total  Total.1  Total.2      NAME  POP2010  crimerate_total  \\\n",
       "0    Albany   9168      998     8170    Albany   304204         3.013767   \n",
       "1  Allegany    614       68      546  Allegany    48946         1.254444   \n",
       "2     Bronx  36030    12713    23317     Bronx  1385108         2.601241   \n",
       "\n",
       "   crimerate_violent  crimerate_property  \n",
       "0           0.328069            2.685698  \n",
       "1           0.138929            1.115515  \n",
       "2           0.917835            1.683407  "
      ]
     },
     "execution_count": 1036,
     "metadata": {},
     "output_type": "execute_result"
    }
   ],
   "source": [
    "df_county_crimerate = pd.merge(df_county_crime,df_countypop,left_on='County',right_on='NAME')\n",
    "df_county_crimerate['crimerate_total']=df_county_crimerate['Total']/df_county_crimerate['POP2010']*100\n",
    "df_county_crimerate['crimerate_violent']=df_county_crimerate['Total.1']/df_county_crimerate['POP2010']*100\n",
    "df_county_crimerate['crimerate_property']=df_county_crimerate['Total.2']/df_county_crimerate['POP2010']*100\n",
    "print len(df_county_crimerate)\n",
    "df_county_crimerate[:3]"
   ]
  },
  {
   "cell_type": "markdown",
   "metadata": {
    "collapsed": true
   },
   "source": [
    "### Map police districts to civil districts (which has population info)"
   ]
  },
  {
   "cell_type": "code",
   "execution_count": 169,
   "metadata": {
    "collapsed": true
   },
   "outputs": [],
   "source": [
    "filelist = [\"Albany.xls\",\"Allegany.xls\",\"Bronx.xls\",\"Broome.xls\",\"Cattaraugus.xls\",\"Cayuga.xls\",\"Chautauqua.xls\",\"Chemung.xls\",\n",
    "            \"Chenango.xls\",\"Clinton.xls\",\"Columbia.xls\",\"Cortland.xls\",\"Delaware.xls\",\"Dutchess.xls\",\n",
    "            \"Erie.xls\",\"Essex.xls\",\"Franklin.xls\",\"Fulton.xls\",\"Genesee.xls\",\"Greene.xls\",\"Hamilton.xls\",\"Herkimer.xls\",\n",
    "            \"Jefferson.xls\",\"Kings.xls\",\"Lewis.xls\",\"Livingston.xls\",\"Madison.xls\",\"Monroe.xls\",\"Montgomery.xls\",\"Nassau.xls\",\n",
    "            \"NewYork.xls\",\"Niagara.xls\",\"Oneida.xls\",\"Onondaga.xls\",\"Ontario.xls\",\"Orange.xls\",\"Orleans.xls\",\"Oswego.xls\",\n",
    "            \"Otsego.xls\",\"Putnam.xls\",\"Queens.xls\",\"Rensselaer.xls\",\"Richmond.xls\",\"Rockland.xls\",\"Saratoga.xls\",\n",
    "            \"Schenectady.xls\",\"Schoharie.xls\",\"Schuyler.xls\",\"Seneca.xls\",\"StLawrence.xls\",\"Steuben.xls\",\"Suffolk.xls\",\n",
    "            \"Sullivan.xls\",\"Tioga.xls\",\"Tompkins.xls\",\"Ulster.xls\",\"Warren.xls\",\"Washington.xls\",\"Wayne.xls\",\n",
    "            \"Westchester.xls\",\"Wyoming.xls\",\"Yates.xls\"]"
   ]
  },
  {
   "cell_type": "code",
   "execution_count": 469,
   "metadata": {
    "collapsed": false,
    "scrolled": true
   },
   "outputs": [],
   "source": [
    "def getLatestRow(df):\n",
    "    return df.sort_values('Year',ascending=False)[0:1]\n",
    "\n",
    "def filterCrimeStats(df):\n",
    "\n",
    "    # => remove rows with NaN data in total column\n",
    "    df0 = df[~pd.isnull(df['Total'])]\n",
    "    \n",
    "    # => keep only city/town/village police (remove county,university police)    \n",
    "    df1 = df0[df0['PD'].str.contains(r' City| Town| Vg')]\n",
    "    #return df[df['PD'].str.contains('County|SUNY|College|Tech|Westchester|NYC|University|Investigat')]\n",
    "    \n",
    "    # => add a 'locale' column stripped of police district suffice and civil unit type\n",
    "    df1['locale'] = df1['PD'].replace('( City| Vg| Town| PD)','',regex=True)\n",
    "    \n",
    "    # => for locales with multiple pds, take the larger one\n",
    "    c = Counter(df1['locale'].tolist())\n",
    "    df_out = pd.DataFrame()\n",
    "    \n",
    "    for locale, count in c.items():            \n",
    "        \n",
    "        df_sub = df1[df1['locale'].str.contains('^%s$' % locale,regex=True)]\n",
    "\n",
    "        if count > 1:\n",
    "            pd2use = sorted(df_sub['PD'].tolist(),key = lambda x:x[-2])[0]\n",
    "            print pd2use\n",
    "            df_locale = df_sub[df_sub['PD']==pd2use]\n",
    "        else:\n",
    "            df_locale = df_sub\n",
    "        #print df_out\n",
    "        df_out = df_out.append(df_locale)\n",
    "    return(df_out)\n",
    "\n",
    "#print df_latestrow[:3]\n",
    "#filterCrimeStats(df_latestrow)"
   ]
  },
  {
   "cell_type": "code",
   "execution_count": 995,
   "metadata": {
    "collapsed": false
   },
   "outputs": [
    {
     "name": "stdout",
     "output_type": "stream",
     "text": [
      "Elmira City PD\n",
      "Fishkill Town PD\n",
      "Poughkeepsie City PD\n",
      "Tonawanda City PD\n",
      "Hamburg Town PD\n",
      "Frankfort Town PD\n",
      "Montgomery Town PD\n",
      "Chester Town PD\n",
      "Goshen Town PD\n",
      "Newburgh City PD\n",
      "East Hampton Town PD\n",
      "Southampton Town PD\n",
      "Mamaroneck Town PD\n",
      "391\n"
     ]
    },
    {
     "name": "stderr",
     "output_type": "stream",
     "text": [
      "/anaconda/lib/python2.7/site-packages/ipykernel/__main__.py:11: SettingWithCopyWarning: \n",
      "A value is trying to be set on a copy of a slice from a DataFrame.\n",
      "Try using .loc[row_indexer,col_indexer] = value instead\n",
      "\n",
      "See the caveats in the documentation: http://pandas.pydata.org/pandas-docs/stable/indexing.html#indexing-view-versus-copy\n"
     ]
    },
    {
     "data": {
      "text/html": [
       "<div>\n",
       "<table border=\"1\" class=\"dataframe\">\n",
       "  <thead>\n",
       "    <tr style=\"text-align: right;\">\n",
       "      <th></th>\n",
       "      <th>County</th>\n",
       "      <th>PD</th>\n",
       "      <th>Year</th>\n",
       "      <th>Rptd</th>\n",
       "      <th>Total</th>\n",
       "      <th>Total.1</th>\n",
       "      <th>Murder</th>\n",
       "      <th>Rape</th>\n",
       "      <th>Robbery</th>\n",
       "      <th>Assault</th>\n",
       "      <th>Total.2</th>\n",
       "      <th>Burglary</th>\n",
       "      <th>Larceny</th>\n",
       "      <th>Theft</th>\n",
       "      <th>locale</th>\n",
       "    </tr>\n",
       "  </thead>\n",
       "  <tbody>\n",
       "    <tr>\n",
       "      <th>0</th>\n",
       "      <td>Albany</td>\n",
       "      <td>Albany City PD</td>\n",
       "      <td>2014.0</td>\n",
       "      <td>NaN</td>\n",
       "      <td>4650.0</td>\n",
       "      <td>770.0</td>\n",
       "      <td>8.0</td>\n",
       "      <td>27.0</td>\n",
       "      <td>236.0</td>\n",
       "      <td>499.0</td>\n",
       "      <td>3880.0</td>\n",
       "      <td>681.0</td>\n",
       "      <td>3077.0</td>\n",
       "      <td>122.0</td>\n",
       "      <td>Albany</td>\n",
       "    </tr>\n",
       "    <tr>\n",
       "      <th>1</th>\n",
       "      <td>Albany</td>\n",
       "      <td>Green Island Vg PD</td>\n",
       "      <td>2014.0</td>\n",
       "      <td>NaN</td>\n",
       "      <td>49.0</td>\n",
       "      <td>3.0</td>\n",
       "      <td>0.0</td>\n",
       "      <td>0.0</td>\n",
       "      <td>0.0</td>\n",
       "      <td>3.0</td>\n",
       "      <td>46.0</td>\n",
       "      <td>6.0</td>\n",
       "      <td>37.0</td>\n",
       "      <td>3.0</td>\n",
       "      <td>Green Island</td>\n",
       "    </tr>\n",
       "    <tr>\n",
       "      <th>2</th>\n",
       "      <td>Albany</td>\n",
       "      <td>Cohoes City PD</td>\n",
       "      <td>2014.0</td>\n",
       "      <td>NaN</td>\n",
       "      <td>263.0</td>\n",
       "      <td>39.0</td>\n",
       "      <td>0.0</td>\n",
       "      <td>1.0</td>\n",
       "      <td>12.0</td>\n",
       "      <td>26.0</td>\n",
       "      <td>224.0</td>\n",
       "      <td>50.0</td>\n",
       "      <td>153.0</td>\n",
       "      <td>21.0</td>\n",
       "      <td>Cohoes</td>\n",
       "    </tr>\n",
       "    <tr>\n",
       "      <th>3</th>\n",
       "      <td>Albany</td>\n",
       "      <td>Guilderland Town PD</td>\n",
       "      <td>2014.0</td>\n",
       "      <td>NaN</td>\n",
       "      <td>680.0</td>\n",
       "      <td>19.0</td>\n",
       "      <td>0.0</td>\n",
       "      <td>3.0</td>\n",
       "      <td>4.0</td>\n",
       "      <td>12.0</td>\n",
       "      <td>661.0</td>\n",
       "      <td>58.0</td>\n",
       "      <td>598.0</td>\n",
       "      <td>5.0</td>\n",
       "      <td>Guilderland</td>\n",
       "    </tr>\n",
       "    <tr>\n",
       "      <th>4</th>\n",
       "      <td>Albany</td>\n",
       "      <td>Coeymans Town PD</td>\n",
       "      <td>2014.0</td>\n",
       "      <td>NaN</td>\n",
       "      <td>87.0</td>\n",
       "      <td>24.0</td>\n",
       "      <td>1.0</td>\n",
       "      <td>4.0</td>\n",
       "      <td>3.0</td>\n",
       "      <td>16.0</td>\n",
       "      <td>63.0</td>\n",
       "      <td>14.0</td>\n",
       "      <td>44.0</td>\n",
       "      <td>5.0</td>\n",
       "      <td>Coeymans</td>\n",
       "    </tr>\n",
       "  </tbody>\n",
       "</table>\n",
       "</div>"
      ],
      "text/plain": [
       "   County                   PD    Year  Rptd   Total  Total.1  Murder  Rape  \\\n",
       "0  Albany       Albany City PD  2014.0   NaN  4650.0    770.0     8.0  27.0   \n",
       "1  Albany   Green Island Vg PD  2014.0   NaN    49.0      3.0     0.0   0.0   \n",
       "2  Albany       Cohoes City PD  2014.0   NaN   263.0     39.0     0.0   1.0   \n",
       "3  Albany  Guilderland Town PD  2014.0   NaN   680.0     19.0     0.0   3.0   \n",
       "4  Albany     Coeymans Town PD  2014.0   NaN    87.0     24.0     1.0   4.0   \n",
       "\n",
       "   Robbery  Assault  Total.2  Burglary  Larceny  Theft        locale  \n",
       "0    236.0    499.0   3880.0     681.0   3077.0  122.0        Albany  \n",
       "1      0.0      3.0     46.0       6.0     37.0    3.0  Green Island  \n",
       "2     12.0     26.0    224.0      50.0    153.0   21.0        Cohoes  \n",
       "3      4.0     12.0    661.0      58.0    598.0    5.0   Guilderland  \n",
       "4      3.0     16.0     63.0      14.0     44.0    5.0      Coeymans  "
      ]
     },
     "execution_count": 995,
     "metadata": {},
     "output_type": "execute_result"
    }
   ],
   "source": [
    "# concatenate all counties (latest year) into a dataframe\n",
    "crime_allcounties = pd.DataFrame()\n",
    "for fname in filelist:\n",
    "    c_read=pd.read_excel('./data_CrimeNYS/%s' % fname,skiprows=7)\n",
    "    \n",
    "    df_latestrows = c_read.groupby('PD').apply(lambda df: getLatestRow(df))\n",
    "    df_filtered = filterCrimeStats(df_latestrows)\n",
    "    crime_allcounties = crime_allcounties.append(df_filtered)\n",
    "\n",
    "# drop the 'PD' index that comes from groupby\n",
    "crime_allcounties.index= pd.MultiIndex.droplevel(crime_allcounties.index)\n",
    "crime_allcounties.index = range(len(crime_allcounties))\n",
    "\n",
    "print len(crime_allcounties)\n",
    "crime_allcounties[:5]"
   ]
  },
  {
   "cell_type": "code",
   "execution_count": 657,
   "metadata": {
    "collapsed": false
   },
   "outputs": [],
   "source": [
    "# (for matching pd_names to civil_names)\n",
    "# store the index and (cleaned) locale names as values in the county dict\n",
    "\n",
    "replacelist_pd=[' pd',' police district', ' vg', ' town', ' city'] # cleaning\n",
    "def clean_pdnames(slist):\n",
    "    s_out = []\n",
    "    for s in slist:\n",
    "        s_out.append(re.sub('-',' ',re.sub(r'|'.join(replacelist_pd),'',s.lower())) )\n",
    "    return s_out\n",
    "    \n",
    "pd_dict = {}\n",
    "\n",
    "for county in crime_allcounties['County'].unique():\n",
    "    \n",
    "    df_sub = crime_allcounties[crime_allcounties['County'] == county]\n",
    "    pd_it = zip(df_sub.index, clean_pdnames(df_sub['locale'].tolist()))\n",
    "\n",
    "    pd_dict[county.lower()] = pd_it\n",
    "\n"
   ]
  },
  {
   "cell_type": "markdown",
   "metadata": {},
   "source": [
    "# Population from census (not used currently)"
   ]
  },
  {
   "cell_type": "code",
   "execution_count": 702,
   "metadata": {
    "collapsed": false
   },
   "outputs": [
    {
     "data": {
      "text/html": [
       "<div>\n",
       "<table border=\"1\" class=\"dataframe\">\n",
       "  <thead>\n",
       "    <tr style=\"text-align: right;\">\n",
       "      <th></th>\n",
       "      <th>Id</th>\n",
       "      <th>Id2</th>\n",
       "      <th>Geography</th>\n",
       "      <th>April 1, 2010 - Census</th>\n",
       "      <th>April 1, 2010 - Estimates Base</th>\n",
       "      <th>Population Estimate (as of July 1) - 2010</th>\n",
       "      <th>Population Estimate (as of July 1) - 2011</th>\n",
       "      <th>Population Estimate (as of July 1) - 2012</th>\n",
       "      <th>Population Estimate (as of July 1) - 2013</th>\n",
       "      <th>Population Estimate (as of July 1) - 2014</th>\n",
       "    </tr>\n",
       "  </thead>\n",
       "  <tbody>\n",
       "    <tr>\n",
       "      <th>0</th>\n",
       "      <td>0610000US3600101000</td>\n",
       "      <td>3600101000</td>\n",
       "      <td>Albany city, Albany County, New York</td>\n",
       "      <td>97856</td>\n",
       "      <td>97856</td>\n",
       "      <td>97748</td>\n",
       "      <td>98012</td>\n",
       "      <td>98474</td>\n",
       "      <td>98628</td>\n",
       "      <td>98566</td>\n",
       "    </tr>\n",
       "    <tr>\n",
       "      <th>1</th>\n",
       "      <td>0610000US3600106211</td>\n",
       "      <td>3600106211</td>\n",
       "      <td>Berne town, Albany County, New York</td>\n",
       "      <td>2794</td>\n",
       "      <td>2794</td>\n",
       "      <td>2792</td>\n",
       "      <td>2800</td>\n",
       "      <td>2813</td>\n",
       "      <td>2818</td>\n",
       "      <td>2826</td>\n",
       "    </tr>\n",
       "    <tr>\n",
       "      <th>2</th>\n",
       "      <td>0610000US3600106354</td>\n",
       "      <td>3600106354</td>\n",
       "      <td>Bethlehem town, Albany County, New York</td>\n",
       "      <td>33656</td>\n",
       "      <td>33658</td>\n",
       "      <td>33650</td>\n",
       "      <td>33812</td>\n",
       "      <td>34150</td>\n",
       "      <td>34471</td>\n",
       "      <td>34685</td>\n",
       "    </tr>\n",
       "  </tbody>\n",
       "</table>\n",
       "</div>"
      ],
      "text/plain": [
       "                    Id         Id2                                Geography  \\\n",
       "0  0610000US3600101000  3600101000     Albany city, Albany County, New York   \n",
       "1  0610000US3600106211  3600106211      Berne town, Albany County, New York   \n",
       "2  0610000US3600106354  3600106354  Bethlehem town, Albany County, New York   \n",
       "\n",
       "   April 1, 2010 - Census  April 1, 2010 - Estimates Base  \\\n",
       "0                   97856                           97856   \n",
       "1                    2794                            2794   \n",
       "2                   33656                           33658   \n",
       "\n",
       "   Population Estimate (as of July 1) - 2010  \\\n",
       "0                                      97748   \n",
       "1                                       2792   \n",
       "2                                      33650   \n",
       "\n",
       "   Population Estimate (as of July 1) - 2011  \\\n",
       "0                                      98012   \n",
       "1                                       2800   \n",
       "2                                      33812   \n",
       "\n",
       "   Population Estimate (as of July 1) - 2012  \\\n",
       "0                                      98474   \n",
       "1                                       2813   \n",
       "2                                      34150   \n",
       "\n",
       "   Population Estimate (as of July 1) - 2013  \\\n",
       "0                                      98628   \n",
       "1                                       2818   \n",
       "2                                      34471   \n",
       "\n",
       "   Population Estimate (as of July 1) - 2014  \n",
       "0                                      98566  \n",
       "1                                       2826  \n",
       "2                                      34685  "
      ]
     },
     "execution_count": 702,
     "metadata": {},
     "output_type": "execute_result"
    }
   ],
   "source": [
    "# minor civil divisions = 62 cities and 932 towns\n",
    "pop_read1 = pd.read_csv('./Census_population/MinorCivilDivisions/PEP_2014_PEPANNRES.csv',skiprows=1)\n",
    "pop_read1[:3]"
   ]
  },
  {
   "cell_type": "code",
   "execution_count": 703,
   "metadata": {
    "collapsed": false
   },
   "outputs": [
    {
     "data": {
      "text/html": [
       "<div>\n",
       "<table border=\"1\" class=\"dataframe\">\n",
       "  <thead>\n",
       "    <tr style=\"text-align: right;\">\n",
       "      <th></th>\n",
       "      <th>Id</th>\n",
       "      <th>Id2</th>\n",
       "      <th>Geography</th>\n",
       "      <th>April 1, 2010 - Census</th>\n",
       "      <th>April 1, 2010 - Estimates Base</th>\n",
       "      <th>Population Estimate (as of July 1) - 2010</th>\n",
       "      <th>Population Estimate (as of July 1) - 2011</th>\n",
       "      <th>Population Estimate (as of July 1) - 2012</th>\n",
       "      <th>Population Estimate (as of July 1) - 2013</th>\n",
       "      <th>Population Estimate (as of July 1) - 2014</th>\n",
       "    </tr>\n",
       "  </thead>\n",
       "  <tbody>\n",
       "    <tr>\n",
       "      <th>0</th>\n",
       "      <td>1620000US3600199</td>\n",
       "      <td>3600199</td>\n",
       "      <td>Adams village, New York</td>\n",
       "      <td>1775.0</td>\n",
       "      <td>1782</td>\n",
       "      <td>1788</td>\n",
       "      <td>1819</td>\n",
       "      <td>1860</td>\n",
       "      <td>1839</td>\n",
       "      <td>1839</td>\n",
       "    </tr>\n",
       "    <tr>\n",
       "      <th>1</th>\n",
       "      <td>1620000US3600276</td>\n",
       "      <td>3600276</td>\n",
       "      <td>Addison village, New York</td>\n",
       "      <td>1763.0</td>\n",
       "      <td>1763</td>\n",
       "      <td>1760</td>\n",
       "      <td>1763</td>\n",
       "      <td>1749</td>\n",
       "      <td>1742</td>\n",
       "      <td>1730</td>\n",
       "    </tr>\n",
       "    <tr>\n",
       "      <th>2</th>\n",
       "      <td>1620000US3600342</td>\n",
       "      <td>3600342</td>\n",
       "      <td>Afton village, New York</td>\n",
       "      <td>822.0</td>\n",
       "      <td>832</td>\n",
       "      <td>830</td>\n",
       "      <td>828</td>\n",
       "      <td>824</td>\n",
       "      <td>819</td>\n",
       "      <td>818</td>\n",
       "    </tr>\n",
       "  </tbody>\n",
       "</table>\n",
       "</div>"
      ],
      "text/plain": [
       "                 Id      Id2                  Geography  \\\n",
       "0  1620000US3600199  3600199    Adams village, New York   \n",
       "1  1620000US3600276  3600276  Addison village, New York   \n",
       "2  1620000US3600342  3600342    Afton village, New York   \n",
       "\n",
       "   April 1, 2010 - Census  April 1, 2010 - Estimates Base  \\\n",
       "0                  1775.0                            1782   \n",
       "1                  1763.0                            1763   \n",
       "2                   822.0                             832   \n",
       "\n",
       "   Population Estimate (as of July 1) - 2010  \\\n",
       "0                                       1788   \n",
       "1                                       1760   \n",
       "2                                        830   \n",
       "\n",
       "   Population Estimate (as of July 1) - 2011  \\\n",
       "0                                       1819   \n",
       "1                                       1763   \n",
       "2                                        828   \n",
       "\n",
       "   Population Estimate (as of July 1) - 2012  \\\n",
       "0                                       1860   \n",
       "1                                       1749   \n",
       "2                                        824   \n",
       "\n",
       "   Population Estimate (as of July 1) - 2013  \\\n",
       "0                                       1839   \n",
       "1                                       1742   \n",
       "2                                        819   \n",
       "\n",
       "   Population Estimate (as of July 1) - 2014  \n",
       "0                                       1839  \n",
       "1                                       1730  \n",
       "2                                        818  "
      ]
     },
     "execution_count": 703,
     "metadata": {},
     "output_type": "execute_result"
    }
   ],
   "source": [
    "# incorporated = 62 cities and 550 villages; towns are assumed to be in MCU list \n",
    "# and not reflected here, but many towns and villages share the same name\n",
    "\n",
    "pop_read2 = pd.read_csv('./Census_population/Incorporated/PEP_2014_PEPANNRES.csv',skiprows=1)\n",
    "pop_read2[:3]\n"
   ]
  },
  {
   "cell_type": "code",
   "execution_count": 704,
   "metadata": {
    "collapsed": false
   },
   "outputs": [],
   "source": [
    "pop_read=pop_read1.append(pop_read2)\n"
   ]
  },
  {
   "cell_type": "code",
   "execution_count": 706,
   "metadata": {
    "collapsed": false
   },
   "outputs": [
    {
     "data": {
      "text/html": [
       "<div>\n",
       "<table border=\"1\" class=\"dataframe\">\n",
       "  <thead>\n",
       "    <tr style=\"text-align: right;\">\n",
       "      <th></th>\n",
       "      <th>Id</th>\n",
       "      <th>Id2</th>\n",
       "      <th>Geography</th>\n",
       "      <th>April 1, 2010 - Census</th>\n",
       "      <th>April 1, 2010 - Estimates Base</th>\n",
       "      <th>Population Estimate (as of July 1) - 2010</th>\n",
       "      <th>Population Estimate (as of July 1) - 2011</th>\n",
       "      <th>Population Estimate (as of July 1) - 2012</th>\n",
       "      <th>Population Estimate (as of July 1) - 2013</th>\n",
       "      <th>Population Estimate (as of July 1) - 2014</th>\n",
       "    </tr>\n",
       "  </thead>\n",
       "  <tbody>\n",
       "    <tr>\n",
       "      <th>979</th>\n",
       "      <td>0610000US3611965442</td>\n",
       "      <td>3611965442</td>\n",
       "      <td>Scarsdale town, Westchester County, New York</td>\n",
       "      <td>17166.0</td>\n",
       "      <td>17166</td>\n",
       "      <td>17194</td>\n",
       "      <td>17345</td>\n",
       "      <td>17466</td>\n",
       "      <td>17625</td>\n",
       "      <td>17729</td>\n",
       "    </tr>\n",
       "    <tr>\n",
       "      <th>495</th>\n",
       "      <td>1620000US3665431</td>\n",
       "      <td>3665431</td>\n",
       "      <td>Scarsdale village, New York</td>\n",
       "      <td>17166.0</td>\n",
       "      <td>17166</td>\n",
       "      <td>17194</td>\n",
       "      <td>17345</td>\n",
       "      <td>17466</td>\n",
       "      <td>17625</td>\n",
       "      <td>17729</td>\n",
       "    </tr>\n",
       "  </tbody>\n",
       "</table>\n",
       "</div>"
      ],
      "text/plain": [
       "                      Id         Id2  \\\n",
       "979  0610000US3611965442  3611965442   \n",
       "495     1620000US3665431     3665431   \n",
       "\n",
       "                                        Geography  April 1, 2010 - Census  \\\n",
       "979  Scarsdale town, Westchester County, New York                 17166.0   \n",
       "495                   Scarsdale village, New York                 17166.0   \n",
       "\n",
       "     April 1, 2010 - Estimates Base  \\\n",
       "979                           17166   \n",
       "495                           17166   \n",
       "\n",
       "     Population Estimate (as of July 1) - 2010  \\\n",
       "979                                      17194   \n",
       "495                                      17194   \n",
       "\n",
       "     Population Estimate (as of July 1) - 2011  \\\n",
       "979                                      17345   \n",
       "495                                      17345   \n",
       "\n",
       "     Population Estimate (as of July 1) - 2012  \\\n",
       "979                                      17466   \n",
       "495                                      17466   \n",
       "\n",
       "     Population Estimate (as of July 1) - 2013  \\\n",
       "979                                      17625   \n",
       "495                                      17625   \n",
       "\n",
       "     Population Estimate (as of July 1) - 2014  \n",
       "979                                      17729  \n",
       "495                                      17729  "
      ]
     },
     "execution_count": 706,
     "metadata": {},
     "output_type": "execute_result"
    }
   ],
   "source": [
    "pop_read[pop_read['Geography'].str.contains('Scar')]"
   ]
  },
  {
   "cell_type": "code",
   "execution_count": 996,
   "metadata": {
    "collapsed": false
   },
   "outputs": [
    {
     "name": "stderr",
     "output_type": "stream",
     "text": [
      "/anaconda/lib/python2.7/site-packages/ipykernel/__main__.py:3: SettingWithCopyWarning: \n",
      "A value is trying to be set on a copy of a slice from a DataFrame.\n",
      "Try using .loc[row_indexer,col_indexer] = value instead\n",
      "\n",
      "See the caveats in the documentation: http://pandas.pydata.org/pandas-docs/stable/indexing.html#indexing-view-versus-copy\n",
      "  app.launch_new_instance()\n",
      "/anaconda/lib/python2.7/site-packages/ipykernel/__main__.py:4: SettingWithCopyWarning: \n",
      "A value is trying to be set on a copy of a slice from a DataFrame.\n",
      "Try using .loc[row_indexer,col_indexer] = value instead\n",
      "\n",
      "See the caveats in the documentation: http://pandas.pydata.org/pandas-docs/stable/indexing.html#indexing-view-versus-copy\n"
     ]
    },
    {
     "data": {
      "text/html": [
       "<div>\n",
       "<table border=\"1\" class=\"dataframe\">\n",
       "  <thead>\n",
       "    <tr style=\"text-align: right;\">\n",
       "      <th></th>\n",
       "      <th>geoid2</th>\n",
       "      <th>locale</th>\n",
       "      <th>pop_2014</th>\n",
       "      <th>county</th>\n",
       "    </tr>\n",
       "  </thead>\n",
       "  <tbody>\n",
       "    <tr>\n",
       "      <th>0</th>\n",
       "      <td>3600101000</td>\n",
       "      <td>Albany</td>\n",
       "      <td>98566</td>\n",
       "      <td>Albany</td>\n",
       "    </tr>\n",
       "    <tr>\n",
       "      <th>1</th>\n",
       "      <td>3600106211</td>\n",
       "      <td>Berne</td>\n",
       "      <td>2826</td>\n",
       "      <td>Albany</td>\n",
       "    </tr>\n",
       "    <tr>\n",
       "      <th>2</th>\n",
       "      <td>3600106354</td>\n",
       "      <td>Bethlehem</td>\n",
       "      <td>34685</td>\n",
       "      <td>Albany</td>\n",
       "    </tr>\n",
       "  </tbody>\n",
       "</table>\n",
       "</div>"
      ],
      "text/plain": [
       "       geoid2     locale  pop_2014   county\n",
       "0  3600101000     Albany     98566  Albany \n",
       "1  3600106211      Berne      2826  Albany \n",
       "2  3600106354  Bethlehem     34685  Albany "
      ]
     },
     "execution_count": 996,
     "metadata": {},
     "output_type": "execute_result"
    }
   ],
   "source": [
    "df_pop = pop_read[['Id2','Geography','Population Estimate (as of July 1) - 2014']]\n",
    "df_pop.rename(columns={'Id2':'geoid2','Geography':'locale','Population Estimate (as of July 1) - 2014':'pop_2014'},inplace=True)\n",
    "df_pop['county'] = df_pop['locale'].str.replace('(County.*$|^.*city, |^.*town, )','')\n",
    "df_pop['locale'] = df_pop['locale'].str.replace('( city.*$| town.*$)','')\n",
    "df_pop[:3]\n"
   ]
  },
  {
   "cell_type": "markdown",
   "metadata": {},
   "source": [
    "# New York GIS Civil Boundaries"
   ]
  },
  {
   "cell_type": "code",
   "execution_count": 710,
   "metadata": {
    "collapsed": true
   },
   "outputs": [],
   "source": [
    "civshape_read1 = gpd.read_file('./Shapefiles/NYS_GIS_civil/Cities_Towns.shp').to_crs(epsg='4326')\n",
    "df_civshape1 = civshape_read1[['CALC_SqMi','COUNTY','NAME','POP2010','SWIS','geometry']]\n"
   ]
  },
  {
   "cell_type": "code",
   "execution_count": 709,
   "metadata": {
    "collapsed": false
   },
   "outputs": [],
   "source": [
    "civshape_read2 = gpd.read_file('./Shapefiles/NYS_GIS_civil/Villages.shp').to_crs(epsg='4326')\n",
    "civshape_read2[:3]\n",
    "df_civshape2 = civshape_read2[['CALC_SqMi','COUNTY','NAME','POP2010','SWIS','geometry']]\n"
   ]
  },
  {
   "cell_type": "code",
   "execution_count": 732,
   "metadata": {
    "collapsed": false
   },
   "outputs": [],
   "source": [
    "df_civshape = df_civshape1.append(df_civshape2)\n",
    "df_civshape = df_civshape.groupby('NAME').first()\n",
    "df_civshape.reset_index(level = 0, inplace = True)\n"
   ]
  },
  {
   "cell_type": "code",
   "execution_count": 733,
   "metadata": {
    "collapsed": false
   },
   "outputs": [
    {
     "name": "stdout",
     "output_type": "stream",
     "text": [
      "994\n",
      "545\n",
      "1287\n"
     ]
    }
   ],
   "source": [
    "print len(civshape_read1)\n",
    "print len(civshape_read2)\n",
    "print len(df_civshape)\n"
   ]
  },
  {
   "cell_type": "code",
   "execution_count": 739,
   "metadata": {
    "collapsed": false
   },
   "outputs": [
    {
     "data": {
      "text/html": [
       "<div>\n",
       "<table border=\"1\" class=\"dataframe\">\n",
       "  <thead>\n",
       "    <tr style=\"text-align: right;\">\n",
       "      <th></th>\n",
       "      <th>NAME</th>\n",
       "      <th>CALC_SqMi</th>\n",
       "      <th>COUNTY</th>\n",
       "      <th>POP2010</th>\n",
       "      <th>SWIS</th>\n",
       "      <th>geometry</th>\n",
       "    </tr>\n",
       "  </thead>\n",
       "  <tbody>\n",
       "    <tr>\n",
       "      <th>0</th>\n",
       "      <td>Adams</td>\n",
       "      <td>42.382699</td>\n",
       "      <td>Jefferson</td>\n",
       "      <td>5143</td>\n",
       "      <td>222000</td>\n",
       "      <td>POLYGON ((-75.97855203259267 43.80364563132086...</td>\n",
       "    </tr>\n",
       "    <tr>\n",
       "      <th>1</th>\n",
       "      <td>Addison</td>\n",
       "      <td>25.678418</td>\n",
       "      <td>Steuben</td>\n",
       "      <td>2595</td>\n",
       "      <td>462000</td>\n",
       "      <td>POLYGON ((-77.22875495979802 42.09075298909016...</td>\n",
       "    </tr>\n",
       "    <tr>\n",
       "      <th>2</th>\n",
       "      <td>Afton</td>\n",
       "      <td>46.683722</td>\n",
       "      <td>Chenango</td>\n",
       "      <td>2851</td>\n",
       "      <td>082000</td>\n",
       "      <td>POLYGON ((-75.44110294422454 42.19511895955584...</td>\n",
       "    </tr>\n",
       "  </tbody>\n",
       "</table>\n",
       "</div>"
      ],
      "text/plain": [
       "      NAME  CALC_SqMi     COUNTY  POP2010    SWIS  \\\n",
       "0    Adams  42.382699  Jefferson     5143  222000   \n",
       "1  Addison  25.678418    Steuben     2595  462000   \n",
       "2    Afton  46.683722   Chenango     2851  082000   \n",
       "\n",
       "                                            geometry  \n",
       "0  POLYGON ((-75.97855203259267 43.80364563132086...  \n",
       "1  POLYGON ((-77.22875495979802 42.09075298909016...  \n",
       "2  POLYGON ((-75.44110294422454 42.19511895955584...  "
      ]
     },
     "execution_count": 739,
     "metadata": {},
     "output_type": "execute_result"
    }
   ],
   "source": [
    "df_civshape[:3]"
   ]
  },
  {
   "cell_type": "code",
   "execution_count": 740,
   "metadata": {
    "collapsed": false
   },
   "outputs": [],
   "source": [
    "# store a county dict: (index, cleaned-name) \n",
    "def clean_civnames(slist):\n",
    "    s_out = []\n",
    "    for s in slist:\n",
    "        s_out.append(re.sub('-',' ',s.lower()))\n",
    "    return s_out\n",
    "\n",
    "civ_dict = {}\n",
    "for county in df_civshape['COUNTY'].unique():\n",
    "    \n",
    "    df_sub = df_civshape[df_civshape['COUNTY'] == county]\n",
    "    civ_it = zip(df_sub.index, clean_civnames(df_sub['NAME'].tolist()))\n",
    "\n",
    "    civ_dict[county.lower()] = civ_it\n"
   ]
  },
  {
   "cell_type": "code",
   "execution_count": 213,
   "metadata": {
    "collapsed": false
   },
   "outputs": [],
   "source": [
    "# naive assignment:\n",
    "# within each county, assign pd to civ\n",
    "\n",
    "def getSimilarity(s1,s2):\n",
    "    return SequenceMatcher(None,s1,s2).ratio() \n",
    "\n",
    "def getBestMatchID(targetlist,candidatelist,cutoff):\n",
    "    bestid_target = []\n",
    "\n",
    "    for tname in targetlist:\n",
    "        max_id=-1\n",
    "        max_ratio = 0\n",
    "        for j,cname in enumerate(candidatelist):\n",
    "            r = getSimilarity(tname,cname)\n",
    "            if r>=cutoff and r > max_ratio:\n",
    "                max_ratio = r\n",
    "                max_id = j\n",
    "            best_cand = candidatelist[max_id] if max_id > -1 else 'NOT_FOUND'\n",
    "        bestid_target.append((max_id,best_cand,max_ratio))\n",
    "    return bestid_target\n"
   ]
  },
  {
   "cell_type": "code",
   "execution_count": 678,
   "metadata": {
    "collapsed": false
   },
   "outputs": [],
   "source": [
    "# reciprocal assignment analogous to ortholog pairing\n",
    "# inputs are target and candidate (index in df, locale_name)\n",
    "\n",
    "def reciprocal_assignment (ZT, ZC):\n",
    "\n",
    "    cutoff=0.7\n",
    "\n",
    "    bestid_T2C = getBestMatchID(ZT[1],ZC[1],cutoff)\n",
    "    bestid_C2T = getBestMatchID(ZC[1],ZT[1],cutoff)\n",
    "\n",
    "    T2C_assignment = [(-1,-1)]*len(ZT[1])\n",
    "\n",
    "    for i,tname in enumerate(ZT[1]):\n",
    "        j = bestid_T2C[i][0]\n",
    "        if j == -1:\n",
    "            T2C_assignment[i] = (ZT[0][i],-1)\n",
    "\n",
    "        if bestid_C2T[j][0] == i or bestid_C2T[j][2] == bestid_T2C[i][2]:\n",
    "            T2C_assignment[i] = (ZT[0][i],ZC[0][j])\n",
    "            # civ_bAssigned[j] = 1\n",
    "            # print pd_names_cleaned[i]+' '+str(bestid_pd[i])+' YES'\n",
    "            # nAssigned += 1\n",
    "        #else:\n",
    "            # print pd_names_cleaned[i]+' '+str(bestid_pd[i])+str(bestid_sd[j])+' NO'\n",
    "            # nNotAssigned += 1\n",
    "\n",
    "    return T2C_assignment\n"
   ]
  },
  {
   "cell_type": "code",
   "execution_count": 741,
   "metadata": {
    "collapsed": false
   },
   "outputs": [],
   "source": [
    "pd2civ_assignment = []\n",
    "\n",
    "for county in pd_dict.keys():\n",
    "#for county in ['westchester','albany']:\n",
    "\n",
    "    zp = zip(*pd_dict[county])\n",
    "    zc = zip(*civ_dict[county])\n",
    "\n",
    "    #pd2civ_assignment.extend( zip (zp[0],assignments) \n",
    "    pd2civ_assignment.extend( reciprocal_assignment (zp, zc) )\n",
    "\n"
   ]
  },
  {
   "cell_type": "code",
   "execution_count": 742,
   "metadata": {
    "collapsed": false
   },
   "outputs": [
    {
     "data": {
      "text/plain": [
       "391"
      ]
     },
     "execution_count": 742,
     "metadata": {},
     "output_type": "execute_result"
    }
   ],
   "source": [
    "len(pd2civ_assignment)\n"
   ]
  },
  {
   "cell_type": "code",
   "execution_count": 1037,
   "metadata": {
    "collapsed": false
   },
   "outputs": [
    {
     "name": "stderr",
     "output_type": "stream",
     "text": [
      "/anaconda/lib/python2.7/site-packages/ipykernel/__main__.py:11: SettingWithCopyWarning: \n",
      "A value is trying to be set on a copy of a slice from a DataFrame.\n",
      "Try using .loc[row_indexer,col_indexer] = value instead\n",
      "\n",
      "See the caveats in the documentation: http://pandas.pydata.org/pandas-docs/stable/indexing.html#indexing-view-versus-copy\n",
      "/anaconda/lib/python2.7/site-packages/ipykernel/__main__.py:12: SettingWithCopyWarning: \n",
      "A value is trying to be set on a copy of a slice from a DataFrame.\n",
      "Try using .loc[row_indexer,col_indexer] = value instead\n",
      "\n",
      "See the caveats in the documentation: http://pandas.pydata.org/pandas-docs/stable/indexing.html#indexing-view-versus-copy\n"
     ]
    },
    {
     "name": "stdout",
     "output_type": "stream",
     "text": [
      "391\n",
      "391\n",
      "389\n",
      "385\n",
      "672\n"
     ]
    },
    {
     "name": "stderr",
     "output_type": "stream",
     "text": [
      "/anaconda/lib/python2.7/site-packages/ipykernel/__main__.py:13: SettingWithCopyWarning: \n",
      "A value is trying to be set on a copy of a slice from a DataFrame.\n",
      "Try using .loc[row_indexer,col_indexer] = value instead\n",
      "\n",
      "See the caveats in the documentation: http://pandas.pydata.org/pandas-docs/stable/indexing.html#indexing-view-versus-copy\n"
     ]
    },
    {
     "data": {
      "text/html": [
       "<div>\n",
       "<table border=\"1\" class=\"dataframe\">\n",
       "  <thead>\n",
       "    <tr style=\"text-align: right;\">\n",
       "      <th></th>\n",
       "      <th>County</th>\n",
       "      <th>PD</th>\n",
       "      <th>Total</th>\n",
       "      <th>Total.1</th>\n",
       "      <th>Total.2</th>\n",
       "      <th>COUNTY</th>\n",
       "      <th>NAME</th>\n",
       "      <th>POP2010</th>\n",
       "      <th>geometry</th>\n",
       "      <th>crimerate_total</th>\n",
       "      <th>crimerate_violent</th>\n",
       "      <th>crimerate_property</th>\n",
       "    </tr>\n",
       "  </thead>\n",
       "  <tbody>\n",
       "    <tr>\n",
       "      <th>110</th>\n",
       "      <td>Albany</td>\n",
       "      <td>Albany City PD</td>\n",
       "      <td>4650.0</td>\n",
       "      <td>770.0</td>\n",
       "      <td>3880.0</td>\n",
       "      <td>Albany</td>\n",
       "      <td>Albany</td>\n",
       "      <td>97856</td>\n",
       "      <td>POLYGON ((-73.81123351640107 42.69007664226881...</td>\n",
       "      <td>4.751880</td>\n",
       "      <td>0.786871</td>\n",
       "      <td>3.965010</td>\n",
       "    </tr>\n",
       "    <tr>\n",
       "      <th>111</th>\n",
       "      <td>Albany</td>\n",
       "      <td>Green Island Vg PD</td>\n",
       "      <td>49.0</td>\n",
       "      <td>3.0</td>\n",
       "      <td>46.0</td>\n",
       "      <td>Albany</td>\n",
       "      <td>Green Island</td>\n",
       "      <td>2620</td>\n",
       "      <td>POLYGON ((-73.68429398585005 42.76076701652282...</td>\n",
       "      <td>1.870229</td>\n",
       "      <td>0.114504</td>\n",
       "      <td>1.755725</td>\n",
       "    </tr>\n",
       "    <tr>\n",
       "      <th>112</th>\n",
       "      <td>Albany</td>\n",
       "      <td>Cohoes City PD</td>\n",
       "      <td>263.0</td>\n",
       "      <td>39.0</td>\n",
       "      <td>224.0</td>\n",
       "      <td>Albany</td>\n",
       "      <td>Cohoes</td>\n",
       "      <td>16168</td>\n",
       "      <td>POLYGON ((-73.69874375781777 42.75128521139592...</td>\n",
       "      <td>1.626670</td>\n",
       "      <td>0.241217</td>\n",
       "      <td>1.385453</td>\n",
       "    </tr>\n",
       "  </tbody>\n",
       "</table>\n",
       "</div>"
      ],
      "text/plain": [
       "     County                  PD   Total  Total.1  Total.2  COUNTY  \\\n",
       "110  Albany      Albany City PD  4650.0    770.0   3880.0  Albany   \n",
       "111  Albany  Green Island Vg PD    49.0      3.0     46.0  Albany   \n",
       "112  Albany      Cohoes City PD   263.0     39.0    224.0  Albany   \n",
       "\n",
       "             NAME  POP2010                                           geometry  \\\n",
       "110        Albany    97856  POLYGON ((-73.81123351640107 42.69007664226881...   \n",
       "111  Green Island     2620  POLYGON ((-73.68429398585005 42.76076701652282...   \n",
       "112        Cohoes    16168  POLYGON ((-73.69874375781777 42.75128521139592...   \n",
       "\n",
       "     crimerate_total  crimerate_violent  crimerate_property  \n",
       "110         4.751880           0.786871            3.965010  \n",
       "111         1.870229           0.114504            1.755725  \n",
       "112         1.626670           0.241217            1.385453  "
      ]
     },
     "execution_count": 1037,
     "metadata": {},
     "output_type": "execute_result"
    }
   ],
   "source": [
    "#t=crime_allcounties[crime_allcounties['County']=='Westchester']\n",
    "t=crime_allcounties\n",
    "df_assign = pd.DataFrame(pd2civ_assignment,columns=['oldind','targetind'])\n",
    "df_assign\n",
    "t1=pd.merge(t,df_assign,left_index=True,right_on='oldind')\n",
    "t2=pd.merge(t1,df_civshape,left_on='targetind',right_index = True,how='inner')\n",
    "\n",
    "t2[['County','PD','Total','Total.1','Total.2','COUNTY','NAME','POP2010','geometry']]\n",
    "\n",
    "df_crimerate_shape = t2[['County','PD','Total','Total.1','Total.2','COUNTY','NAME','POP2010','geometry']]\n",
    "df_crimerate_shape['crimerate_total'] = df_crimerate_shape['Total']/df_crimerate_shape['POP2010']*100\n",
    "df_crimerate_shape['crimerate_violent'] = df_crimerate_shape['Total.1']/df_crimerate_shape['POP2010']*100\n",
    "df_crimerate_shape['crimerate_property'] = df_crimerate_shape['Total.2']/df_crimerate_shape['POP2010']*100\n",
    "print len(crime_allcounties)\n",
    "print len(df_assign)\n",
    "print len(t1)\n",
    "print len(t2)\n",
    "print len(df_crimerate_refshape)\n",
    "df_crimerate_shape[:3]\n"
   ]
  },
  {
   "cell_type": "code",
   "execution_count": 744,
   "metadata": {
    "collapsed": false
   },
   "outputs": [
    {
     "data": {
      "text/plain": [
       "385"
      ]
     },
     "execution_count": 744,
     "metadata": {},
     "output_type": "execute_result"
    }
   ],
   "source": [
    "len(t2[t2['targetind']!=-1])"
   ]
  },
  {
   "cell_type": "markdown",
   "metadata": {},
   "source": [
    "# refshape : school district"
   ]
  },
  {
   "cell_type": "code",
   "execution_count": 1038,
   "metadata": {
    "collapsed": false
   },
   "outputs": [],
   "source": [
    "df_refshape = dill.load(open('../OUTDATA/refshape_sch2015.dill','rb'))\n",
    "refSHP=df_refshape['geometry'].tolist()\n"
   ]
  },
  {
   "cell_type": "code",
   "execution_count": 1039,
   "metadata": {
    "collapsed": false
   },
   "outputs": [],
   "source": [
    "# assign each school district to a crime data region\n",
    "\n",
    "def findEncompassingShape(point,shapelist):\n",
    "    for refshape_ind,refshape in shapelist:\n",
    "        if refshape.contains(point):\n",
    "            return refshape_ind\n",
    "    return -1\n",
    "\n",
    "ref_i_centroids = zip(df_refshape.index,df_refshape['centroid'])\n",
    "crimerate_shapes = zip(df_crimerate_shape.index,df_crimerate_shape['geometry'])\n",
    "index_map = []\n",
    "\n",
    "for refindex,centroid in ref_i_centroids:\n",
    "    p = Point(centroid[0],centroid[1])\n",
    "    crime_index = findEncompassingShape(p,crimerate_shapes)\n",
    "    index_map.append((refindex,crime_index))\n",
    "\n",
    "#index_map"
   ]
  },
  {
   "cell_type": "code",
   "execution_count": 1040,
   "metadata": {
    "collapsed": false
   },
   "outputs": [
    {
     "name": "stdout",
     "output_type": "stream",
     "text": [
      "672\n"
     ]
    },
    {
     "data": {
      "text/html": [
       "<div>\n",
       "<table border=\"1\" class=\"dataframe\">\n",
       "  <thead>\n",
       "    <tr style=\"text-align: right;\">\n",
       "      <th></th>\n",
       "      <th>name</th>\n",
       "      <th>county</th>\n",
       "      <th>geometry</th>\n",
       "      <th>PD</th>\n",
       "      <th>crimerate_total</th>\n",
       "      <th>crimerate_violent</th>\n",
       "      <th>crimerate_property</th>\n",
       "    </tr>\n",
       "  </thead>\n",
       "  <tbody>\n",
       "    <tr>\n",
       "      <th>0</th>\n",
       "      <td>North Shore Central School District</td>\n",
       "      <td>Nassau</td>\n",
       "      <td>POLYGON ((-73.67107299999999 40.859299, -73.65...</td>\n",
       "      <td>NaN</td>\n",
       "      <td>NaN</td>\n",
       "      <td>NaN</td>\n",
       "      <td>NaN</td>\n",
       "    </tr>\n",
       "    <tr>\n",
       "      <th>1</th>\n",
       "      <td>Seaford Union Free School District</td>\n",
       "      <td>Nassau</td>\n",
       "      <td>POLYGON ((-73.50683099999999 40.666806, -73.50...</td>\n",
       "      <td>Hempstead Vg PD</td>\n",
       "      <td>0.190324</td>\n",
       "      <td>0.06331</td>\n",
       "      <td>0.127014</td>\n",
       "    </tr>\n",
       "    <tr>\n",
       "      <th>2</th>\n",
       "      <td>Uniondale Union Free School District</td>\n",
       "      <td>Nassau</td>\n",
       "      <td>POLYGON ((-73.619737 40.68251799999999, -73.61...</td>\n",
       "      <td>Hempstead Vg PD</td>\n",
       "      <td>0.190324</td>\n",
       "      <td>0.06331</td>\n",
       "      <td>0.127014</td>\n",
       "    </tr>\n",
       "  </tbody>\n",
       "</table>\n",
       "</div>"
      ],
      "text/plain": [
       "                                   name  county  \\\n",
       "0   North Shore Central School District  Nassau   \n",
       "1    Seaford Union Free School District  Nassau   \n",
       "2  Uniondale Union Free School District  Nassau   \n",
       "\n",
       "                                            geometry               PD  \\\n",
       "0  POLYGON ((-73.67107299999999 40.859299, -73.65...              NaN   \n",
       "1  POLYGON ((-73.50683099999999 40.666806, -73.50...  Hempstead Vg PD   \n",
       "2  POLYGON ((-73.619737 40.68251799999999, -73.61...  Hempstead Vg PD   \n",
       "\n",
       "   crimerate_total  crimerate_violent  crimerate_property  \n",
       "0              NaN                NaN                 NaN  \n",
       "1         0.190324            0.06331            0.127014  \n",
       "2         0.190324            0.06331            0.127014  "
      ]
     },
     "execution_count": 1040,
     "metadata": {},
     "output_type": "execute_result"
    }
   ],
   "source": [
    "# join crime data to school data\n",
    "df_assign=pd.DataFrame(index_map,columns=['oldind','targetind'])\n",
    "t1=pd.merge(df_refshape,df_assign,left_index=True,right_on='oldind',how='left')\n",
    "t2=pd.merge(t1,df_crimerate_shape[['PD','crimerate_total','crimerate_violent','crimerate_property']],left_on='targetind',right_index = True,how='left')\n",
    "#t2[:3]\n",
    "df_crimerate_refshape = t2[['name','county','geometry','PD','crimerate_total','crimerate_violent','crimerate_property']]\n",
    "print len(df_crimerate_refshape)\n",
    "df_crimerate_refshape[:3]\n"
   ]
  },
  {
   "cell_type": "code",
   "execution_count": 1041,
   "metadata": {
    "collapsed": false
   },
   "outputs": [
    {
     "name": "stdout",
     "output_type": "stream",
     "text": [
      "286\n"
     ]
    },
    {
     "name": "stderr",
     "output_type": "stream",
     "text": [
      "/anaconda/lib/python2.7/site-packages/ipykernel/__main__.py:3: SettingWithCopyWarning: \n",
      "A value is trying to be set on a copy of a slice from a DataFrame.\n",
      "Try using .loc[row_indexer,col_indexer] = value instead\n",
      "\n",
      "See the caveats in the documentation: http://pandas.pydata.org/pandas-docs/stable/indexing.html#indexing-view-versus-copy\n",
      "  app.launch_new_instance()\n"
     ]
    },
    {
     "data": {
      "text/html": [
       "<div>\n",
       "<table border=\"1\" class=\"dataframe\">\n",
       "  <thead>\n",
       "    <tr style=\"text-align: right;\">\n",
       "      <th></th>\n",
       "      <th>name</th>\n",
       "      <th>county</th>\n",
       "      <th>geometry</th>\n",
       "      <th>PD</th>\n",
       "      <th>crimerate_total</th>\n",
       "      <th>crimerate_violent</th>\n",
       "      <th>crimerate_property</th>\n",
       "      <th>refshpindex</th>\n",
       "    </tr>\n",
       "  </thead>\n",
       "  <tbody>\n",
       "    <tr>\n",
       "      <th>1</th>\n",
       "      <td>Seaford Union Free School District</td>\n",
       "      <td>Nassau</td>\n",
       "      <td>POLYGON ((-73.50683099999999 40.666806, -73.50...</td>\n",
       "      <td>Hempstead Vg PD</td>\n",
       "      <td>0.190324</td>\n",
       "      <td>0.06331</td>\n",
       "      <td>0.127014</td>\n",
       "      <td>1</td>\n",
       "    </tr>\n",
       "    <tr>\n",
       "      <th>2</th>\n",
       "      <td>Uniondale Union Free School District</td>\n",
       "      <td>Nassau</td>\n",
       "      <td>POLYGON ((-73.619737 40.68251799999999, -73.61...</td>\n",
       "      <td>Hempstead Vg PD</td>\n",
       "      <td>0.190324</td>\n",
       "      <td>0.06331</td>\n",
       "      <td>0.127014</td>\n",
       "      <td>2</td>\n",
       "    </tr>\n",
       "    <tr>\n",
       "      <th>3</th>\n",
       "      <td>Wantagh Union Free School District</td>\n",
       "      <td>NaN</td>\n",
       "      <td>POLYGON ((-73.52614799999999 40.691816, -73.52...</td>\n",
       "      <td>Hempstead Vg PD</td>\n",
       "      <td>0.190324</td>\n",
       "      <td>0.06331</td>\n",
       "      <td>0.127014</td>\n",
       "      <td>3</td>\n",
       "    </tr>\n",
       "  </tbody>\n",
       "</table>\n",
       "</div>"
      ],
      "text/plain": [
       "                                   name  county  \\\n",
       "1    Seaford Union Free School District  Nassau   \n",
       "2  Uniondale Union Free School District  Nassau   \n",
       "3    Wantagh Union Free School District     NaN   \n",
       "\n",
       "                                            geometry               PD  \\\n",
       "1  POLYGON ((-73.50683099999999 40.666806, -73.50...  Hempstead Vg PD   \n",
       "2  POLYGON ((-73.619737 40.68251799999999, -73.61...  Hempstead Vg PD   \n",
       "3  POLYGON ((-73.52614799999999 40.691816, -73.52...  Hempstead Vg PD   \n",
       "\n",
       "   crimerate_total  crimerate_violent  crimerate_property  refshpindex  \n",
       "1         0.190324            0.06331            0.127014            1  \n",
       "2         0.190324            0.06331            0.127014            2  \n",
       "3         0.190324            0.06331            0.127014            3  "
      ]
     },
     "execution_count": 1041,
     "metadata": {},
     "output_type": "execute_result"
    }
   ],
   "source": [
    "# separate school districts with (a) pd data and (b)those that do not\n",
    "df_crimerate_refshape_pd = df_crimerate_refshape[~ pd.isnull(df_crimerate_refshape['crimerate_total']) ]\n",
    "df_crimerate_refshape_pd['refshpindex']=df_crimerate_refshape_pd.index.values\n",
    "print len(df_crimerate_refshape_pd)\n",
    "df_crimerate_refshape_pd[:3]"
   ]
  },
  {
   "cell_type": "code",
   "execution_count": 1042,
   "metadata": {
    "collapsed": false
   },
   "outputs": [
    {
     "name": "stdout",
     "output_type": "stream",
     "text": [
      "386\n"
     ]
    },
    {
     "data": {
      "text/html": [
       "<div>\n",
       "<table border=\"1\" class=\"dataframe\">\n",
       "  <thead>\n",
       "    <tr style=\"text-align: right;\">\n",
       "      <th></th>\n",
       "      <th>name</th>\n",
       "      <th>county</th>\n",
       "      <th>geometry</th>\n",
       "      <th>PD</th>\n",
       "      <th>refshpindex</th>\n",
       "    </tr>\n",
       "  </thead>\n",
       "  <tbody>\n",
       "    <tr>\n",
       "      <th>0</th>\n",
       "      <td>North Shore Central School District</td>\n",
       "      <td>Nassau</td>\n",
       "      <td>POLYGON ((-73.67107299999999 40.859299, -73.65...</td>\n",
       "      <td>NaN</td>\n",
       "      <td>0</td>\n",
       "    </tr>\n",
       "    <tr>\n",
       "      <th>4</th>\n",
       "      <td>Bradford Central School District</td>\n",
       "      <td>Schuyler</td>\n",
       "      <td>POLYGON ((-77.188081 42.376986, -77.182283 42....</td>\n",
       "      <td>NaN</td>\n",
       "      <td>4</td>\n",
       "    </tr>\n",
       "    <tr>\n",
       "      <th>5</th>\n",
       "      <td>Hammondsport Central School District</td>\n",
       "      <td>Steuben</td>\n",
       "      <td>POLYGON ((-77.285324 42.395859, -77.283485 42....</td>\n",
       "      <td>NaN</td>\n",
       "      <td>5</td>\n",
       "    </tr>\n",
       "  </tbody>\n",
       "</table>\n",
       "</div>"
      ],
      "text/plain": [
       "                                   name    county  \\\n",
       "0   North Shore Central School District    Nassau   \n",
       "4      Bradford Central School District  Schuyler   \n",
       "5  Hammondsport Central School District   Steuben   \n",
       "\n",
       "                                            geometry   PD  refshpindex  \n",
       "0  POLYGON ((-73.67107299999999 40.859299, -73.65...  NaN            0  \n",
       "4  POLYGON ((-77.188081 42.376986, -77.182283 42....  NaN            4  \n",
       "5  POLYGON ((-77.285324 42.395859, -77.283485 42....  NaN            5  "
      ]
     },
     "execution_count": 1042,
     "metadata": {},
     "output_type": "execute_result"
    }
   ],
   "source": [
    "df_crimerate_refshape_nopd = df_crimerate_refshape[pd.isnull(df_crimerate_refshape['crimerate_total'])][['name','county','geometry','PD']]\n",
    "df_crimerate_refshape_nopd['refshpindex']=df_crimerate_refshape_nopd.index.values\n",
    "print len(df_crimerate_refshape_nopd)\n",
    "df_crimerate_refshape_nopd[:3]"
   ]
  },
  {
   "cell_type": "code",
   "execution_count": 1045,
   "metadata": {
    "collapsed": false
   },
   "outputs": [
    {
     "name": "stdout",
     "output_type": "stream",
     "text": [
      "386\n"
     ]
    },
    {
     "data": {
      "text/html": [
       "<div>\n",
       "<table border=\"1\" class=\"dataframe\">\n",
       "  <thead>\n",
       "    <tr style=\"text-align: right;\">\n",
       "      <th></th>\n",
       "      <th>name</th>\n",
       "      <th>county</th>\n",
       "      <th>geometry</th>\n",
       "      <th>PD</th>\n",
       "      <th>refshpindex</th>\n",
       "      <th>crimerate_total</th>\n",
       "      <th>crimerate_violent</th>\n",
       "      <th>crimerate_property</th>\n",
       "    </tr>\n",
       "  </thead>\n",
       "  <tbody>\n",
       "    <tr>\n",
       "      <th>0</th>\n",
       "      <td>North Shore Central School District</td>\n",
       "      <td>Nassau</td>\n",
       "      <td>POLYGON ((-73.67107299999999 40.859299, -73.65...</td>\n",
       "      <td>NaN</td>\n",
       "      <td>0</td>\n",
       "      <td>1.319789</td>\n",
       "      <td>0.152516</td>\n",
       "      <td>1.167273</td>\n",
       "    </tr>\n",
       "    <tr>\n",
       "      <th>1</th>\n",
       "      <td>Bradford Central School District</td>\n",
       "      <td>Schuyler</td>\n",
       "      <td>POLYGON ((-77.188081 42.376986, -77.182283 42....</td>\n",
       "      <td>NaN</td>\n",
       "      <td>4</td>\n",
       "      <td>0.899526</td>\n",
       "      <td>0.054517</td>\n",
       "      <td>0.845009</td>\n",
       "    </tr>\n",
       "    <tr>\n",
       "      <th>2</th>\n",
       "      <td>Hammondsport Central School District</td>\n",
       "      <td>Steuben</td>\n",
       "      <td>POLYGON ((-77.285324 42.395859, -77.283485 42....</td>\n",
       "      <td>NaN</td>\n",
       "      <td>5</td>\n",
       "      <td>1.491060</td>\n",
       "      <td>0.112133</td>\n",
       "      <td>1.378927</td>\n",
       "    </tr>\n",
       "  </tbody>\n",
       "</table>\n",
       "</div>"
      ],
      "text/plain": [
       "                                   name    county  \\\n",
       "0   North Shore Central School District    Nassau   \n",
       "1      Bradford Central School District  Schuyler   \n",
       "2  Hammondsport Central School District   Steuben   \n",
       "\n",
       "                                            geometry   PD  refshpindex  \\\n",
       "0  POLYGON ((-73.67107299999999 40.859299, -73.65...  NaN            0   \n",
       "1  POLYGON ((-77.188081 42.376986, -77.182283 42....  NaN            4   \n",
       "2  POLYGON ((-77.285324 42.395859, -77.283485 42....  NaN            5   \n",
       "\n",
       "   crimerate_total  crimerate_violent  crimerate_property  \n",
       "0         1.319789           0.152516            1.167273  \n",
       "1         0.899526           0.054517            0.845009  \n",
       "2         1.491060           0.112133            1.378927  "
      ]
     },
     "execution_count": 1045,
     "metadata": {},
     "output_type": "execute_result"
    }
   ],
   "source": [
    "# for those with no police districts assigned, use the county average\n",
    "# left join so all refshapes are listed even if no merge val found\n",
    "t2 = pd.merge(df_crimerate_refshape_nopd,df_county_crimerate[['County','crimerate_total','crimerate_violent','crimerate_property']], left_on='county',right_on='County',how='left')\n",
    "del t2['County']\n",
    "print len(t2)\n",
    "t2[:3]"
   ]
  },
  {
   "cell_type": "code",
   "execution_count": 1046,
   "metadata": {
    "collapsed": false
   },
   "outputs": [
    {
     "name": "stdout",
     "output_type": "stream",
     "text": [
      "672\n"
     ]
    },
    {
     "data": {
      "text/html": [
       "<div>\n",
       "<table border=\"1\" class=\"dataframe\">\n",
       "  <thead>\n",
       "    <tr style=\"text-align: right;\">\n",
       "      <th></th>\n",
       "      <th>PD</th>\n",
       "      <th>county</th>\n",
       "      <th>crimerate_property</th>\n",
       "      <th>crimerate_total</th>\n",
       "      <th>crimerate_violent</th>\n",
       "      <th>geometry</th>\n",
       "      <th>name</th>\n",
       "      <th>refshpindex</th>\n",
       "    </tr>\n",
       "    <tr>\n",
       "      <th>refshpindex</th>\n",
       "      <th></th>\n",
       "      <th></th>\n",
       "      <th></th>\n",
       "      <th></th>\n",
       "      <th></th>\n",
       "      <th></th>\n",
       "      <th></th>\n",
       "      <th></th>\n",
       "    </tr>\n",
       "  </thead>\n",
       "  <tbody>\n",
       "    <tr>\n",
       "      <th>1</th>\n",
       "      <td>Hempstead Vg PD</td>\n",
       "      <td>Nassau</td>\n",
       "      <td>0.127014</td>\n",
       "      <td>0.190324</td>\n",
       "      <td>0.06331</td>\n",
       "      <td>POLYGON ((-73.50683099999999 40.666806, -73.50...</td>\n",
       "      <td>Seaford Union Free School District</td>\n",
       "      <td>1</td>\n",
       "    </tr>\n",
       "    <tr>\n",
       "      <th>2</th>\n",
       "      <td>Hempstead Vg PD</td>\n",
       "      <td>Nassau</td>\n",
       "      <td>0.127014</td>\n",
       "      <td>0.190324</td>\n",
       "      <td>0.06331</td>\n",
       "      <td>POLYGON ((-73.619737 40.68251799999999, -73.61...</td>\n",
       "      <td>Uniondale Union Free School District</td>\n",
       "      <td>2</td>\n",
       "    </tr>\n",
       "    <tr>\n",
       "      <th>3</th>\n",
       "      <td>Hempstead Vg PD</td>\n",
       "      <td>NaN</td>\n",
       "      <td>0.127014</td>\n",
       "      <td>0.190324</td>\n",
       "      <td>0.06331</td>\n",
       "      <td>POLYGON ((-73.52614799999999 40.691816, -73.52...</td>\n",
       "      <td>Wantagh Union Free School District</td>\n",
       "      <td>3</td>\n",
       "    </tr>\n",
       "  </tbody>\n",
       "</table>\n",
       "</div>"
      ],
      "text/plain": [
       "                          PD  county  crimerate_property  crimerate_total  \\\n",
       "refshpindex                                                                 \n",
       "1            Hempstead Vg PD  Nassau            0.127014         0.190324   \n",
       "2            Hempstead Vg PD  Nassau            0.127014         0.190324   \n",
       "3            Hempstead Vg PD     NaN            0.127014         0.190324   \n",
       "\n",
       "             crimerate_violent  \\\n",
       "refshpindex                      \n",
       "1                      0.06331   \n",
       "2                      0.06331   \n",
       "3                      0.06331   \n",
       "\n",
       "                                                      geometry  \\\n",
       "refshpindex                                                      \n",
       "1            POLYGON ((-73.50683099999999 40.666806, -73.50...   \n",
       "2            POLYGON ((-73.619737 40.68251799999999, -73.61...   \n",
       "3            POLYGON ((-73.52614799999999 40.691816, -73.52...   \n",
       "\n",
       "                                             name  refshpindex  \n",
       "refshpindex                                                     \n",
       "1              Seaford Union Free School District            1  \n",
       "2            Uniondale Union Free School District            2  \n",
       "3              Wantagh Union Free School District            3  "
      ]
     },
     "execution_count": 1046,
     "metadata": {},
     "output_type": "execute_result"
    }
   ],
   "source": [
    "df_crimerate_refshape_join = pd.concat([df_crimerate_refshape_pd,t2])\n",
    "df_crimerate_refshape_join.index=df_crimerate_refshape_join['refshpindex']\n",
    "print len(df_crimerate_refshape_join)\n",
    "df_crimerate_refshape_join[:3]\n"
   ]
  },
  {
   "cell_type": "code",
   "execution_count": 1026,
   "metadata": {
    "collapsed": false
   },
   "outputs": [
    {
     "data": {
      "text/html": [
       "<div>\n",
       "<table border=\"1\" class=\"dataframe\">\n",
       "  <thead>\n",
       "    <tr style=\"text-align: right;\">\n",
       "      <th></th>\n",
       "      <th>PD</th>\n",
       "      <th>county</th>\n",
       "      <th>crimerate_property</th>\n",
       "      <th>crimerate_total</th>\n",
       "      <th>crimerate_violent</th>\n",
       "      <th>geometry</th>\n",
       "      <th>name</th>\n",
       "      <th>refshpindex</th>\n",
       "    </tr>\n",
       "    <tr>\n",
       "      <th>refshpindex</th>\n",
       "      <th></th>\n",
       "      <th></th>\n",
       "      <th></th>\n",
       "      <th></th>\n",
       "      <th></th>\n",
       "      <th></th>\n",
       "      <th></th>\n",
       "      <th></th>\n",
       "    </tr>\n",
       "  </thead>\n",
       "  <tbody>\n",
       "    <tr>\n",
       "      <th>1</th>\n",
       "      <td>Hempstead Vg PD</td>\n",
       "      <td>Nassau</td>\n",
       "      <td>0.127014</td>\n",
       "      <td>0.190324</td>\n",
       "      <td>0.06331</td>\n",
       "      <td>POLYGON ((-73.50683099999999 40.666806, -73.50...</td>\n",
       "      <td>Seaford Union Free School District</td>\n",
       "      <td>1</td>\n",
       "    </tr>\n",
       "  </tbody>\n",
       "</table>\n",
       "</div>"
      ],
      "text/plain": [
       "                          PD  county  crimerate_property  crimerate_total  \\\n",
       "refshpindex                                                                 \n",
       "1            Hempstead Vg PD  Nassau            0.127014         0.190324   \n",
       "\n",
       "             crimerate_violent  \\\n",
       "refshpindex                      \n",
       "1                      0.06331   \n",
       "\n",
       "                                                      geometry  \\\n",
       "refshpindex                                                      \n",
       "1            POLYGON ((-73.50683099999999 40.666806, -73.50...   \n",
       "\n",
       "                                           name  refshpindex  \n",
       "refshpindex                                                   \n",
       "1            Seaford Union Free School District            1  "
      ]
     },
     "execution_count": 1026,
     "metadata": {},
     "output_type": "execute_result"
    }
   ],
   "source": [
    "df_crimerate_refshape_join[df_crimerate_refshape_join.index.values==1]\n"
   ]
  },
  {
   "cell_type": "code",
   "execution_count": 1050,
   "metadata": {
    "collapsed": true
   },
   "outputs": [],
   "source": [
    "# save the data\n",
    "dill.dump(df_crimerate_refshape_join,open('../OUTDATA/refshape_crime2014.dill','wb'))\n"
   ]
  },
  {
   "cell_type": "markdown",
   "metadata": {},
   "source": [
    "# Plotting with Folium"
   ]
  },
  {
   "cell_type": "code",
   "execution_count": 1047,
   "metadata": {
    "collapsed": false
   },
   "outputs": [],
   "source": [
    "crs = crs = {'init': 'epsg:4326', 'no_defs': True}\n",
    "geo_df = gpd.GeoDataFrame(df_crimerate_refshape_join, crs=crs)\n",
    "geo_str = geo_df.to_json()"
   ]
  },
  {
   "cell_type": "code",
   "execution_count": 1048,
   "metadata": {
    "collapsed": false
   },
   "outputs": [
    {
     "name": "stdout",
     "output_type": "stream",
     "text": [
      "count    657.000000\n",
      "mean       1.704280\n",
      "std        2.075190\n",
      "min        0.000000\n",
      "25%        0.911491\n",
      "50%        1.523083\n",
      "75%        2.112267\n",
      "max       47.045730\n",
      "Name: crimerate_total, dtype: float64\n"
     ]
    }
   ],
   "source": [
    "print geo_df['crimerate_total'].describe()"
   ]
  },
  {
   "cell_type": "code",
   "execution_count": 1031,
   "metadata": {
    "collapsed": false
   },
   "outputs": [],
   "source": [
    "# function to provide color (from colorbrewer)\n",
    "def getColor(d):\n",
    "    if d > 5: \n",
    "        return '#8e0152'\n",
    "#    elif d > 45:\n",
    "#        return '#c51b7d'\n",
    "    elif d > 2.5:\n",
    "        return '#de77ae'\n",
    "    elif d > 2:\n",
    "        return '#f1b6da'\n",
    "#    elif d > 2.5:\n",
    "#        return '#fde0ef'\n",
    "    elif d > 1.5:\n",
    "        return '#f7f7f7' \n",
    "    elif d > 1:\n",
    "        return '#e6f5d0'\n",
    "    elif d > 0.5:\n",
    "        return '#b8e186'\n",
    "#    elif d > .5:    \n",
    "#        return '#7fbc41'\n",
    "    elif d > 0: \n",
    "        return '#4d9221'\n",
    "    return '#d9d9d9'"
   ]
  },
  {
   "cell_type": "code",
   "execution_count": 1051,
   "metadata": {
    "collapsed": false,
    "scrolled": false
   },
   "outputs": [],
   "source": [
    "#\n",
    "m = folium.Map([40.6,-73.938], zoom_start=8,tiles='cartodbpositron')\n",
    "\n",
    "folium.GeoJson(geo_df,    style_function=lambda feature: {\n",
    "        'fillColor': getColor(feature['properties']['crimerate_total']),\n",
    "        'color' : 'black',\n",
    "        'weight' : 1,\n",
    "        'fillOpacity':1, 'opacity':0.2\n",
    "        }\n",
    "              ).add_to(m)\n",
    "path='crimemap.html'\n",
    "m.save(path)\n"
   ]
  },
  {
   "cell_type": "code",
   "execution_count": 997,
   "metadata": {
    "collapsed": false
   },
   "outputs": [
    {
     "name": "stdout",
     "output_type": "stream",
     "text": [
      "{\"type\": \"FeatureCollection\", \"features\": [{\"geometry\": {\"type\": \"Point\", \"coordinates\": [1.0, 1.0]}, \"type\": \"Feature\", \"id\": \"0\", \"properties\": {\"state\": \"a\", \"score\": 0}}, {\"geometry\": {\"type\": \"Point\", \"coordinates\": [3.0, 3.0]}, \"type\": \"Feature\", \"id\": \"1\", \"properties\": {\"state\": \"b\", \"score\": 1}}, {\"geometry\": {\"type\": \"Point\", \"coordinates\": [4.0, 5.0]}, \"type\": \"Feature\", \"id\": \"2\", \"properties\": {\"state\": \"c\", \"score\": 2}}, {\"geometry\": {\"type\": \"Point\", \"coordinates\": [2.0, 2.0]}, \"type\": \"Feature\", \"id\": \"3\", \"properties\": {\"state\": \"d\", \"score\": 3}}]}\n"
     ]
    }
   ],
   "source": [
    "#testing\n",
    "t = gpd.GeoDataFrame({'state':['a','b','c','d'],'score':range(4),'geometry':[Point(1,1),Point(3,3),Point(4,5),Point(2,2)]})\n",
    "jstring = t.to_json()\n",
    "print jstring"
   ]
  }
 ],
 "metadata": {
  "kernelspec": {
   "display_name": "Python 2",
   "language": "python",
   "name": "python2"
  },
  "language_info": {
   "codemirror_mode": {
    "name": "ipython",
    "version": 2
   },
   "file_extension": ".py",
   "mimetype": "text/x-python",
   "name": "python",
   "nbconvert_exporter": "python",
   "pygments_lexer": "ipython2",
   "version": "2.7.11"
  }
 },
 "nbformat": 4,
 "nbformat_minor": 0
}
